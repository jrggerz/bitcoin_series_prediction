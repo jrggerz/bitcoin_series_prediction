{
 "cells": [
  {
   "cell_type": "code",
   "execution_count": 12,
   "metadata": {},
   "outputs": [],
   "source": [
    "#import libraries\n",
    "import requests, zipfile\n",
    "import pandas as pd\n",
    "import io\n",
    "import os\n",
    "import numpy as np \n",
    "import tensorflow as tf\n",
    "from matplotlib import pyplot as plt\n",
    "from io import StringIO\n",
    "import itertools as it\n",
    "from datetime import datetime\n",
    "import sklearn as sklearn\n",
    "np.set_printoptions(threshold=sys.maxsize)\n",
    "from sklearn.metrics import mean_squared_error, mean_absolute_error, explained_variance_score, r2_score \n",
    "from sklearn.metrics import mean_poisson_deviance, mean_gamma_deviance, accuracy_score\n",
    "from sklearn.preprocessing import MinMaxScaler"
   ]
  },
  {
   "cell_type": "code",
   "execution_count": 13,
   "metadata": {},
   "outputs": [
    {
     "name": "stdout",
     "output_type": "stream",
     "text": [
      "https://data.binance.vision/data/spot/daily/klines/BTCBUSD/4h/BTCBUSD-4h-\n"
     ]
    }
   ],
   "source": [
    "#declare global variables \n",
    "daily_monthly = 'daily'\n",
    "time_lapse = '4h'\n",
    "bitcoin_par = 'BTCBUSD'\n",
    "year_2022 = '2022-'\n",
    "year_2023 = '2023-'\n",
    "url = 'https://data.binance.vision/data/spot/'+daily_monthly+'/klines/'+bitcoin_par+'/'+time_lapse+'/'+bitcoin_par+'-'+time_lapse+'-'\n",
    "zip = '.zip'\n",
    "#https://data.binance.vision/data/spot/daily/klines/BTCBUSD/4h/BTCBUSD-4h-\n",
    "print(url)"
   ]
  },
  {
   "cell_type": "code",
   "execution_count": 7,
   "metadata": {},
   "outputs": [
    {
     "data": {
      "text/plain": [
       "'\\nx = np.array([], dtype=np.uint32)\\ny = np.array([], dtype=np.uint32)\\n#download the data and unzip\\ntry:\\n    for year_loop in range(2021, 2024):\\n        for month_loop in range(1, 13):\\n            if month_loop in (1,3,5,7,8,10,12):\\n                days_range = 32\\n            elif month_loop in (4,6,9,11):\\n                days_range = 31\\n            else:\\n                days_range = 29\\n            month_inloop =  \\'0\\'+str(month_loop) if month_loop < 10 else str(month_loop)\\n            for day_loop in range(1, days_range):#days_range\\n                day_inloop = \\'0\\'+str(day_loop) if day_loop < 10 else str(day_loop)\\n                url_loop = url+str(year_loop)+\\'-\\'+str(month_inloop)+\\'-\\'+str(day_inloop)+zip\\n                #print(url_loop)\\n                #requeset info from binance\\n                #req_loop = requests.get(url_loop, stream=True)\\n                #print(req_loop.status_code)\\n                if  ((year_loop  >= 2021 and month_loop >= 3)):#and (year_loop <= 2023 and month_loop <= 1 and day_loop <= 5)\\n                    #z = zipfile.ZipFile(io.BytesIO(req_loop.content))\\n                    #z.extractall(os.path.join(os.getcwd(), \\'data-btc\\'))\\n                    csv_name_loop = bitcoin_par+\\'-\\'+time_lapse+\\'-\\'+str(year_loop)+\\'-\\'+str(month_inloop)+\\'-\\'+str(day_inloop)+\\'.csv\\'\\n                    print(csv_name_loop)\\n                    df  =    pd.read_csv(os.path.join(os.getcwd(), \\'data-btc\\', csv_name_loop)\\n                    , header = None\\n                    , names = [\\'Open time\\', \\'Open\\', \\'High\\', \\'Low\\', \\'Close\\', \\'Volume\\', \\'Close time\\', \\'Quote asset volume\\', \\'Number of trades\\', \\'Taker buy base asset volume\\', \\'Taker buy quote asset volume\\', \\'ignore\\'])\\n                    x_time = df[[\\'Open time\\']].to_numpy(dtype = np.float32)\\n                    x = np.append(x, x_time)\\n                    y_price_high = df[[\\'High\\']].to_numpy(dtype = np.float32)\\n                    y_price_close = df[[\\'Low\\']].to_numpy(dtype = np.float32)\\n                    y_promedio = np.add(y_price_high, y_price_close)\\n                    y_promedio =  y_promedio/2\\n                    y = np.append(y, y_promedio)\\nexcept:\\n    print(\"Error\")\\n#print(df.shape)\\n#df.head\\n'"
      ]
     },
     "execution_count": 7,
     "metadata": {},
     "output_type": "execute_result"
    }
   ],
   "source": [
    "'''\n",
    "x = np.array([], dtype=np.uint32)\n",
    "y = np.array([], dtype=np.uint32)\n",
    "#download the data and unzip\n",
    "try:\n",
    "    for year_loop in range(2021, 2024):\n",
    "        for month_loop in range(1, 13):\n",
    "            if month_loop in (1,3,5,7,8,10,12):\n",
    "                days_range = 32\n",
    "            elif month_loop in (4,6,9,11):\n",
    "                days_range = 31\n",
    "            else:\n",
    "                days_range = 29\n",
    "            month_inloop =  '0'+str(month_loop) if month_loop < 10 else str(month_loop)\n",
    "            for day_loop in range(1, days_range):#days_range\n",
    "                day_inloop = '0'+str(day_loop) if day_loop < 10 else str(day_loop)\n",
    "                url_loop = url+str(year_loop)+'-'+str(month_inloop)+'-'+str(day_inloop)+zip\n",
    "                #print(url_loop)\n",
    "                #requeset info from binance\n",
    "                #req_loop = requests.get(url_loop, stream=True)\n",
    "                #print(req_loop.status_code)\n",
    "                if  ((year_loop  >= 2021 and month_loop >= 3)):#and (year_loop <= 2023 and month_loop <= 1 and day_loop <= 5)\n",
    "                    #z = zipfile.ZipFile(io.BytesIO(req_loop.content))\n",
    "                    #z.extractall(os.path.join(os.getcwd(), 'data-btc'))\n",
    "                    csv_name_loop = bitcoin_par+'-'+time_lapse+'-'+str(year_loop)+'-'+str(month_inloop)+'-'+str(day_inloop)+'.csv'\n",
    "                    print(csv_name_loop)\n",
    "                    df  =    pd.read_csv(os.path.join(os.getcwd(), 'data-btc', csv_name_loop)\n",
    "                    , header = None\n",
    "                    , names = ['Open time', 'Open', 'High', 'Low', 'Close', 'Volume', 'Close time', 'Quote asset volume', 'Number of trades', 'Taker buy base asset volume', 'Taker buy quote asset volume', 'ignore'])\n",
    "                    x_time = df[['Open time']].to_numpy(dtype = np.float32)\n",
    "                    x = np.append(x, x_time)\n",
    "                    y_price_high = df[['High']].to_numpy(dtype = np.float32)\n",
    "                    y_price_close = df[['Low']].to_numpy(dtype = np.float32)\n",
    "                    y_promedio = np.add(y_price_high, y_price_close)\n",
    "                    y_promedio =  y_promedio/2\n",
    "                    y = np.append(y, y_promedio)\n",
    "except:\n",
    "    print(\"Error\")\n",
    "#print(df.shape)\n",
    "#df.head\n",
    "'''\n"
   ]
  },
  {
   "cell_type": "code",
   "execution_count": 55,
   "metadata": {},
   "outputs": [],
   "source": [
    "x = np.array([], dtype=np.uint32)\n",
    "y = np.array([], dtype=np.uint32)\n",
    "#download and charge 2021 from month 3 to month 12\n",
    "for month_loop in range (3, 12):\n",
    "    if month_loop in (1,3,5,7,8,10,12):\n",
    "        days_range = 32\n",
    "    elif month_loop in (4,6,9,11):\n",
    "        days_range = 31\n",
    "    else:\n",
    "        days_range = 29\n",
    "    month_inloop =  '0'+str(month_loop) if month_loop < 10 else str(month_loop)\n",
    "    for day_loop in range(1, days_range):#days_range\n",
    "        day_inloop = '0'+str(day_loop) if day_loop < 10 else str(day_loop)\n",
    "        url_loop = url+str(2021)+'-'+str(month_inloop)+'-'+str(day_inloop)+zip\n",
    "        #print(url_loop)\n",
    "        #requeset info from binance\n",
    "        #req_loop = requests.get(url_loop, stream=True)\n",
    "        #print(req_loop.status_code)\n",
    "        z = zipfile.ZipFile(io.BytesIO(req_loop.content))\n",
    "        z.extractall(os.path.join(os.getcwd(), 'data-btc'))\n",
    "        csv_name_loop = bitcoin_par+'-'+time_lapse+'-'+str(2021)+'-'+str(month_inloop)+'-'+str(day_inloop)+'.csv'\n",
    "        #print(csv_name_loop)\n",
    "        df  =    pd.read_csv(os.path.join(os.getcwd(), 'data-btc', csv_name_loop)\n",
    "        , header = None\n",
    "        , names = ['Open time', 'Open', 'High', 'Low', 'Close', 'Volume', 'Close time', 'Quote asset volume', 'Number of trades', 'Taker buy base asset volume', 'Taker buy quote asset volume', 'ignore'])\n",
    "        x_time = df[['Open time']].to_numpy(dtype = np.float32)\n",
    "        x = np.append(x, x_time)\n",
    "        y_price_high = df[['High']].to_numpy(dtype = np.float32)\n",
    "        y_price_close = df[['Low']].to_numpy(dtype = np.float32)\n",
    "        y_promedio = np.add(y_price_high, y_price_close)\n",
    "        y_promedio =  y_promedio/2\n",
    "        y = np.append(y, y_promedio)\n",
    "        \n",
    "#download and charge 2022 all the motnhs\n",
    "for month_loop in range (1, 12):\n",
    "    if month_loop in (1,3,5,7,8,10,12):\n",
    "        days_range = 32\n",
    "    elif month_loop in (4,6,9,11):\n",
    "        days_range = 31\n",
    "    else:\n",
    "        days_range = 29\n",
    "    month_inloop =  '0'+str(month_loop) if month_loop < 10 else str(month_loop)\n",
    "    for day_loop in range(1, days_range):#days_range\n",
    "        day_inloop = '0'+str(day_loop) if day_loop < 10 else str(day_loop)\n",
    "        url_loop = url+str(2022)+'-'+str(month_inloop)+'-'+str(day_inloop)+zip\n",
    "        #print(url_loop)\n",
    "        #requeset info from binance\n",
    "        #req_loop = requests.get(url_loop, stream=True)\n",
    "        #print(req_loop.status_code)\n",
    "        z = zipfile.ZipFile(io.BytesIO(req_loop.content))\n",
    "        z.extractall(os.path.join(os.getcwd(), 'data-btc'))\n",
    "        csv_name_loop = bitcoin_par+'-'+time_lapse+'-'+str(2022)+'-'+str(month_inloop)+'-'+str(day_inloop)+'.csv'\n",
    "        #print(csv_name_loop)\n",
    "        df  =    pd.read_csv(os.path.join(os.getcwd(), 'data-btc', csv_name_loop)\n",
    "        , header = None\n",
    "        , names = ['Open time', 'Open', 'High', 'Low', 'Close', 'Volume', 'Close time', 'Quote asset volume', 'Number of trades', 'Taker buy base asset volume', 'Taker buy quote asset volume', 'ignore'])\n",
    "        x_time = df[['Open time']].to_numpy(dtype = np.float32)\n",
    "        x = np.append(x, x_time)\n",
    "        y_price_high = df[['High']].to_numpy(dtype = np.float32)\n",
    "        y_price_close = df[['Low']].to_numpy(dtype = np.float32)\n",
    "        y_promedio = np.add(y_price_high, y_price_close)\n",
    "        y_promedio =  y_promedio/2\n",
    "        y = np.append(y, y_promedio)\n",
    "#download and charge 2023 in order of the days \n",
    "for month_loop in range (1, 2):\n",
    "    if month_loop in (1,3,5,7,8,10,12):\n",
    "        days_range = 32\n",
    "    elif month_loop in (4,6,9,11):\n",
    "        days_range = 31\n",
    "    else:\n",
    "        days_range = 29\n",
    "    month_inloop =  '0'+str(month_loop) if month_loop < 10 else str(month_loop)\n",
    "    for day_loop in range(1, 5):#days_range\n",
    "        day_inloop = '0'+str(day_loop) if day_loop < 10 else str(day_loop)\n",
    "        url_loop = url+str(2023)+'-'+str(month_inloop)+'-'+str(day_inloop)+zip\n",
    "        #print(url_loop)\n",
    "        #requeset info from binance\n",
    "        #req_loop = requests.get(url_loop, stream=True)\n",
    "        #print(req_loop.status_code)\n",
    "        z = zipfile.ZipFile(io.BytesIO(req_loop.content))\n",
    "        z.extractall(os.path.join(os.getcwd(), 'data-btc'))\n",
    "        csv_name_loop = bitcoin_par+'-'+time_lapse+'-'+str(2023)+'-'+str(month_inloop)+'-'+str(day_inloop)+'.csv'\n",
    "        #print(csv_name_loop)\n",
    "        df  =    pd.read_csv(os.path.join(os.getcwd(), 'data-btc', csv_name_loop)\n",
    "        , header = None\n",
    "        , names = ['Open time', 'Open', 'High', 'Low', 'Close', 'Volume', 'Close time', 'Quote asset volume', 'Number of trades', 'Taker buy base asset volume', 'Taker buy quote asset volume', 'ignore'])\n",
    "        x_time = df[['Open time']].to_numpy(dtype = np.float32)\n",
    "        x = np.append(x, x_time)\n",
    "        y_price_high = df[['High']].to_numpy(dtype = np.float32)\n",
    "        y_price_close = df[['Low']].to_numpy(dtype = np.float32)\n",
    "        y_promedio = np.add(y_price_high, y_price_close)\n",
    "        y_promedio =  y_promedio/2\n",
    "        y = np.append(y, y_promedio)\n"
   ]
  },
  {
   "cell_type": "code",
   "execution_count": 56,
   "metadata": {},
   "outputs": [],
   "source": [
    "df_scal = pd.DataFrame(y)\n",
    "scaler = MinMaxScaler(feature_range=(0,1))\n",
    "y_close=scaler.fit_transform(np.array(df_scal).reshape(-1,1))"
   ]
  },
  {
   "cell_type": "code",
   "execution_count": 57,
   "metadata": {},
   "outputs": [
    {
     "name": "stdout",
     "output_type": "stream",
     "text": [
      "(3678,)\n"
     ]
    },
    {
     "data": {
      "image/png": "[encoded data removed]",
      "text/plain": [
       "<Figure size 640x480 with 1 Axes>"
      ]
     },
     "metadata": {},
     "output_type": "display_data"
    }
   ],
   "source": [
    "print(y.shape)\n",
    "#plt.plot(x, y)\n",
    "plt.plot(x, y_close)\n",
    "plt.show()"
   ]
  },
  {
   "cell_type": "code",
   "execution_count": 58,
   "metadata": {},
   "outputs": [
    {
     "name": "stdout",
     "output_type": "stream",
     "text": [
      "(3678,)\n"
     ]
    },
    {
     "data": {
      "image/png": "[encoded data removed]",
      "text/plain": [
       "<Figure size 640x480 with 1 Axes>"
      ]
     },
     "metadata": {},
     "output_type": "display_data"
    }
   ],
   "source": [
    "def cast_time_data(np_array):\n",
    "    x_new_time = []\n",
    "    for time_unix in np_array:\n",
    "        new_time = int(str(time_unix)[0:10])\n",
    "        unixToDatetime = datetime.fromtimestamp(new_time).strftime('%Y-%m-%d %H:%M:%S')\n",
    "        x_new_time.append(unixToDatetime)\n",
    "    return np.array(x_new_time)\n",
    "x_new_time = cast_time_data(x)\n",
    "print(x_new_time.shape)\n",
    "plt.plot(x_new_time, y)\n",
    "plt.show()"
   ]
  },
  {
   "cell_type": "code",
   "execution_count": 59,
   "metadata": {},
   "outputs": [],
   "source": [
    "def prepare_y_series(np_array, series_size = 10):\n",
    "    x_series = []\n",
    "    y_series = []\n",
    "    for y_val in range(len(np_array)-series_size):\n",
    "        x_series.append([[a] for a in np_array[y_val:y_val+series_size]])\n",
    "        y_series.append(np_array[y_val+series_size])\n",
    "        #print(np_array[y_val+series_size])\n",
    "    #print(np.array(y_series))\n",
    "    return np.array(x_series), np.array(y_series)\n",
    "x_series_def, y_series_def = prepare_y_series(y_close)\n",
    "#prepare_data_in_percentage\n",
    "nint_perc = int(len(x_series_def)*.90)\n",
    "nintfive_perc = int(len(x_series_def)*.95)\n",
    "hun_perc = int(len(x_series_def)*1.0)\n",
    "x_train, y_train = x_series_def[:nint_perc], y_series_def[:nint_perc]\n",
    "x_valid, y_valid = x_series_def[nint_perc:hun_perc], y_series_def[nint_perc:hun_perc]\n",
    "x_test, y_test = x_series_def[nintfive_perc:hun_perc], y_series_def[nintfive_perc:hun_perc]\n",
    "x_plt_train = x[:nint_perc]\n",
    "x_plt_valid = x[nint_perc:nintfive_perc]\n",
    "x_plt_test = x[nintfive_perc:hun_perc]"
   ]
  },
  {
   "cell_type": "code",
   "execution_count": 60,
   "metadata": {},
   "outputs": [
    {
     "name": "stdout",
     "output_type": "stream",
     "text": [
      "Model: \"sequential_4\"\n",
      "_________________________________________________________________\n",
      " Layer (type)                Output Shape              Param #   \n",
      "=================================================================\n",
      " lstm_4 (LSTM)               (None, 64)                16896     \n",
      "                                                                 \n",
      " dense_8 (Dense)             (None, 8)                 520       \n",
      "                                                                 \n",
      " dense_9 (Dense)             (None, 1)                 9         \n",
      "                                                                 \n",
      "=================================================================\n",
      "Total params: 17,425\n",
      "Trainable params: 17,425\n",
      "Non-trainable params: 0\n",
      "_________________________________________________________________\n"
     ]
    }
   ],
   "source": [
    "#new maderfucking model\n",
    "mamfmodel = tf.keras.models.Sequential()\n",
    "mamfmodel.add(tf.keras.layers.InputLayer((10, 1)))\n",
    "mamfmodel.add(tf.keras.layers.LSTM(units = 64))\n",
    "mamfmodel.add(tf.keras.layers.Dense(8, 'relu'))\n",
    "mamfmodel.add(tf.keras.layers.Dense(1, 'linear'))\n",
    "mamfmodel.summary()"
   ]
  },
  {
   "cell_type": "code",
   "execution_count": 61,
   "metadata": {},
   "outputs": [
    {
     "name": "stdout",
     "output_type": "stream",
     "text": [
      "Epoch 1/150\n",
      " 91/104 [=========================>....] - ETA: 0s - loss: 0.0909 - root_mean_squared_error: 0.3015"
     ]
    },
    {
     "name": "stderr",
     "output_type": "stream",
     "text": [
      "WARNING:absl:Found untraced functions such as _update_step_xla, lstm_cell_4_layer_call_fn, lstm_cell_4_layer_call_and_return_conditional_losses while saving (showing 3 of 3). These functions will not be directly callable after loading.\n"
     ]
    },
    {
     "name": "stdout",
     "output_type": "stream",
     "text": [
      "INFO:tensorflow:Assets written to: mamfmodel\\assets\n"
     ]
    },
    {
     "name": "stderr",
     "output_type": "stream",
     "text": [
      "INFO:tensorflow:Assets written to: mamfmodel\\assets\n"
     ]
    },
    {
     "name": "stdout",
     "output_type": "stream",
     "text": [
      "104/104 [==============================] - 5s 36ms/step - loss: 0.0803 - root_mean_squared_error: 0.2834 - val_loss: 3.6331e-04 - val_root_mean_squared_error: 0.0191\n",
      "Epoch 2/150\n",
      " 91/104 [=========================>....] - ETA: 0s - loss: 6.3904e-04 - root_mean_squared_error: 0.0253"
     ]
    },
    {
     "name": "stderr",
     "output_type": "stream",
     "text": [
      "WARNING:absl:Found untraced functions such as _update_step_xla, lstm_cell_4_layer_call_fn, lstm_cell_4_layer_call_and_return_conditional_losses while saving (showing 3 of 3). These functions will not be directly callable after loading.\n"
     ]
    },
    {
     "name": "stdout",
     "output_type": "stream",
     "text": [
      "INFO:tensorflow:Assets written to: mamfmodel\\assets\n"
     ]
    },
    {
     "name": "stderr",
     "output_type": "stream",
     "text": [
      "INFO:tensorflow:Assets written to: mamfmodel\\assets\n"
     ]
    },
    {
     "name": "stdout",
     "output_type": "stream",
     "text": [
      "104/104 [==============================] - 3s 29ms/step - loss: 6.1959e-04 - root_mean_squared_error: 0.0249 - val_loss: 2.8845e-04 - val_root_mean_squared_error: 0.0170\n",
      "Epoch 3/150\n",
      " 93/104 [=========================>....] - ETA: 0s - loss: 5.7107e-04 - root_mean_squared_error: 0.0239"
     ]
    },
    {
     "name": "stderr",
     "output_type": "stream",
     "text": [
      "WARNING:absl:Found untraced functions such as _update_step_xla, lstm_cell_4_layer_call_fn, lstm_cell_4_layer_call_and_return_conditional_losses while saving (showing 3 of 3). These functions will not be directly callable after loading.\n"
     ]
    },
    {
     "name": "stdout",
     "output_type": "stream",
     "text": [
      "INFO:tensorflow:Assets written to: mamfmodel\\assets\n"
     ]
    },
    {
     "name": "stderr",
     "output_type": "stream",
     "text": [
      "INFO:tensorflow:Assets written to: mamfmodel\\assets\n"
     ]
    },
    {
     "name": "stdout",
     "output_type": "stream",
     "text": [
      "104/104 [==============================] - 3s 30ms/step - loss: 5.5756e-04 - root_mean_squared_error: 0.0236 - val_loss: 2.2773e-04 - val_root_mean_squared_error: 0.0151\n",
      "Epoch 4/150\n",
      "100/104 [===========================>..] - ETA: 0s - loss: 5.0881e-04 - root_mean_squared_error: 0.0226"
     ]
    },
    {
     "name": "stderr",
     "output_type": "stream",
     "text": [
      "WARNING:absl:Found untraced functions such as _update_step_xla, lstm_cell_4_layer_call_fn, lstm_cell_4_layer_call_and_return_conditional_losses while saving (showing 3 of 3). These functions will not be directly callable after loading.\n"
     ]
    },
    {
     "name": "stdout",
     "output_type": "stream",
     "text": [
      "INFO:tensorflow:Assets written to: mamfmodel\\assets\n"
     ]
    },
    {
     "name": "stderr",
     "output_type": "stream",
     "text": [
      "INFO:tensorflow:Assets written to: mamfmodel\\assets\n"
     ]
    },
    {
     "name": "stdout",
     "output_type": "stream",
     "text": [
      "104/104 [==============================] - 3s 34ms/step - loss: 5.0925e-04 - root_mean_squared_error: 0.0226 - val_loss: 8.0930e-05 - val_root_mean_squared_error: 0.0090\n",
      "Epoch 5/150\n",
      " 97/104 [==========================>...] - ETA: 0s - loss: 4.8689e-04 - root_mean_squared_error: 0.0221"
     ]
    },
    {
     "name": "stderr",
     "output_type": "stream",
     "text": [
      "WARNING:absl:Found untraced functions such as _update_step_xla, lstm_cell_4_layer_call_fn, lstm_cell_4_layer_call_and_return_conditional_losses while saving (showing 3 of 3). These functions will not be directly callable after loading.\n"
     ]
    },
    {
     "name": "stdout",
     "output_type": "stream",
     "text": [
      "INFO:tensorflow:Assets written to: mamfmodel\\assets\n"
     ]
    },
    {
     "name": "stderr",
     "output_type": "stream",
     "text": [
      "INFO:tensorflow:Assets written to: mamfmodel\\assets\n"
     ]
    },
    {
     "name": "stdout",
     "output_type": "stream",
     "text": [
      "104/104 [==============================] - 3s 29ms/step - loss: 4.8946e-04 - root_mean_squared_error: 0.0221 - val_loss: 6.0135e-05 - val_root_mean_squared_error: 0.0078\n",
      "Epoch 6/150\n",
      "104/104 [==============================] - 0s 4ms/step - loss: 4.9216e-04 - root_mean_squared_error: 0.0222 - val_loss: 6.8740e-05 - val_root_mean_squared_error: 0.0083\n",
      "Epoch 7/150\n",
      "104/104 [==============================] - 0s 4ms/step - loss: 4.5031e-04 - root_mean_squared_error: 0.0212 - val_loss: 7.4195e-05 - val_root_mean_squared_error: 0.0086\n",
      "Epoch 8/150\n",
      " 93/104 [=========================>....] - ETA: 0s - loss: 4.0841e-04 - root_mean_squared_error: 0.0202"
     ]
    },
    {
     "name": "stderr",
     "output_type": "stream",
     "text": [
      "WARNING:absl:Found untraced functions such as _update_step_xla, lstm_cell_4_layer_call_fn, lstm_cell_4_layer_call_and_return_conditional_losses while saving (showing 3 of 3). These functions will not be directly callable after loading.\n"
     ]
    },
    {
     "name": "stdout",
     "output_type": "stream",
     "text": [
      "INFO:tensorflow:Assets written to: mamfmodel\\assets\n"
     ]
    },
    {
     "name": "stderr",
     "output_type": "stream",
     "text": [
      "INFO:tensorflow:Assets written to: mamfmodel\\assets\n"
     ]
    },
    {
     "name": "stdout",
     "output_type": "stream",
     "text": [
      "104/104 [==============================] - 3s 29ms/step - loss: 4.3226e-04 - root_mean_squared_error: 0.0208 - val_loss: 5.9585e-05 - val_root_mean_squared_error: 0.0077\n",
      "Epoch 9/150\n",
      " 91/104 [=========================>....] - ETA: 0s - loss: 4.6847e-04 - root_mean_squared_error: 0.0216"
     ]
    },
    {
     "name": "stderr",
     "output_type": "stream",
     "text": [
      "WARNING:absl:Found untraced functions such as _update_step_xla, lstm_cell_4_layer_call_fn, lstm_cell_4_layer_call_and_return_conditional_losses while saving (showing 3 of 3). These functions will not be directly callable after loading.\n"
     ]
    },
    {
     "name": "stdout",
     "output_type": "stream",
     "text": [
      "INFO:tensorflow:Assets written to: mamfmodel\\assets\n"
     ]
    },
    {
     "name": "stderr",
     "output_type": "stream",
     "text": [
      "INFO:tensorflow:Assets written to: mamfmodel\\assets\n"
     ]
    },
    {
     "name": "stdout",
     "output_type": "stream",
     "text": [
      "104/104 [==============================] - 4s 34ms/step - loss: 4.5988e-04 - root_mean_squared_error: 0.0214 - val_loss: 5.8025e-05 - val_root_mean_squared_error: 0.0076\n",
      "Epoch 10/150\n",
      "104/104 [==============================] - 0s 4ms/step - loss: 3.9158e-04 - root_mean_squared_error: 0.0198 - val_loss: 6.5785e-05 - val_root_mean_squared_error: 0.0081\n",
      "Epoch 11/150\n",
      "104/104 [==============================] - 0s 4ms/step - loss: 3.8905e-04 - root_mean_squared_error: 0.0197 - val_loss: 1.4078e-04 - val_root_mean_squared_error: 0.0119\n",
      "Epoch 12/150\n",
      "104/104 [==============================] - 0s 4ms/step - loss: 3.4603e-04 - root_mean_squared_error: 0.0186 - val_loss: 8.8735e-05 - val_root_mean_squared_error: 0.0094\n",
      "Epoch 13/150\n",
      "104/104 [==============================] - 0s 4ms/step - loss: 3.4855e-04 - root_mean_squared_error: 0.0187 - val_loss: 6.4824e-05 - val_root_mean_squared_error: 0.0081\n",
      "Epoch 14/150\n",
      " 98/104 [===========================>..] - ETA: 0s - loss: 3.3043e-04 - root_mean_squared_error: 0.0182"
     ]
    },
    {
     "name": "stderr",
     "output_type": "stream",
     "text": [
      "WARNING:absl:Found untraced functions such as _update_step_xla, lstm_cell_4_layer_call_fn, lstm_cell_4_layer_call_and_return_conditional_losses while saving (showing 3 of 3). These functions will not be directly callable after loading.\n"
     ]
    },
    {
     "name": "stdout",
     "output_type": "stream",
     "text": [
      "INFO:tensorflow:Assets written to: mamfmodel\\assets\n"
     ]
    },
    {
     "name": "stderr",
     "output_type": "stream",
     "text": [
      "INFO:tensorflow:Assets written to: mamfmodel\\assets\n"
     ]
    },
    {
     "name": "stdout",
     "output_type": "stream",
     "text": [
      "104/104 [==============================] - 3s 29ms/step - loss: 3.3589e-04 - root_mean_squared_error: 0.0183 - val_loss: 4.6559e-05 - val_root_mean_squared_error: 0.0068\n",
      "Epoch 15/150\n",
      " 90/104 [========================>.....] - ETA: 0s - loss: 3.3752e-04 - root_mean_squared_error: 0.0184"
     ]
    },
    {
     "name": "stderr",
     "output_type": "stream",
     "text": [
      "WARNING:absl:Found untraced functions such as _update_step_xla, lstm_cell_4_layer_call_fn, lstm_cell_4_layer_call_and_return_conditional_losses while saving (showing 3 of 3). These functions will not be directly callable after loading.\n"
     ]
    },
    {
     "name": "stdout",
     "output_type": "stream",
     "text": [
      "INFO:tensorflow:Assets written to: mamfmodel\\assets\n"
     ]
    },
    {
     "name": "stderr",
     "output_type": "stream",
     "text": [
      "INFO:tensorflow:Assets written to: mamfmodel\\assets\n"
     ]
    },
    {
     "name": "stdout",
     "output_type": "stream",
     "text": [
      "104/104 [==============================] - 3s 29ms/step - loss: 3.3609e-04 - root_mean_squared_error: 0.0183 - val_loss: 3.6138e-05 - val_root_mean_squared_error: 0.0060\n",
      "Epoch 16/150\n",
      "104/104 [==============================] - 0s 4ms/step - loss: 3.0158e-04 - root_mean_squared_error: 0.0174 - val_loss: 5.1011e-05 - val_root_mean_squared_error: 0.0071\n",
      "Epoch 17/150\n",
      "104/104 [==============================] - 0s 4ms/step - loss: 3.1258e-04 - root_mean_squared_error: 0.0177 - val_loss: 5.1927e-05 - val_root_mean_squared_error: 0.0072\n",
      "Epoch 18/150\n",
      "104/104 [==============================] - 0s 4ms/step - loss: 3.2028e-04 - root_mean_squared_error: 0.0179 - val_loss: 3.9120e-05 - val_root_mean_squared_error: 0.0063\n",
      "Epoch 19/150\n",
      "104/104 [==============================] - 0s 4ms/step - loss: 2.8892e-04 - root_mean_squared_error: 0.0170 - val_loss: 3.9450e-05 - val_root_mean_squared_error: 0.0063\n",
      "Epoch 20/150\n",
      "102/104 [============================>.] - ETA: 0s - loss: 2.9023e-04 - root_mean_squared_error: 0.0170"
     ]
    },
    {
     "name": "stderr",
     "output_type": "stream",
     "text": [
      "WARNING:absl:Found untraced functions such as _update_step_xla, lstm_cell_4_layer_call_fn, lstm_cell_4_layer_call_and_return_conditional_losses while saving (showing 3 of 3). These functions will not be directly callable after loading.\n"
     ]
    },
    {
     "name": "stdout",
     "output_type": "stream",
     "text": [
      "INFO:tensorflow:Assets written to: mamfmodel\\assets\n"
     ]
    },
    {
     "name": "stderr",
     "output_type": "stream",
     "text": [
      "INFO:tensorflow:Assets written to: mamfmodel\\assets\n"
     ]
    },
    {
     "name": "stdout",
     "output_type": "stream",
     "text": [
      "104/104 [==============================] - 3s 33ms/step - loss: 2.9087e-04 - root_mean_squared_error: 0.0171 - val_loss: 3.1066e-05 - val_root_mean_squared_error: 0.0056\n",
      "Epoch 21/150\n",
      "104/104 [==============================] - 0s 4ms/step - loss: 2.6565e-04 - root_mean_squared_error: 0.0163 - val_loss: 3.3679e-05 - val_root_mean_squared_error: 0.0058\n",
      "Epoch 22/150\n",
      "104/104 [==============================] - 0s 4ms/step - loss: 2.4996e-04 - root_mean_squared_error: 0.0158 - val_loss: 5.5670e-05 - val_root_mean_squared_error: 0.0075\n",
      "Epoch 23/150\n",
      "104/104 [==============================] - 0s 4ms/step - loss: 2.6427e-04 - root_mean_squared_error: 0.0163 - val_loss: 3.4258e-05 - val_root_mean_squared_error: 0.0059\n",
      "Epoch 24/150\n",
      "104/104 [==============================] - 0s 4ms/step - loss: 2.5033e-04 - root_mean_squared_error: 0.0158 - val_loss: 3.2945e-05 - val_root_mean_squared_error: 0.0057\n",
      "Epoch 25/150\n",
      "104/104 [==============================] - 0s 4ms/step - loss: 2.6131e-04 - root_mean_squared_error: 0.0162 - val_loss: 4.6724e-05 - val_root_mean_squared_error: 0.0068\n",
      "Epoch 26/150\n",
      " 99/104 [===========================>..] - ETA: 0s - loss: 2.4499e-04 - root_mean_squared_error: 0.0157"
     ]
    },
    {
     "name": "stderr",
     "output_type": "stream",
     "text": [
      "WARNING:absl:Found untraced functions such as _update_step_xla, lstm_cell_4_layer_call_fn, lstm_cell_4_layer_call_and_return_conditional_losses while saving (showing 3 of 3). These functions will not be directly callable after loading.\n"
     ]
    },
    {
     "name": "stdout",
     "output_type": "stream",
     "text": [
      "INFO:tensorflow:Assets written to: mamfmodel\\assets\n"
     ]
    },
    {
     "name": "stderr",
     "output_type": "stream",
     "text": [
      "INFO:tensorflow:Assets written to: mamfmodel\\assets\n"
     ]
    },
    {
     "name": "stdout",
     "output_type": "stream",
     "text": [
      "104/104 [==============================] - 3s 28ms/step - loss: 2.4505e-04 - root_mean_squared_error: 0.0157 - val_loss: 2.2679e-05 - val_root_mean_squared_error: 0.0048\n",
      "Epoch 27/150\n",
      "104/104 [==============================] - 0s 4ms/step - loss: 2.2674e-04 - root_mean_squared_error: 0.0151 - val_loss: 3.6116e-05 - val_root_mean_squared_error: 0.0060\n",
      "Epoch 28/150\n",
      "104/104 [==============================] - 0s 4ms/step - loss: 2.4340e-04 - root_mean_squared_error: 0.0156 - val_loss: 2.4594e-05 - val_root_mean_squared_error: 0.0050\n",
      "Epoch 29/150\n",
      "104/104 [==============================] - 0s 4ms/step - loss: 2.3946e-04 - root_mean_squared_error: 0.0155 - val_loss: 2.2986e-05 - val_root_mean_squared_error: 0.0048\n",
      "Epoch 30/150\n",
      " 90/104 [========================>.....] - ETA: 0s - loss: 2.3619e-04 - root_mean_squared_error: 0.0154"
     ]
    },
    {
     "name": "stderr",
     "output_type": "stream",
     "text": [
      "WARNING:absl:Found untraced functions such as _update_step_xla, lstm_cell_4_layer_call_fn, lstm_cell_4_layer_call_and_return_conditional_losses while saving (showing 3 of 3). These functions will not be directly callable after loading.\n"
     ]
    },
    {
     "name": "stdout",
     "output_type": "stream",
     "text": [
      "INFO:tensorflow:Assets written to: mamfmodel\\assets\n"
     ]
    },
    {
     "name": "stderr",
     "output_type": "stream",
     "text": [
      "INFO:tensorflow:Assets written to: mamfmodel\\assets\n"
     ]
    },
    {
     "name": "stdout",
     "output_type": "stream",
     "text": [
      "104/104 [==============================] - 3s 29ms/step - loss: 2.2980e-04 - root_mean_squared_error: 0.0152 - val_loss: 2.1507e-05 - val_root_mean_squared_error: 0.0046\n",
      "Epoch 31/150\n",
      " 98/104 [===========================>..] - ETA: 0s - loss: 2.1747e-04 - root_mean_squared_error: 0.0147"
     ]
    },
    {
     "name": "stderr",
     "output_type": "stream",
     "text": [
      "WARNING:absl:Found untraced functions such as _update_step_xla, lstm_cell_4_layer_call_fn, lstm_cell_4_layer_call_and_return_conditional_losses while saving (showing 3 of 3). These functions will not be directly callable after loading.\n"
     ]
    },
    {
     "name": "stdout",
     "output_type": "stream",
     "text": [
      "INFO:tensorflow:Assets written to: mamfmodel\\assets\n"
     ]
    },
    {
     "name": "stderr",
     "output_type": "stream",
     "text": [
      "INFO:tensorflow:Assets written to: mamfmodel\\assets\n"
     ]
    },
    {
     "name": "stdout",
     "output_type": "stream",
     "text": [
      "104/104 [==============================] - 4s 34ms/step - loss: 2.1696e-04 - root_mean_squared_error: 0.0147 - val_loss: 1.8248e-05 - val_root_mean_squared_error: 0.0043\n",
      "Epoch 32/150\n",
      "104/104 [==============================] - 0s 4ms/step - loss: 2.2203e-04 - root_mean_squared_error: 0.0149 - val_loss: 4.4418e-05 - val_root_mean_squared_error: 0.0067\n",
      "Epoch 33/150\n",
      "104/104 [==============================] - 0s 4ms/step - loss: 1.9230e-04 - root_mean_squared_error: 0.0139 - val_loss: 1.8999e-05 - val_root_mean_squared_error: 0.0044\n",
      "Epoch 34/150\n",
      "104/104 [==============================] - 0s 4ms/step - loss: 2.2638e-04 - root_mean_squared_error: 0.0150 - val_loss: 1.8930e-05 - val_root_mean_squared_error: 0.0044\n",
      "Epoch 35/150\n",
      "104/104 [==============================] - 0s 4ms/step - loss: 1.8752e-04 - root_mean_squared_error: 0.0137 - val_loss: 2.4039e-05 - val_root_mean_squared_error: 0.0049\n",
      "Epoch 36/150\n",
      " 98/104 [===========================>..] - ETA: 0s - loss: 1.8972e-04 - root_mean_squared_error: 0.0138"
     ]
    },
    {
     "name": "stderr",
     "output_type": "stream",
     "text": [
      "WARNING:absl:Found untraced functions such as _update_step_xla, lstm_cell_4_layer_call_fn, lstm_cell_4_layer_call_and_return_conditional_losses while saving (showing 3 of 3). These functions will not be directly callable after loading.\n"
     ]
    },
    {
     "name": "stdout",
     "output_type": "stream",
     "text": [
      "INFO:tensorflow:Assets written to: mamfmodel\\assets\n"
     ]
    },
    {
     "name": "stderr",
     "output_type": "stream",
     "text": [
      "INFO:tensorflow:Assets written to: mamfmodel\\assets\n"
     ]
    },
    {
     "name": "stdout",
     "output_type": "stream",
     "text": [
      "104/104 [==============================] - 3s 30ms/step - loss: 1.8714e-04 - root_mean_squared_error: 0.0137 - val_loss: 1.6222e-05 - val_root_mean_squared_error: 0.0040\n",
      "Epoch 37/150\n",
      "104/104 [==============================] - 0s 4ms/step - loss: 1.9716e-04 - root_mean_squared_error: 0.0140 - val_loss: 1.7679e-05 - val_root_mean_squared_error: 0.0042\n",
      "Epoch 38/150\n",
      "104/104 [==============================] - 0s 4ms/step - loss: 2.0408e-04 - root_mean_squared_error: 0.0143 - val_loss: 3.1637e-05 - val_root_mean_squared_error: 0.0056\n",
      "Epoch 39/150\n",
      "104/104 [==============================] - 0s 4ms/step - loss: 1.8451e-04 - root_mean_squared_error: 0.0136 - val_loss: 1.8818e-05 - val_root_mean_squared_error: 0.0043\n",
      "Epoch 40/150\n",
      "104/104 [==============================] - 0s 4ms/step - loss: 1.7287e-04 - root_mean_squared_error: 0.0131 - val_loss: 2.9782e-05 - val_root_mean_squared_error: 0.0055\n",
      "Epoch 41/150\n",
      "104/104 [==============================] - 0s 4ms/step - loss: 1.6863e-04 - root_mean_squared_error: 0.0130 - val_loss: 2.0347e-05 - val_root_mean_squared_error: 0.0045\n",
      "Epoch 42/150\n",
      "100/104 [===========================>..] - ETA: 0s - loss: 1.8418e-04 - root_mean_squared_error: 0.0136"
     ]
    },
    {
     "name": "stderr",
     "output_type": "stream",
     "text": [
      "WARNING:absl:Found untraced functions such as _update_step_xla, lstm_cell_4_layer_call_fn, lstm_cell_4_layer_call_and_return_conditional_losses while saving (showing 3 of 3). These functions will not be directly callable after loading.\n"
     ]
    },
    {
     "name": "stdout",
     "output_type": "stream",
     "text": [
      "INFO:tensorflow:Assets written to: mamfmodel\\assets\n"
     ]
    },
    {
     "name": "stderr",
     "output_type": "stream",
     "text": [
      "INFO:tensorflow:Assets written to: mamfmodel\\assets\n"
     ]
    },
    {
     "name": "stdout",
     "output_type": "stream",
     "text": [
      "104/104 [==============================] - 3s 29ms/step - loss: 1.8252e-04 - root_mean_squared_error: 0.0135 - val_loss: 1.5539e-05 - val_root_mean_squared_error: 0.0039\n",
      "Epoch 43/150\n",
      "104/104 [==============================] - 0s 4ms/step - loss: 1.5903e-04 - root_mean_squared_error: 0.0126 - val_loss: 2.9192e-05 - val_root_mean_squared_error: 0.0054\n",
      "Epoch 44/150\n",
      " 97/104 [==========================>...] - ETA: 0s - loss: 1.6322e-04 - root_mean_squared_error: 0.0128"
     ]
    },
    {
     "name": "stderr",
     "output_type": "stream",
     "text": [
      "WARNING:absl:Found untraced functions such as _update_step_xla, lstm_cell_4_layer_call_fn, lstm_cell_4_layer_call_and_return_conditional_losses while saving (showing 3 of 3). These functions will not be directly callable after loading.\n"
     ]
    },
    {
     "name": "stdout",
     "output_type": "stream",
     "text": [
      "INFO:tensorflow:Assets written to: mamfmodel\\assets\n"
     ]
    },
    {
     "name": "stderr",
     "output_type": "stream",
     "text": [
      "INFO:tensorflow:Assets written to: mamfmodel\\assets\n"
     ]
    },
    {
     "name": "stdout",
     "output_type": "stream",
     "text": [
      "104/104 [==============================] - 3s 33ms/step - loss: 1.6009e-04 - root_mean_squared_error: 0.0127 - val_loss: 1.4529e-05 - val_root_mean_squared_error: 0.0038\n",
      "Epoch 45/150\n",
      " 93/104 [=========================>....] - ETA: 0s - loss: 1.5889e-04 - root_mean_squared_error: 0.0126"
     ]
    },
    {
     "name": "stderr",
     "output_type": "stream",
     "text": [
      "WARNING:absl:Found untraced functions such as _update_step_xla, lstm_cell_4_layer_call_fn, lstm_cell_4_layer_call_and_return_conditional_losses while saving (showing 3 of 3). These functions will not be directly callable after loading.\n"
     ]
    },
    {
     "name": "stdout",
     "output_type": "stream",
     "text": [
      "INFO:tensorflow:Assets written to: mamfmodel\\assets\n"
     ]
    },
    {
     "name": "stderr",
     "output_type": "stream",
     "text": [
      "INFO:tensorflow:Assets written to: mamfmodel\\assets\n"
     ]
    },
    {
     "name": "stdout",
     "output_type": "stream",
     "text": [
      "104/104 [==============================] - 3s 29ms/step - loss: 1.5442e-04 - root_mean_squared_error: 0.0124 - val_loss: 1.3520e-05 - val_root_mean_squared_error: 0.0037\n",
      "Epoch 46/150\n",
      "104/104 [==============================] - 0s 4ms/step - loss: 1.6237e-04 - root_mean_squared_error: 0.0127 - val_loss: 1.4621e-05 - val_root_mean_squared_error: 0.0038\n",
      "Epoch 47/150\n",
      " 97/104 [==========================>...] - ETA: 0s - loss: 1.4708e-04 - root_mean_squared_error: 0.0121"
     ]
    },
    {
     "name": "stderr",
     "output_type": "stream",
     "text": [
      "WARNING:absl:Found untraced functions such as _update_step_xla, lstm_cell_4_layer_call_fn, lstm_cell_4_layer_call_and_return_conditional_losses while saving (showing 3 of 3). These functions will not be directly callable after loading.\n"
     ]
    },
    {
     "name": "stdout",
     "output_type": "stream",
     "text": [
      "INFO:tensorflow:Assets written to: mamfmodel\\assets\n"
     ]
    },
    {
     "name": "stderr",
     "output_type": "stream",
     "text": [
      "INFO:tensorflow:Assets written to: mamfmodel\\assets\n"
     ]
    },
    {
     "name": "stdout",
     "output_type": "stream",
     "text": [
      "104/104 [==============================] - 3s 30ms/step - loss: 1.4466e-04 - root_mean_squared_error: 0.0120 - val_loss: 1.2650e-05 - val_root_mean_squared_error: 0.0036\n",
      "Epoch 48/150\n",
      "104/104 [==============================] - 0s 4ms/step - loss: 1.5575e-04 - root_mean_squared_error: 0.0125 - val_loss: 1.4799e-05 - val_root_mean_squared_error: 0.0038\n",
      "Epoch 49/150\n",
      "104/104 [==============================] - 0s 4ms/step - loss: 1.4699e-04 - root_mean_squared_error: 0.0121 - val_loss: 1.4585e-05 - val_root_mean_squared_error: 0.0038\n",
      "Epoch 50/150\n",
      "104/104 [==============================] - 0s 4ms/step - loss: 1.4085e-04 - root_mean_squared_error: 0.0119 - val_loss: 3.2651e-05 - val_root_mean_squared_error: 0.0057\n",
      "Epoch 51/150\n",
      "104/104 [==============================] - 0s 4ms/step - loss: 1.5589e-04 - root_mean_squared_error: 0.0125 - val_loss: 1.9779e-05 - val_root_mean_squared_error: 0.0044\n",
      "Epoch 52/150\n",
      "104/104 [==============================] - 0s 4ms/step - loss: 1.5734e-04 - root_mean_squared_error: 0.0125 - val_loss: 1.4134e-05 - val_root_mean_squared_error: 0.0038\n",
      "Epoch 53/150\n",
      "104/104 [==============================] - 0s 4ms/step - loss: 1.4087e-04 - root_mean_squared_error: 0.0119 - val_loss: 2.0198e-05 - val_root_mean_squared_error: 0.0045\n",
      "Epoch 54/150\n",
      " 94/104 [==========================>...] - ETA: 0s - loss: 1.4799e-04 - root_mean_squared_error: 0.0122"
     ]
    },
    {
     "name": "stderr",
     "output_type": "stream",
     "text": [
      "WARNING:absl:Found untraced functions such as _update_step_xla, lstm_cell_4_layer_call_fn, lstm_cell_4_layer_call_and_return_conditional_losses while saving (showing 3 of 3). These functions will not be directly callable after loading.\n"
     ]
    },
    {
     "name": "stdout",
     "output_type": "stream",
     "text": [
      "INFO:tensorflow:Assets written to: mamfmodel\\assets\n"
     ]
    },
    {
     "name": "stderr",
     "output_type": "stream",
     "text": [
      "INFO:tensorflow:Assets written to: mamfmodel\\assets\n"
     ]
    },
    {
     "name": "stdout",
     "output_type": "stream",
     "text": [
      "104/104 [==============================] - 4s 34ms/step - loss: 1.5106e-04 - root_mean_squared_error: 0.0123 - val_loss: 1.2591e-05 - val_root_mean_squared_error: 0.0035\n",
      "Epoch 55/150\n",
      "104/104 [==============================] - 0s 4ms/step - loss: 1.4107e-04 - root_mean_squared_error: 0.0119 - val_loss: 3.1161e-05 - val_root_mean_squared_error: 0.0056\n",
      "Epoch 56/150\n",
      "104/104 [==============================] - 0s 4ms/step - loss: 1.4472e-04 - root_mean_squared_error: 0.0120 - val_loss: 1.6613e-05 - val_root_mean_squared_error: 0.0041\n",
      "Epoch 57/150\n",
      "104/104 [==============================] - 0s 4ms/step - loss: 1.5646e-04 - root_mean_squared_error: 0.0125 - val_loss: 1.9482e-05 - val_root_mean_squared_error: 0.0044\n",
      "Epoch 58/150\n",
      "104/104 [==============================] - 0s 4ms/step - loss: 1.3429e-04 - root_mean_squared_error: 0.0116 - val_loss: 2.3929e-05 - val_root_mean_squared_error: 0.0049\n",
      "Epoch 59/150\n",
      " 92/104 [=========================>....] - ETA: 0s - loss: 1.2999e-04 - root_mean_squared_error: 0.0114"
     ]
    },
    {
     "name": "stderr",
     "output_type": "stream",
     "text": [
      "WARNING:absl:Found untraced functions such as _update_step_xla, lstm_cell_4_layer_call_fn, lstm_cell_4_layer_call_and_return_conditional_losses while saving (showing 3 of 3). These functions will not be directly callable after loading.\n"
     ]
    },
    {
     "name": "stdout",
     "output_type": "stream",
     "text": [
      "INFO:tensorflow:Assets written to: mamfmodel\\assets\n"
     ]
    },
    {
     "name": "stderr",
     "output_type": "stream",
     "text": [
      "INFO:tensorflow:Assets written to: mamfmodel\\assets\n"
     ]
    },
    {
     "name": "stdout",
     "output_type": "stream",
     "text": [
      "104/104 [==============================] - 3s 30ms/step - loss: 1.2834e-04 - root_mean_squared_error: 0.0113 - val_loss: 1.0428e-05 - val_root_mean_squared_error: 0.0032\n",
      "Epoch 60/150\n",
      "104/104 [==============================] - 0s 4ms/step - loss: 1.2786e-04 - root_mean_squared_error: 0.0113 - val_loss: 1.9513e-05 - val_root_mean_squared_error: 0.0044\n",
      "Epoch 61/150\n",
      "104/104 [==============================] - 0s 4ms/step - loss: 1.2450e-04 - root_mean_squared_error: 0.0112 - val_loss: 1.2306e-05 - val_root_mean_squared_error: 0.0035\n",
      "Epoch 62/150\n",
      " 97/104 [==========================>...] - ETA: 0s - loss: 1.3087e-04 - root_mean_squared_error: 0.0114"
     ]
    },
    {
     "name": "stderr",
     "output_type": "stream",
     "text": [
      "WARNING:absl:Found untraced functions such as _update_step_xla, lstm_cell_4_layer_call_fn, lstm_cell_4_layer_call_and_return_conditional_losses while saving (showing 3 of 3). These functions will not be directly callable after loading.\n"
     ]
    },
    {
     "name": "stdout",
     "output_type": "stream",
     "text": [
      "INFO:tensorflow:Assets written to: mamfmodel\\assets\n"
     ]
    },
    {
     "name": "stderr",
     "output_type": "stream",
     "text": [
      "INFO:tensorflow:Assets written to: mamfmodel\\assets\n"
     ]
    },
    {
     "name": "stdout",
     "output_type": "stream",
     "text": [
      "104/104 [==============================] - 3s 29ms/step - loss: 1.2879e-04 - root_mean_squared_error: 0.0113 - val_loss: 1.0012e-05 - val_root_mean_squared_error: 0.0032\n",
      "Epoch 63/150\n",
      "104/104 [==============================] - 0s 4ms/step - loss: 1.2780e-04 - root_mean_squared_error: 0.0113 - val_loss: 1.0292e-05 - val_root_mean_squared_error: 0.0032\n",
      "Epoch 64/150\n",
      "104/104 [==============================] - 0s 4ms/step - loss: 1.3739e-04 - root_mean_squared_error: 0.0117 - val_loss: 1.2524e-05 - val_root_mean_squared_error: 0.0035\n",
      "Epoch 65/150\n",
      "104/104 [==============================] - 0s 4ms/step - loss: 1.4232e-04 - root_mean_squared_error: 0.0119 - val_loss: 1.3243e-05 - val_root_mean_squared_error: 0.0036\n",
      "Epoch 66/150\n",
      "104/104 [==============================] - 0s 4ms/step - loss: 1.2496e-04 - root_mean_squared_error: 0.0112 - val_loss: 1.0546e-05 - val_root_mean_squared_error: 0.0032\n",
      "Epoch 67/150\n",
      "104/104 [==============================] - 0s 4ms/step - loss: 1.2388e-04 - root_mean_squared_error: 0.0111 - val_loss: 2.2918e-05 - val_root_mean_squared_error: 0.0048\n",
      "Epoch 68/150\n",
      "104/104 [==============================] - 0s 4ms/step - loss: 1.4286e-04 - root_mean_squared_error: 0.0120 - val_loss: 1.1132e-05 - val_root_mean_squared_error: 0.0033\n",
      "Epoch 69/150\n",
      "104/104 [==============================] - 0s 4ms/step - loss: 1.4794e-04 - root_mean_squared_error: 0.0122 - val_loss: 2.0287e-05 - val_root_mean_squared_error: 0.0045\n",
      "Epoch 70/150\n",
      "104/104 [==============================] - 0s 4ms/step - loss: 1.3363e-04 - root_mean_squared_error: 0.0116 - val_loss: 1.4674e-05 - val_root_mean_squared_error: 0.0038\n",
      "Epoch 71/150\n",
      "104/104 [==============================] - 0s 4ms/step - loss: 1.2727e-04 - root_mean_squared_error: 0.0113 - val_loss: 1.1265e-05 - val_root_mean_squared_error: 0.0034\n",
      "Epoch 72/150\n",
      "104/104 [==============================] - 0s 4ms/step - loss: 1.4167e-04 - root_mean_squared_error: 0.0119 - val_loss: 2.6593e-05 - val_root_mean_squared_error: 0.0052\n",
      "Epoch 73/150\n",
      "104/104 [==============================] - 0s 4ms/step - loss: 1.2091e-04 - root_mean_squared_error: 0.0110 - val_loss: 1.7852e-05 - val_root_mean_squared_error: 0.0042\n",
      "Epoch 74/150\n",
      "104/104 [==============================] - 0s 4ms/step - loss: 1.4281e-04 - root_mean_squared_error: 0.0120 - val_loss: 1.0821e-05 - val_root_mean_squared_error: 0.0033\n",
      "Epoch 75/150\n",
      "104/104 [==============================] - 0s 4ms/step - loss: 1.2278e-04 - root_mean_squared_error: 0.0111 - val_loss: 1.6215e-05 - val_root_mean_squared_error: 0.0040\n",
      "Epoch 76/150\n",
      " 94/104 [==========================>...] - ETA: 0s - loss: 1.3132e-04 - root_mean_squared_error: 0.0115"
     ]
    },
    {
     "name": "stderr",
     "output_type": "stream",
     "text": [
      "WARNING:absl:Found untraced functions such as _update_step_xla, lstm_cell_4_layer_call_fn, lstm_cell_4_layer_call_and_return_conditional_losses while saving (showing 3 of 3). These functions will not be directly callable after loading.\n"
     ]
    },
    {
     "name": "stdout",
     "output_type": "stream",
     "text": [
      "INFO:tensorflow:Assets written to: mamfmodel\\assets\n"
     ]
    },
    {
     "name": "stderr",
     "output_type": "stream",
     "text": [
      "INFO:tensorflow:Assets written to: mamfmodel\\assets\n"
     ]
    },
    {
     "name": "stdout",
     "output_type": "stream",
     "text": [
      "104/104 [==============================] - 4s 34ms/step - loss: 1.2785e-04 - root_mean_squared_error: 0.0113 - val_loss: 9.7470e-06 - val_root_mean_squared_error: 0.0031\n",
      "Epoch 77/150\n",
      "104/104 [==============================] - 0s 4ms/step - loss: 1.2500e-04 - root_mean_squared_error: 0.0112 - val_loss: 1.1477e-05 - val_root_mean_squared_error: 0.0034\n",
      "Epoch 78/150\n",
      "104/104 [==============================] - 0s 4ms/step - loss: 1.2620e-04 - root_mean_squared_error: 0.0112 - val_loss: 2.2249e-05 - val_root_mean_squared_error: 0.0047\n",
      "Epoch 79/150\n",
      "104/104 [==============================] - 0s 4ms/step - loss: 1.2900e-04 - root_mean_squared_error: 0.0114 - val_loss: 1.1139e-05 - val_root_mean_squared_error: 0.0033\n",
      "Epoch 80/150\n",
      "104/104 [==============================] - 0s 4ms/step - loss: 1.3801e-04 - root_mean_squared_error: 0.0117 - val_loss: 3.0546e-05 - val_root_mean_squared_error: 0.0055\n",
      "Epoch 81/150\n",
      "104/104 [==============================] - 0s 4ms/step - loss: 1.3083e-04 - root_mean_squared_error: 0.0114 - val_loss: 3.1212e-05 - val_root_mean_squared_error: 0.0056\n",
      "Epoch 82/150\n",
      "104/104 [==============================] - 0s 4ms/step - loss: 1.2177e-04 - root_mean_squared_error: 0.0110 - val_loss: 1.0228e-05 - val_root_mean_squared_error: 0.0032\n",
      "Epoch 83/150\n",
      "104/104 [==============================] - 0s 4ms/step - loss: 1.3337e-04 - root_mean_squared_error: 0.0115 - val_loss: 1.5037e-05 - val_root_mean_squared_error: 0.0039\n",
      "Epoch 84/150\n",
      "104/104 [==============================] - 0s 4ms/step - loss: 1.2464e-04 - root_mean_squared_error: 0.0112 - val_loss: 1.1379e-05 - val_root_mean_squared_error: 0.0034\n",
      "Epoch 85/150\n",
      " 99/104 [===========================>..] - ETA: 0s - loss: 1.2835e-04 - root_mean_squared_error: 0.0113"
     ]
    },
    {
     "name": "stderr",
     "output_type": "stream",
     "text": [
      "WARNING:absl:Found untraced functions such as _update_step_xla, lstm_cell_4_layer_call_fn, lstm_cell_4_layer_call_and_return_conditional_losses while saving (showing 3 of 3). These functions will not be directly callable after loading.\n"
     ]
    },
    {
     "name": "stdout",
     "output_type": "stream",
     "text": [
      "INFO:tensorflow:Assets written to: mamfmodel\\assets\n"
     ]
    },
    {
     "name": "stderr",
     "output_type": "stream",
     "text": [
      "INFO:tensorflow:Assets written to: mamfmodel\\assets\n"
     ]
    },
    {
     "name": "stdout",
     "output_type": "stream",
     "text": [
      "104/104 [==============================] - 3s 28ms/step - loss: 1.2815e-04 - root_mean_squared_error: 0.0113 - val_loss: 9.3462e-06 - val_root_mean_squared_error: 0.0031\n",
      "Epoch 86/150\n",
      "104/104 [==============================] - 0s 4ms/step - loss: 1.2449e-04 - root_mean_squared_error: 0.0112 - val_loss: 1.2446e-05 - val_root_mean_squared_error: 0.0035\n",
      "Epoch 87/150\n",
      "104/104 [==============================] - 0s 4ms/step - loss: 1.2753e-04 - root_mean_squared_error: 0.0113 - val_loss: 1.7122e-05 - val_root_mean_squared_error: 0.0041\n",
      "Epoch 88/150\n",
      "104/104 [==============================] - 0s 4ms/step - loss: 1.3005e-04 - root_mean_squared_error: 0.0114 - val_loss: 1.0291e-05 - val_root_mean_squared_error: 0.0032\n",
      "Epoch 89/150\n",
      "104/104 [==============================] - 0s 4ms/step - loss: 1.3421e-04 - root_mean_squared_error: 0.0116 - val_loss: 2.5664e-05 - val_root_mean_squared_error: 0.0051\n",
      "Epoch 90/150\n",
      "104/104 [==============================] - 0s 4ms/step - loss: 1.3079e-04 - root_mean_squared_error: 0.0114 - val_loss: 2.1230e-05 - val_root_mean_squared_error: 0.0046\n",
      "Epoch 91/150\n",
      "104/104 [==============================] - 0s 4ms/step - loss: 1.4083e-04 - root_mean_squared_error: 0.0119 - val_loss: 1.0326e-05 - val_root_mean_squared_error: 0.0032\n",
      "Epoch 92/150\n",
      "104/104 [==============================] - 0s 4ms/step - loss: 1.2802e-04 - root_mean_squared_error: 0.0113 - val_loss: 1.6001e-05 - val_root_mean_squared_error: 0.0040\n",
      "Epoch 93/150\n",
      "104/104 [==============================] - 0s 4ms/step - loss: 1.2610e-04 - root_mean_squared_error: 0.0112 - val_loss: 1.6761e-05 - val_root_mean_squared_error: 0.0041\n",
      "Epoch 94/150\n",
      "104/104 [==============================] - 0s 4ms/step - loss: 1.2144e-04 - root_mean_squared_error: 0.0110 - val_loss: 2.0813e-05 - val_root_mean_squared_error: 0.0046\n",
      "Epoch 95/150\n",
      "104/104 [==============================] - 0s 4ms/step - loss: 1.2512e-04 - root_mean_squared_error: 0.0112 - val_loss: 2.3174e-05 - val_root_mean_squared_error: 0.0048\n",
      "Epoch 96/150\n",
      "104/104 [==============================] - 0s 4ms/step - loss: 1.3156e-04 - root_mean_squared_error: 0.0115 - val_loss: 1.3653e-05 - val_root_mean_squared_error: 0.0037\n",
      "Epoch 97/150\n",
      "104/104 [==============================] - 0s 4ms/step - loss: 1.2846e-04 - root_mean_squared_error: 0.0113 - val_loss: 1.3961e-05 - val_root_mean_squared_error: 0.0037\n",
      "Epoch 98/150\n",
      "104/104 [==============================] - 0s 4ms/step - loss: 1.2454e-04 - root_mean_squared_error: 0.0112 - val_loss: 1.2420e-05 - val_root_mean_squared_error: 0.0035\n",
      "Epoch 99/150\n",
      "104/104 [==============================] - 0s 4ms/step - loss: 1.2152e-04 - root_mean_squared_error: 0.0110 - val_loss: 3.5978e-05 - val_root_mean_squared_error: 0.0060\n",
      "Epoch 100/150\n",
      "104/104 [==============================] - 0s 4ms/step - loss: 1.3608e-04 - root_mean_squared_error: 0.0117 - val_loss: 1.0787e-05 - val_root_mean_squared_error: 0.0033\n",
      "Epoch 101/150\n",
      "104/104 [==============================] - 0s 4ms/step - loss: 1.2653e-04 - root_mean_squared_error: 0.0112 - val_loss: 2.1944e-05 - val_root_mean_squared_error: 0.0047\n",
      "Epoch 102/150\n",
      "104/104 [==============================] - 0s 4ms/step - loss: 1.3972e-04 - root_mean_squared_error: 0.0118 - val_loss: 1.1887e-05 - val_root_mean_squared_error: 0.0034\n",
      "Epoch 103/150\n",
      "104/104 [==============================] - 0s 4ms/step - loss: 1.2759e-04 - root_mean_squared_error: 0.0113 - val_loss: 1.2500e-05 - val_root_mean_squared_error: 0.0035\n",
      "Epoch 104/150\n",
      "104/104 [==============================] - 0s 4ms/step - loss: 1.2647e-04 - root_mean_squared_error: 0.0112 - val_loss: 1.1258e-05 - val_root_mean_squared_error: 0.0034\n",
      "Epoch 105/150\n",
      "104/104 [==============================] - 0s 4ms/step - loss: 1.2790e-04 - root_mean_squared_error: 0.0113 - val_loss: 5.1740e-05 - val_root_mean_squared_error: 0.0072\n",
      "Epoch 106/150\n",
      "104/104 [==============================] - 0s 4ms/step - loss: 1.3655e-04 - root_mean_squared_error: 0.0117 - val_loss: 1.2278e-05 - val_root_mean_squared_error: 0.0035\n",
      "Epoch 107/150\n",
      "100/104 [===========================>..] - ETA: 0s - loss: 1.1643e-04 - root_mean_squared_error: 0.0108"
     ]
    },
    {
     "name": "stderr",
     "output_type": "stream",
     "text": [
      "WARNING:absl:Found untraced functions such as _update_step_xla, lstm_cell_4_layer_call_fn, lstm_cell_4_layer_call_and_return_conditional_losses while saving (showing 3 of 3). These functions will not be directly callable after loading.\n"
     ]
    },
    {
     "name": "stdout",
     "output_type": "stream",
     "text": [
      "INFO:tensorflow:Assets written to: mamfmodel\\assets\n"
     ]
    },
    {
     "name": "stderr",
     "output_type": "stream",
     "text": [
      "INFO:tensorflow:Assets written to: mamfmodel\\assets\n"
     ]
    },
    {
     "name": "stdout",
     "output_type": "stream",
     "text": [
      "104/104 [==============================] - 3s 29ms/step - loss: 1.1646e-04 - root_mean_squared_error: 0.0108 - val_loss: 9.2538e-06 - val_root_mean_squared_error: 0.0030\n",
      "Epoch 108/150\n",
      "104/104 [==============================] - 0s 4ms/step - loss: 1.2775e-04 - root_mean_squared_error: 0.0113 - val_loss: 9.2883e-06 - val_root_mean_squared_error: 0.0030\n",
      "Epoch 109/150\n",
      "104/104 [==============================] - 0s 4ms/step - loss: 1.2195e-04 - root_mean_squared_error: 0.0110 - val_loss: 1.2305e-05 - val_root_mean_squared_error: 0.0035\n",
      "Epoch 110/150\n",
      "104/104 [==============================] - 0s 4ms/step - loss: 1.3620e-04 - root_mean_squared_error: 0.0117 - val_loss: 1.0384e-05 - val_root_mean_squared_error: 0.0032\n",
      "Epoch 111/150\n",
      "104/104 [==============================] - 0s 4ms/step - loss: 1.2344e-04 - root_mean_squared_error: 0.0111 - val_loss: 1.0051e-05 - val_root_mean_squared_error: 0.0032\n",
      "Epoch 112/150\n",
      "104/104 [==============================] - 0s 4ms/step - loss: 1.2471e-04 - root_mean_squared_error: 0.0112 - val_loss: 1.0054e-05 - val_root_mean_squared_error: 0.0032\n",
      "Epoch 113/150\n",
      "104/104 [==============================] - 0s 4ms/step - loss: 1.2922e-04 - root_mean_squared_error: 0.0114 - val_loss: 1.1499e-05 - val_root_mean_squared_error: 0.0034\n",
      "Epoch 114/150\n",
      "104/104 [==============================] - 0s 4ms/step - loss: 1.3554e-04 - root_mean_squared_error: 0.0116 - val_loss: 9.7643e-06 - val_root_mean_squared_error: 0.0031\n",
      "Epoch 115/150\n",
      "104/104 [==============================] - 0s 4ms/step - loss: 1.3025e-04 - root_mean_squared_error: 0.0114 - val_loss: 1.1046e-05 - val_root_mean_squared_error: 0.0033\n",
      "Epoch 116/150\n",
      "104/104 [==============================] - 0s 4ms/step - loss: 1.1933e-04 - root_mean_squared_error: 0.0109 - val_loss: 2.3288e-05 - val_root_mean_squared_error: 0.0048\n",
      "Epoch 117/150\n",
      "104/104 [==============================] - 0s 4ms/step - loss: 1.3540e-04 - root_mean_squared_error: 0.0116 - val_loss: 1.0523e-05 - val_root_mean_squared_error: 0.0032\n",
      "Epoch 118/150\n",
      "104/104 [==============================] - 0s 4ms/step - loss: 1.2164e-04 - root_mean_squared_error: 0.0110 - val_loss: 1.0130e-05 - val_root_mean_squared_error: 0.0032\n",
      "Epoch 119/150\n",
      "104/104 [==============================] - 0s 4ms/step - loss: 1.2942e-04 - root_mean_squared_error: 0.0114 - val_loss: 1.1767e-05 - val_root_mean_squared_error: 0.0034\n",
      "Epoch 120/150\n",
      "104/104 [==============================] - 0s 4ms/step - loss: 1.2430e-04 - root_mean_squared_error: 0.0111 - val_loss: 9.3846e-06 - val_root_mean_squared_error: 0.0031\n",
      "Epoch 121/150\n",
      "104/104 [==============================] - 0s 4ms/step - loss: 1.3023e-04 - root_mean_squared_error: 0.0114 - val_loss: 1.5575e-05 - val_root_mean_squared_error: 0.0039\n",
      "Epoch 122/150\n",
      "104/104 [==============================] - 0s 4ms/step - loss: 1.2849e-04 - root_mean_squared_error: 0.0113 - val_loss: 2.5549e-05 - val_root_mean_squared_error: 0.0051\n",
      "Epoch 123/150\n",
      "104/104 [==============================] - 0s 4ms/step - loss: 1.3037e-04 - root_mean_squared_error: 0.0114 - val_loss: 1.5718e-05 - val_root_mean_squared_error: 0.0040\n",
      "Epoch 124/150\n",
      "104/104 [==============================] - 0s 4ms/step - loss: 1.2478e-04 - root_mean_squared_error: 0.0112 - val_loss: 1.4083e-05 - val_root_mean_squared_error: 0.0038\n",
      "Epoch 125/150\n",
      "104/104 [==============================] - 0s 4ms/step - loss: 1.2554e-04 - root_mean_squared_error: 0.0112 - val_loss: 1.0884e-05 - val_root_mean_squared_error: 0.0033\n",
      "Epoch 126/150\n",
      "104/104 [==============================] - 0s 4ms/step - loss: 1.3429e-04 - root_mean_squared_error: 0.0116 - val_loss: 1.3004e-05 - val_root_mean_squared_error: 0.0036\n",
      "Epoch 127/150\n",
      "104/104 [==============================] - 0s 4ms/step - loss: 1.3168e-04 - root_mean_squared_error: 0.0115 - val_loss: 1.0891e-05 - val_root_mean_squared_error: 0.0033\n",
      "Epoch 128/150\n",
      "104/104 [==============================] - 0s 4ms/step - loss: 1.2680e-04 - root_mean_squared_error: 0.0113 - val_loss: 1.1985e-05 - val_root_mean_squared_error: 0.0035\n",
      "Epoch 129/150\n",
      "104/104 [==============================] - 0s 4ms/step - loss: 1.2425e-04 - root_mean_squared_error: 0.0111 - val_loss: 1.3429e-05 - val_root_mean_squared_error: 0.0037\n",
      "Epoch 130/150\n",
      "104/104 [==============================] - 0s 4ms/step - loss: 1.2086e-04 - root_mean_squared_error: 0.0110 - val_loss: 3.8238e-05 - val_root_mean_squared_error: 0.0062\n",
      "Epoch 131/150\n",
      "104/104 [==============================] - 0s 4ms/step - loss: 1.1721e-04 - root_mean_squared_error: 0.0108 - val_loss: 1.1016e-05 - val_root_mean_squared_error: 0.0033\n",
      "Epoch 132/150\n",
      "104/104 [==============================] - 0s 4ms/step - loss: 1.3419e-04 - root_mean_squared_error: 0.0116 - val_loss: 1.2329e-05 - val_root_mean_squared_error: 0.0035\n",
      "Epoch 133/150\n",
      "104/104 [==============================] - 0s 4ms/step - loss: 1.2088e-04 - root_mean_squared_error: 0.0110 - val_loss: 1.0856e-05 - val_root_mean_squared_error: 0.0033\n",
      "Epoch 134/150\n",
      "104/104 [==============================] - 0s 4ms/step - loss: 1.2285e-04 - root_mean_squared_error: 0.0111 - val_loss: 1.3534e-05 - val_root_mean_squared_error: 0.0037\n",
      "Epoch 135/150\n",
      "104/104 [==============================] - 0s 4ms/step - loss: 1.2255e-04 - root_mean_squared_error: 0.0111 - val_loss: 1.0445e-05 - val_root_mean_squared_error: 0.0032\n",
      "Epoch 136/150\n",
      "104/104 [==============================] - 0s 4ms/step - loss: 1.2163e-04 - root_mean_squared_error: 0.0110 - val_loss: 1.0084e-05 - val_root_mean_squared_error: 0.0032\n",
      "Epoch 137/150\n",
      "104/104 [==============================] - 0s 4ms/step - loss: 1.2681e-04 - root_mean_squared_error: 0.0113 - val_loss: 1.0949e-05 - val_root_mean_squared_error: 0.0033\n",
      "Epoch 138/150\n",
      "104/104 [==============================] - 0s 4ms/step - loss: 1.3208e-04 - root_mean_squared_error: 0.0115 - val_loss: 2.1892e-05 - val_root_mean_squared_error: 0.0047\n",
      "Epoch 139/150\n",
      "104/104 [==============================] - 0s 4ms/step - loss: 1.2241e-04 - root_mean_squared_error: 0.0111 - val_loss: 1.4887e-05 - val_root_mean_squared_error: 0.0039\n",
      "Epoch 140/150\n",
      "104/104 [==============================] - 0s 4ms/step - loss: 1.2006e-04 - root_mean_squared_error: 0.0110 - val_loss: 4.7974e-05 - val_root_mean_squared_error: 0.0069\n",
      "Epoch 141/150\n",
      "104/104 [==============================] - 0s 4ms/step - loss: 1.4041e-04 - root_mean_squared_error: 0.0118 - val_loss: 2.4733e-05 - val_root_mean_squared_error: 0.0050\n",
      "Epoch 142/150\n",
      "104/104 [==============================] - 0s 4ms/step - loss: 1.2228e-04 - root_mean_squared_error: 0.0111 - val_loss: 4.7608e-05 - val_root_mean_squared_error: 0.0069\n",
      "Epoch 143/150\n",
      "104/104 [==============================] - 0s 4ms/step - loss: 1.3559e-04 - root_mean_squared_error: 0.0116 - val_loss: 3.6440e-05 - val_root_mean_squared_error: 0.0060\n",
      "Epoch 144/150\n",
      "104/104 [==============================] - 0s 4ms/step - loss: 1.2624e-04 - root_mean_squared_error: 0.0112 - val_loss: 3.1169e-05 - val_root_mean_squared_error: 0.0056\n",
      "Epoch 145/150\n",
      "104/104 [==============================] - 0s 4ms/step - loss: 1.3135e-04 - root_mean_squared_error: 0.0115 - val_loss: 3.4419e-05 - val_root_mean_squared_error: 0.0059\n",
      "Epoch 146/150\n",
      "104/104 [==============================] - 0s 4ms/step - loss: 1.1698e-04 - root_mean_squared_error: 0.0108 - val_loss: 3.2644e-05 - val_root_mean_squared_error: 0.0057\n",
      "Epoch 147/150\n",
      "104/104 [==============================] - 0s 4ms/step - loss: 1.1789e-04 - root_mean_squared_error: 0.0109 - val_loss: 2.4205e-05 - val_root_mean_squared_error: 0.0049\n",
      "Epoch 148/150\n",
      "104/104 [==============================] - 0s 4ms/step - loss: 1.2270e-04 - root_mean_squared_error: 0.0111 - val_loss: 3.9994e-05 - val_root_mean_squared_error: 0.0063\n",
      "Epoch 149/150\n",
      "104/104 [==============================] - 0s 4ms/step - loss: 1.2210e-04 - root_mean_squared_error: 0.0110 - val_loss: 5.3905e-05 - val_root_mean_squared_error: 0.0073\n",
      "Epoch 150/150\n",
      " 97/104 [==========================>...] - ETA: 0s - loss: 1.2352e-04 - root_mean_squared_error: 0.0111"
     ]
    },
    {
     "name": "stderr",
     "output_type": "stream",
     "text": [
      "WARNING:absl:Found untraced functions such as _update_step_xla, lstm_cell_4_layer_call_fn, lstm_cell_4_layer_call_and_return_conditional_losses while saving (showing 3 of 3). These functions will not be directly callable after loading.\n"
     ]
    },
    {
     "name": "stdout",
     "output_type": "stream",
     "text": [
      "INFO:tensorflow:Assets written to: mamfmodel\\assets\n"
     ]
    },
    {
     "name": "stderr",
     "output_type": "stream",
     "text": [
      "INFO:tensorflow:Assets written to: mamfmodel\\assets\n"
     ]
    },
    {
     "name": "stdout",
     "output_type": "stream",
     "text": [
      "104/104 [==============================] - 3s 33ms/step - loss: 1.2000e-04 - root_mean_squared_error: 0.0110 - val_loss: 9.2296e-06 - val_root_mean_squared_error: 0.0030\n"
     ]
    },
    {
     "data": {
      "text/plain": [
       "<keras.callbacks.History at 0x223d5a593c0>"
      ]
     },
     "execution_count": 61,
     "metadata": {},
     "output_type": "execute_result"
    }
   ],
   "source": [
    "cp = tf.keras.callbacks.ModelCheckpoint('mamfmodel/', save_best_only=True)\n",
    "mamfmodel.compile(loss='mean_squared_error', optimizer='adam',metrics= tf.keras.metrics.RootMeanSquaredError())\n",
    "mamfmodel.fit(x_train, y_train, validation_data=(x_valid, y_valid), epochs=150, callbacks=[cp])"
   ]
  },
  {
   "cell_type": "code",
   "execution_count": 67,
   "metadata": {},
   "outputs": [
    {
     "name": "stdout",
     "output_type": "stream",
     "text": [
      "6/6 [==============================] - 0s 1ms/step\n"
     ]
    },
    {
     "data": {
      "image/png": "[encoded data removed]",
      "text/plain": [
       "<Figure size 640x480 with 1 Axes>"
      ]
     },
     "metadata": {},
     "output_type": "display_data"
    }
   ],
   "source": [
    "y_pred = mamfmodel.predict(x_test)\n",
    "y_predict = scaler.inverse_transform(y_pred)\n",
    "test_predict = scaler.inverse_transform(y_test)\n",
    "\n",
    "#print(y_pred)\n",
    "#print(x_plt_test)\n",
    "plt.plot(cast_time_data(x_plt_test),test_predict)\n",
    "plt.plot(cast_time_data(x_plt_test),y_predict)\n",
    "plt.show()"
   ]
  },
  {
   "cell_type": "code",
   "execution_count": 68,
   "metadata": {},
   "outputs": [
    {
     "name": "stdout",
     "output_type": "stream",
     "text": [
      "115/115 [==============================] - 0s 1ms/step\n",
      "(3668,) (3668, 1)\n"
     ]
    },
    {
     "data": {
      "image/png": "[encoded data removed]",
      "text/plain": [
       "<Figure size 640x480 with 1 Axes>"
      ]
     },
     "metadata": {},
     "output_type": "display_data"
    }
   ],
   "source": [
    "y_pred = mamfmodel.predict(x_series_def)\n",
    "y_predict = scaler.inverse_transform(y_pred)\n",
    "x_plot = x[10:]\n",
    "print(x_plot.shape, y_pred.shape)\n",
    "plt.plot(cast_time_data(x),y)\n",
    "plt.plot(cast_time_data(x_plot),y_predict)\n",
    "plt.show()"
   ]
  },
  {
   "cell_type": "code",
   "execution_count": 73,
   "metadata": {},
   "outputs": [
    {
     "name": "stdout",
     "output_type": "stream",
     "text": [
      "1/1 [==============================] - 0s 27ms/step\n",
      "1/1 [==============================] - 0s 34ms/step\n",
      "1/1 [==============================] - 0s 30ms/step\n",
      "1/1 [==============================] - 0s 31ms/step\n",
      "1/1 [==============================] - 0s 25ms/step\n",
      "1/1 [==============================] - 0s 25ms/step\n",
      "1/1 [==============================] - 0s 26ms/step\n",
      "1/1 [==============================] - 0s 25ms/step\n",
      "1/1 [==============================] - 0s 24ms/step\n",
      "1/1 [==============================] - 0s 24ms/step\n",
      "1/1 [==============================] - 0s 25ms/step\n",
      "1/1 [==============================] - 0s 37ms/step\n",
      "1/1 [==============================] - 0s 25ms/step\n",
      "1/1 [==============================] - 0s 26ms/step\n",
      "1/1 [==============================] - 0s 31ms/step\n",
      "1/1 [==============================] - 0s 26ms/step\n",
      "1/1 [==============================] - 0s 28ms/step\n",
      "(16,)\n",
      "[[0.0237123 ]\n",
      " [0.02398214]\n",
      " [0.02424046]\n",
      " [0.02449341]\n",
      " [0.02474249]\n",
      " [0.02498589]\n",
      " [0.02522133]\n",
      " [0.02544985]\n",
      " [0.02567379]\n",
      " [0.02589122]\n",
      " [0.02610244]\n",
      " [0.02630755]\n",
      " [0.02650672]\n",
      " [0.02670017]\n",
      " [0.02688804]\n",
      " [0.02707052]]\n"
     ]
    },
    {
     "data": {
      "text/plain": [
       "[<matplotlib.lines.Line2D at 0x223f79d26b0>]"
      ]
     },
     "execution_count": 73,
     "metadata": {},
     "output_type": "execute_result"
    },
    {
     "data": {
      "image/png": "[encoded data removed]",
      "text/plain": [
       "<Figure size 640x480 with 1 Axes>"
      ]
     },
     "metadata": {},
     "output_type": "display_data"
    }
   ],
   "source": [
    "def bracket_list(list):\n",
    "    new_list = []\n",
    "    for value in range(len(list)):\n",
    "        new_value = [list[value]]\n",
    "        new_list.append(new_value)\n",
    "    return np.array([new_list])\n",
    "\n",
    "def predict_next_days(model_ker : tf.keras.models, data , days = 1, hours = 4):\n",
    "    new_data = data\n",
    "    last_days = []\n",
    "    last_series = np.array([data[-1]])\n",
    "    pred = mamfmodel.predict(last_series).flatten()\n",
    "    new_pred_series = np.delete(last_series, 0)\n",
    "    new_pred_series = np.append(new_pred_series, pred)\n",
    "    new_pred_series = bracket_list(new_pred_series)\n",
    "    last_series = new_pred_series\n",
    "    for i in range(days*hours):\n",
    "        pred = mamfmodel.predict(last_series).flatten()\n",
    "        new_pred_series = np.delete(last_series, 0)\n",
    "        new_pred_series = np.append(new_pred_series, pred)\n",
    "        new_pred_series = bracket_list(new_pred_series)\n",
    "        last_series = new_pred_series\n",
    "        last_days.append(pred)\n",
    "    return np.array(last_days)\n",
    "\n",
    "def add_days(x_ser, days = 1, hours = 4):\n",
    "    new_days = []\n",
    "    new_day = x_ser[-1] + 4*60*60*1000\n",
    "    #range_h = int(24/hours)\n",
    "    for i in range(days*hours):\n",
    "        new_days.append(new_day)\n",
    "        new_day += 4*60*60*1000\n",
    "    return np.array(new_days)\n",
    "\n",
    "\n",
    "#print(y_close.shape)\n",
    "x_next_days = add_days(x, days = 4)\n",
    "y_next_pred = predict_next_days(mamfmodel, x_series_def , 4)\n",
    "print(x_next_days.shape)\n",
    "print(y_next_pred)\n",
    "plt.plot(cast_time_data(x_next_days),scaler.inverse_transform(y_next_pred))"
   ]
  }
 ],
 "metadata": {
  "kernelspec": {
   "display_name": "Python 3",
   "language": "python",
   "name": "python3"
  },
  "language_info": {
   "codemirror_mode": {
    "name": "ipython",
    "version": 3
   },
   "file_extension": ".py",
   "mimetype": "text/x-python",
   "name": "python",
   "nbconvert_exporter": "python",
   "pygments_lexer": "ipython3",
   "version": "3.10.9"
  },
  "orig_nbformat": 4,
  "vscode": {
   "interpreter": {
    "hash": "f027560aaa5d1370abb9f19c7c71f97861b7f9ee8178bcc1c644ee12e3f51f57"
   }
  }
 },
 "nbformat": 4,
 "nbformat_minor": 2
}
