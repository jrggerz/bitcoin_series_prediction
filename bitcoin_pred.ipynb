{
 "cells": [
  {
   "cell_type": "code",
   "execution_count": 33,
   "metadata": {},
   "outputs": [],
   "source": [
    "#import libraries\n",
    "import requests, zipfile\n",
    "import pandas as pd\n",
    "import io\n",
    "import os\n",
    "import numpy as np \n",
    "import tensorflow as tf\n",
    "from matplotlib import pyplot as plt\n",
    "from io import StringIO\n",
    "import itertools as it\n",
    "from datetime import datetime\n",
    "import sklearn as sklearn\n",
    "np.set_printoptions(threshold=sys.maxsize)\n",
    "from sklearn.metrics import mean_squared_error, mean_absolute_error, explained_variance_score, r2_score \n",
    "from sklearn.metrics import mean_poisson_deviance, mean_gamma_deviance, accuracy_score\n",
    "from sklearn.preprocessing import MinMaxScaler"
   ]
  },
  {
   "cell_type": "code",
   "execution_count": 34,
   "metadata": {},
   "outputs": [
    {
     "name": "stdout",
     "output_type": "stream",
     "text": [
      "https://data.binance.vision/data/spot/daily/klines/BTCBUSD/4h/BTCBUSD-4h-\n"
     ]
    }
   ],
   "source": [
    "#declare global variables \n",
    "daily_monthly = 'daily'\n",
    "time_lapse = '4h'\n",
    "bitcoin_par = 'BTCBUSD'\n",
    "year_2022 = '2022-'\n",
    "year_2023 = '2023-'\n",
    "url = 'https://data.binance.vision/data/spot/'+daily_monthly+'/klines/'+bitcoin_par+'/'+time_lapse+'/'+bitcoin_par+'-'+time_lapse+'-'\n",
    "zip = '.zip'\n",
    "#https://data.binance.vision/data/spot/daily/klines/BTCBUSD/4h/BTCBUSD-4h-\n",
    "print(url)"
   ]
  },
  {
   "cell_type": "code",
   "execution_count": 114,
   "metadata": {},
   "outputs": [
    {
     "data": {
      "text/plain": [
       "'\\nx = np.array([], dtype=np.uint32)\\ny = np.array([], dtype=np.uint32)\\n#download the data and unzip\\ntry:\\n    for year_loop in range(2021, 2024):\\n        for month_loop in range(1, 13):\\n            if month_loop in (1,3,5,7,8,10,12):\\n                days_range = 32\\n            elif month_loop in (4,6,9,11):\\n                days_range = 31\\n            else:\\n                days_range = 29\\n            month_inloop =  \\'0\\'+str(month_loop) if month_loop < 10 else str(month_loop)\\n            for day_loop in range(1, days_range):#days_range\\n                day_inloop = \\'0\\'+str(day_loop) if day_loop < 10 else str(day_loop)\\n                url_loop = url+str(year_loop)+\\'-\\'+str(month_inloop)+\\'-\\'+str(day_inloop)+zip\\n                #print(url_loop)\\n                #requeset info from binance\\n                #req_loop = requests.get(url_loop, stream=True)\\n                #print(req_loop.status_code)\\n                if  ((year_loop  >= 2021 and month_loop >= 3)):#and (year_loop <= 2023 and month_loop <= 1 and day_loop <= 5)\\n                    #z = zipfile.ZipFile(io.BytesIO(req_loop.content))\\n                    #z.extractall(os.path.join(os.getcwd(), \\'data-btc\\'))\\n                    csv_name_loop = bitcoin_par+\\'-\\'+time_lapse+\\'-\\'+str(year_loop)+\\'-\\'+str(month_inloop)+\\'-\\'+str(day_inloop)+\\'.csv\\'\\n                    print(csv_name_loop)\\n                    df  =    pd.read_csv(os.path.join(os.getcwd(), \\'data-btc\\', csv_name_loop)\\n                    , header = None\\n                    , names = [\\'Open time\\', \\'Open\\', \\'High\\', \\'Low\\', \\'Close\\', \\'Volume\\', \\'Close time\\', \\'Quote asset volume\\', \\'Number of trades\\', \\'Taker buy base asset volume\\', \\'Taker buy quote asset volume\\', \\'ignore\\'])\\n                    x_time = df[[\\'Open time\\']].to_numpy(dtype = np.float32)\\n                    x = np.append(x, x_time)\\n                    y_price_high = df[[\\'High\\']].to_numpy(dtype = np.float32)\\n                    y_price_close = df[[\\'Low\\']].to_numpy(dtype = np.float32)\\n                    y_promedio = np.add(y_price_high, y_price_close)\\n                    y_promedio =  y_promedio/2\\n                    y = np.append(y, y_promedio)\\nexcept:\\n    print(\"Error\")\\n#print(df.shape)\\n#df.head\\n'"
      ]
     },
     "execution_count": 114,
     "metadata": {},
     "output_type": "execute_result"
    }
   ],
   "source": [
    "'''\n",
    "x = np.array([], dtype=np.uint32)\n",
    "y = np.array([], dtype=np.uint32)\n",
    "#download the data and unzip\n",
    "try:\n",
    "    for year_loop in range(2021, 2024):\n",
    "        for month_loop in range(1, 13):\n",
    "            if month_loop in (1,3,5,7,8,10,12):\n",
    "                days_range = 32\n",
    "            elif month_loop in (4,6,9,11):\n",
    "                days_range = 31\n",
    "            else:\n",
    "                days_range = 29\n",
    "            month_inloop =  '0'+str(month_loop) if month_loop < 10 else str(month_loop)\n",
    "            for day_loop in range(1, days_range):#days_range\n",
    "                day_inloop = '0'+str(day_loop) if day_loop < 10 else str(day_loop)\n",
    "                url_loop = url+str(year_loop)+'-'+str(month_inloop)+'-'+str(day_inloop)+zip\n",
    "                #print(url_loop)\n",
    "                #requeset info from binance\n",
    "                #req_loop = requests.get(url_loop, stream=True)\n",
    "                #print(req_loop.status_code)\n",
    "                if  ((year_loop  >= 2021 and month_loop >= 3)):#and (year_loop <= 2023 and month_loop <= 1 and day_loop <= 5)\n",
    "                    #z = zipfile.ZipFile(io.BytesIO(req_loop.content))\n",
    "                    #z.extractall(os.path.join(os.getcwd(), 'data-btc'))\n",
    "                    csv_name_loop = bitcoin_par+'-'+time_lapse+'-'+str(year_loop)+'-'+str(month_inloop)+'-'+str(day_inloop)+'.csv'\n",
    "                    print(csv_name_loop)\n",
    "                    df  =    pd.read_csv(os.path.join(os.getcwd(), 'data-btc', csv_name_loop)\n",
    "                    , header = None\n",
    "                    , names = ['Open time', 'Open', 'High', 'Low', 'Close', 'Volume', 'Close time', 'Quote asset volume', 'Number of trades', 'Taker buy base asset volume', 'Taker buy quote asset volume', 'ignore'])\n",
    "                    x_time = df[['Open time']].to_numpy(dtype = np.float32)\n",
    "                    x = np.append(x, x_time)\n",
    "                    y_price_high = df[['High']].to_numpy(dtype = np.float32)\n",
    "                    y_price_close = df[['Low']].to_numpy(dtype = np.float32)\n",
    "                    y_promedio = np.add(y_price_high, y_price_close)\n",
    "                    y_promedio =  y_promedio/2\n",
    "                    y = np.append(y, y_promedio)\n",
    "except:\n",
    "    print(\"Error\")\n",
    "#print(df.shape)\n",
    "#df.head\n",
    "'''\n"
   ]
  },
  {
   "cell_type": "code",
   "execution_count": 35,
   "metadata": {},
   "outputs": [
    {
     "name": "stdout",
     "output_type": "stream",
     "text": [
      "200\n",
      "200\n",
      "200\n",
      "200\n",
      "200\n",
      "200\n",
      "200\n",
      "1673121628160.0 1673203540290.552\n",
      "16936.51953125 16928.93369893\n",
      "16928.93369893\n",
      "(3697,) (3697,)\n"
     ]
    }
   ],
   "source": [
    "x = np.array([], dtype=np.uint32)\n",
    "y = np.array([], dtype=np.uint32)\n",
    "#download and charge 2021 from month 3 to month 12\n",
    "for month_loop in range (3, 12):\n",
    "    if month_loop in (1,3,5,7,8,10,12):\n",
    "        days_range = 32\n",
    "    elif month_loop in (4,6,9,11):\n",
    "        days_range = 31\n",
    "    else:\n",
    "        days_range = 29\n",
    "    month_inloop =  '0'+str(month_loop) if month_loop < 10 else str(month_loop)\n",
    "    for day_loop in range(1, days_range):#days_range\n",
    "        day_inloop = '0'+str(day_loop) if day_loop < 10 else str(day_loop)\n",
    "        url_loop = url+str(2021)+'-'+str(month_inloop)+'-'+str(day_inloop)+zip\n",
    "        #print(url_loop)\n",
    "        #requeset info from binance\n",
    "        #req_loop = requests.get(url_loop, stream=True)\n",
    "        #print(req_loop.status_code)\n",
    "        #z = zipfile.ZipFile(io.BytesIO(req_loop.content))\n",
    "        #z.extractall(os.path.join(os.getcwd(), 'data-btc'))\n",
    "        csv_name_loop = bitcoin_par+'-'+time_lapse+'-'+str(2021)+'-'+str(month_inloop)+'-'+str(day_inloop)+'.csv'\n",
    "        #print(csv_name_loop)\n",
    "        df  =    pd.read_csv(os.path.join(os.getcwd(), 'data-btc', csv_name_loop)\n",
    "        , header = None\n",
    "        , names = ['Open time', 'Open', 'High', 'Low', 'Close', 'Volume', 'Close time', 'Quote asset volume', 'Number of trades', 'Taker buy base asset volume', 'Taker buy quote asset volume', 'ignore'])\n",
    "        x_time = df[['Open time']].to_numpy(dtype = np.float32)\n",
    "        x = np.append(x, x_time)\n",
    "        y_price_high = df[['High']].to_numpy(dtype = np.float32)\n",
    "        y_price_close = df[['Low']].to_numpy(dtype = np.float32)\n",
    "        y_promedio = np.add(y_price_high, y_price_close)\n",
    "        y_promedio =  y_promedio/2\n",
    "        y = np.append(y, y_promedio)\n",
    "        \n",
    "#download and charge 2022 all the motnhs\n",
    "for month_loop in range (1, 12):\n",
    "    if month_loop in (1,3,5,7,8,10,12):\n",
    "        days_range = 32\n",
    "    elif month_loop in (4,6,9,11):\n",
    "        days_range = 31\n",
    "    else:\n",
    "        days_range = 29\n",
    "    month_inloop =  '0'+str(month_loop) if month_loop < 10 else str(month_loop)\n",
    "    for day_loop in range(1, days_range):#days_range\n",
    "        day_inloop = '0'+str(day_loop) if day_loop < 10 else str(day_loop)\n",
    "        url_loop = url+str(2022)+'-'+str(month_inloop)+'-'+str(day_inloop)+zip\n",
    "        #print(url_loop)\n",
    "        #requeset info from binance\n",
    "        #req_loop = requests.get(url_loop, stream=True)\n",
    "        #print(req_loop.status_code)\n",
    "        #z = zipfile.ZipFile(io.BytesIO(req_loop.content))\n",
    "        #z.extractall(os.path.join(os.getcwd(), 'data-btc'))\n",
    "        csv_name_loop = bitcoin_par+'-'+time_lapse+'-'+str(2022)+'-'+str(month_inloop)+'-'+str(day_inloop)+'.csv'\n",
    "        #print(csv_name_loop)\n",
    "        df  =    pd.read_csv(os.path.join(os.getcwd(), 'data-btc', csv_name_loop)\n",
    "        , header = None\n",
    "        , names = ['Open time', 'Open', 'High', 'Low', 'Close', 'Volume', 'Close time', 'Quote asset volume', 'Number of trades', 'Taker buy base asset volume', 'Taker buy quote asset volume', 'ignore'])\n",
    "        x_time = df[['Open time']].to_numpy(dtype = np.float32)\n",
    "        x = np.append(x, x_time)\n",
    "        y_price_high = df[['High']].to_numpy(dtype = np.float32)\n",
    "        y_price_close = df[['Low']].to_numpy(dtype = np.float32)\n",
    "        y_promedio = np.add(y_price_high, y_price_close)\n",
    "        y_promedio =  y_promedio/2\n",
    "        y = np.append(y, y_promedio)\n",
    "#download and charge 2023 in order of the days \n",
    "for month_loop in range (1, 2):\n",
    "    if month_loop in (1,3,5,7,8,10,12):\n",
    "        days_range = 32\n",
    "    elif month_loop in (4,6,9,11):\n",
    "        days_range = 31\n",
    "    else:\n",
    "        days_range = 29\n",
    "    month_inloop =  '0'+str(month_loop) if month_loop < 10 else str(month_loop)\n",
    "    for day_loop in range(1, 8):#days_range\n",
    "        day_inloop = '0'+str(day_loop) if day_loop < 10 else str(day_loop)\n",
    "        url_loop = url+str(2023)+'-'+str(month_inloop)+'-'+str(day_inloop)+zip\n",
    "        #print(url_loop)\n",
    "        #requeset info from binance\n",
    "        req_loop = requests.get(url_loop, stream=True)\n",
    "        print(req_loop.status_code)\n",
    "        z = zipfile.ZipFile(io.BytesIO(req_loop.content))\n",
    "        z.extractall(os.path.join(os.getcwd(), 'data-btc'))\n",
    "        csv_name_loop = bitcoin_par+'-'+time_lapse+'-'+str(2023)+'-'+str(month_inloop)+'-'+str(day_inloop)+'.csv'\n",
    "        #print(csv_name_loop)\n",
    "        df  =    pd.read_csv(os.path.join(os.getcwd(), 'data-btc', csv_name_loop)\n",
    "        , header = None\n",
    "        , names = ['Open time', 'Open', 'High', 'Low', 'Close', 'Volume', 'Close time', 'Quote asset volume', 'Number of trades', 'Taker buy base asset volume', 'Taker buy quote asset volume', 'ignore'])\n",
    "        x_time = df[['Open time']].to_numpy(dtype = np.float32)\n",
    "        x = np.append(x, x_time)\n",
    "        y_price_high = df[['High']].to_numpy(dtype = np.float32)\n",
    "        y_price_close = df[['Low']].to_numpy(dtype = np.float32)\n",
    "        y_promedio = np.add(y_price_high, y_price_close)\n",
    "        y_promedio =  y_promedio/2\n",
    "        y = np.append(y, y_promedio)\n",
    "\n",
    "\n",
    "\n",
    "last_date = datetime.now()\n",
    "unix_last_date = datetime.timestamp(last_date)*1000\n",
    "print(x[-1], unix_last_date)\n",
    "req_bin_today = requests.get('https://api.binance.com/api/v3/avgPrice?symbol=BTCUSDT', stream=True)\n",
    "last_price = req_bin_today.json()['price']\n",
    "print(y[-1], last_price)\n",
    "x = np.append(x, np.array(unix_last_date))\n",
    "y = np.append(y, np.array(last_price, dtype = np.float32))\n",
    "print(last_price)\n",
    "print(y.shape, x.shape)\n",
    "\n"
   ]
  },
  {
   "cell_type": "code",
   "execution_count": 36,
   "metadata": {},
   "outputs": [],
   "source": [
    "df_scal = pd.DataFrame(y)\n",
    "scaler = MinMaxScaler(feature_range=(0,1))\n",
    "y_close=scaler.fit_transform(np.array(df_scal).reshape(-1,1))"
   ]
  },
  {
   "cell_type": "code",
   "execution_count": 37,
   "metadata": {},
   "outputs": [
    {
     "name": "stdout",
     "output_type": "stream",
     "text": [
      "(3697,)\n"
     ]
    },
    {
     "data": {
      "image/png": "[encoded data removed]",
      "text/plain": [
       "<Figure size 640x480 with 1 Axes>"
      ]
     },
     "metadata": {},
     "output_type": "display_data"
    }
   ],
   "source": [
    "print(y.shape)\n",
    "#plt.plot(x, y)\n",
    "plt.plot(x, y_close)\n",
    "plt.show()"
   ]
  },
  {
   "cell_type": "code",
   "execution_count": 38,
   "metadata": {},
   "outputs": [
    {
     "data": {
      "image/png": "[encoded data removed]",
      "text/plain": [
       "<Figure size 640x480 with 1 Axes>"
      ]
     },
     "metadata": {},
     "output_type": "display_data"
    }
   ],
   "source": [
    "def cast_time_data(np_array):\n",
    "    x_new_time = []\n",
    "    for time_unix in np_array:\n",
    "        new_time = int(str(time_unix)[0:10])\n",
    "        unixToDatetime = datetime.fromtimestamp(new_time).strftime('%Y-%m-%d %H:%M:%S')\n",
    "        x_new_time.append(unixToDatetime)\n",
    "    return np.array(x_new_time)\n",
    "x_new_time = cast_time_data(x)\n",
    "plt.plot(x_new_time, scaler.inverse_transform(y_close))\n",
    "plt.show()"
   ]
  },
  {
   "cell_type": "code",
   "execution_count": 47,
   "metadata": {},
   "outputs": [],
   "source": [
    "def prepare_y_series(np_array, series_size = 26):\n",
    "    x_series = []\n",
    "    y_series = []\n",
    "    for y_val in range(len(np_array)-series_size):\n",
    "        x_series.append([[a] for a in np_array[y_val:y_val+series_size]])\n",
    "        y_series.append(np_array[y_val+series_size])\n",
    "        #print(np_array[y_val+series_size])\n",
    "    #print(np.array(y_series))\n",
    "    return np.array(x_series), np.array(y_series)\n",
    "x_series_def, y_series_def = prepare_y_series(y_close)\n",
    "#prepare_data_in_percentage\n",
    "nint_perc = int(len(x_series_def)*.90)\n",
    "nintfive_perc = int(len(x_series_def)*.95)\n",
    "hun_perc = int(len(x_series_def)*1.0)\n",
    "x_train, y_train = x_series_def[:nint_perc], y_series_def[:nint_perc]\n",
    "x_valid, y_valid = x_series_def[nint_perc:hun_perc], y_series_def[nint_perc:hun_perc]\n",
    "x_test, y_test = x_series_def[nintfive_perc:hun_perc], y_series_def[nintfive_perc:hun_perc]\n",
    "x_plt_train = x[:nint_perc]\n",
    "x_plt_valid = x[nint_perc:nintfive_perc]\n",
    "x_plt_test = x[nintfive_perc:hun_perc]"
   ]
  },
  {
   "cell_type": "code",
   "execution_count": 48,
   "metadata": {},
   "outputs": [
    {
     "name": "stdout",
     "output_type": "stream",
     "text": [
      "Model: \"sequential_3\"\n",
      "_________________________________________________________________\n",
      " Layer (type)                Output Shape              Param #   \n",
      "=================================================================\n",
      " lstm_3 (LSTM)               (None, 64)                16896     \n",
      "                                                                 \n",
      " dense_6 (Dense)             (None, 8)                 520       \n",
      "                                                                 \n",
      " dense_7 (Dense)             (None, 1)                 9         \n",
      "                                                                 \n",
      "=================================================================\n",
      "Total params: 17,425\n",
      "Trainable params: 17,425\n",
      "Non-trainable params: 0\n",
      "_________________________________________________________________\n"
     ]
    }
   ],
   "source": [
    "#new maderfucking model\n",
    "mamfmodel = tf.keras.models.Sequential()\n",
    "mamfmodel.add(tf.keras.layers.InputLayer((26, 1)))\n",
    "mamfmodel.add(tf.keras.layers.LSTM(units = 64))\n",
    "mamfmodel.add(tf.keras.layers.Dense(8, 'relu'))\n",
    "mamfmodel.add(tf.keras.layers.Dense(1, 'linear'))\n",
    "mamfmodel.summary()"
   ]
  },
  {
   "cell_type": "code",
   "execution_count": 49,
   "metadata": {},
   "outputs": [
    {
     "name": "stdout",
     "output_type": "stream",
     "text": [
      "Epoch 1/100\n",
      "104/104 [==============================] - ETA: 0s - loss: 0.0180 - root_mean_squared_error: 0.1343"
     ]
    },
    {
     "name": "stderr",
     "output_type": "stream",
     "text": [
      "WARNING:absl:Found untraced functions such as _update_step_xla, lstm_cell_3_layer_call_fn, lstm_cell_3_layer_call_and_return_conditional_losses while saving (showing 3 of 3). These functions will not be directly callable after loading.\n"
     ]
    },
    {
     "name": "stdout",
     "output_type": "stream",
     "text": [
      "INFO:tensorflow:Assets written to: mamfmodel\\assets\n"
     ]
    },
    {
     "name": "stderr",
     "output_type": "stream",
     "text": [
      "INFO:tensorflow:Assets written to: mamfmodel\\assets\n"
     ]
    },
    {
     "name": "stdout",
     "output_type": "stream",
     "text": [
      "104/104 [==============================] - 6s 35ms/step - loss: 0.0180 - root_mean_squared_error: 0.1343 - val_loss: 1.9764e-04 - val_root_mean_squared_error: 0.0141\n",
      "Epoch 2/100\n",
      " 96/104 [==========================>...] - ETA: 0s - loss: 6.3971e-04 - root_mean_squared_error: 0.0253"
     ]
    },
    {
     "name": "stderr",
     "output_type": "stream",
     "text": [
      "WARNING:absl:Found untraced functions such as _update_step_xla, lstm_cell_3_layer_call_fn, lstm_cell_3_layer_call_and_return_conditional_losses while saving (showing 3 of 3). These functions will not be directly callable after loading.\n"
     ]
    },
    {
     "name": "stdout",
     "output_type": "stream",
     "text": [
      "INFO:tensorflow:Assets written to: mamfmodel\\assets\n"
     ]
    },
    {
     "name": "stderr",
     "output_type": "stream",
     "text": [
      "INFO:tensorflow:Assets written to: mamfmodel\\assets\n"
     ]
    },
    {
     "name": "stdout",
     "output_type": "stream",
     "text": [
      "104/104 [==============================] - 3s 33ms/step - loss: 6.3571e-04 - root_mean_squared_error: 0.0252 - val_loss: 5.7967e-05 - val_root_mean_squared_error: 0.0076\n",
      "Epoch 3/100\n",
      "104/104 [==============================] - 1s 7ms/step - loss: 5.7357e-04 - root_mean_squared_error: 0.0239 - val_loss: 1.5787e-04 - val_root_mean_squared_error: 0.0126\n",
      "Epoch 4/100\n",
      "104/104 [==============================] - 1s 7ms/step - loss: 4.7476e-04 - root_mean_squared_error: 0.0218 - val_loss: 7.7510e-05 - val_root_mean_squared_error: 0.0088\n",
      "Epoch 5/100\n",
      "100/104 [===========================>..] - ETA: 0s - loss: 4.3035e-04 - root_mean_squared_error: 0.0207"
     ]
    },
    {
     "name": "stderr",
     "output_type": "stream",
     "text": [
      "WARNING:absl:Found untraced functions such as _update_step_xla, lstm_cell_3_layer_call_fn, lstm_cell_3_layer_call_and_return_conditional_losses while saving (showing 3 of 3). These functions will not be directly callable after loading.\n"
     ]
    },
    {
     "name": "stdout",
     "output_type": "stream",
     "text": [
      "INFO:tensorflow:Assets written to: mamfmodel\\assets\n"
     ]
    },
    {
     "name": "stderr",
     "output_type": "stream",
     "text": [
      "INFO:tensorflow:Assets written to: mamfmodel\\assets\n"
     ]
    },
    {
     "name": "stdout",
     "output_type": "stream",
     "text": [
      "104/104 [==============================] - 3s 33ms/step - loss: 4.3761e-04 - root_mean_squared_error: 0.0209 - val_loss: 4.2211e-05 - val_root_mean_squared_error: 0.0065\n",
      "Epoch 6/100\n",
      " 98/104 [===========================>..] - ETA: 0s - loss: 4.5014e-04 - root_mean_squared_error: 0.0212"
     ]
    },
    {
     "name": "stderr",
     "output_type": "stream",
     "text": [
      "WARNING:absl:Found untraced functions such as _update_step_xla, lstm_cell_3_layer_call_fn, lstm_cell_3_layer_call_and_return_conditional_losses while saving (showing 3 of 3). These functions will not be directly callable after loading.\n"
     ]
    },
    {
     "name": "stdout",
     "output_type": "stream",
     "text": [
      "INFO:tensorflow:Assets written to: mamfmodel\\assets\n"
     ]
    },
    {
     "name": "stderr",
     "output_type": "stream",
     "text": [
      "INFO:tensorflow:Assets written to: mamfmodel\\assets\n"
     ]
    },
    {
     "name": "stdout",
     "output_type": "stream",
     "text": [
      "104/104 [==============================] - 3s 32ms/step - loss: 4.4023e-04 - root_mean_squared_error: 0.0210 - val_loss: 3.7291e-05 - val_root_mean_squared_error: 0.0061\n",
      "Epoch 7/100\n",
      "104/104 [==============================] - 1s 8ms/step - loss: 3.7934e-04 - root_mean_squared_error: 0.0195 - val_loss: 5.4293e-05 - val_root_mean_squared_error: 0.0074\n",
      "Epoch 8/100\n",
      " 99/104 [===========================>..] - ETA: 0s - loss: 4.2856e-04 - root_mean_squared_error: 0.0207"
     ]
    },
    {
     "name": "stderr",
     "output_type": "stream",
     "text": [
      "WARNING:absl:Found untraced functions such as _update_step_xla, lstm_cell_3_layer_call_fn, lstm_cell_3_layer_call_and_return_conditional_losses while saving (showing 3 of 3). These functions will not be directly callable after loading.\n"
     ]
    },
    {
     "name": "stdout",
     "output_type": "stream",
     "text": [
      "INFO:tensorflow:Assets written to: mamfmodel\\assets\n"
     ]
    },
    {
     "name": "stderr",
     "output_type": "stream",
     "text": [
      "INFO:tensorflow:Assets written to: mamfmodel\\assets\n"
     ]
    },
    {
     "name": "stdout",
     "output_type": "stream",
     "text": [
      "104/104 [==============================] - 4s 39ms/step - loss: 4.2030e-04 - root_mean_squared_error: 0.0205 - val_loss: 3.7110e-05 - val_root_mean_squared_error: 0.0061\n",
      "Epoch 9/100\n",
      "100/104 [===========================>..] - ETA: 0s - loss: 3.4480e-04 - root_mean_squared_error: 0.0186"
     ]
    },
    {
     "name": "stderr",
     "output_type": "stream",
     "text": [
      "WARNING:absl:Found untraced functions such as _update_step_xla, lstm_cell_3_layer_call_fn, lstm_cell_3_layer_call_and_return_conditional_losses while saving (showing 3 of 3). These functions will not be directly callable after loading.\n"
     ]
    },
    {
     "name": "stdout",
     "output_type": "stream",
     "text": [
      "INFO:tensorflow:Assets written to: mamfmodel\\assets\n"
     ]
    },
    {
     "name": "stderr",
     "output_type": "stream",
     "text": [
      "INFO:tensorflow:Assets written to: mamfmodel\\assets\n"
     ]
    },
    {
     "name": "stdout",
     "output_type": "stream",
     "text": [
      "104/104 [==============================] - 3s 34ms/step - loss: 3.6258e-04 - root_mean_squared_error: 0.0190 - val_loss: 3.1417e-05 - val_root_mean_squared_error: 0.0056\n",
      "Epoch 10/100\n",
      "104/104 [==============================] - 1s 7ms/step - loss: 3.5674e-04 - root_mean_squared_error: 0.0189 - val_loss: 3.3665e-05 - val_root_mean_squared_error: 0.0058\n",
      "Epoch 11/100\n",
      " 99/104 [===========================>..] - ETA: 0s - loss: 3.3052e-04 - root_mean_squared_error: 0.0182"
     ]
    },
    {
     "name": "stderr",
     "output_type": "stream",
     "text": [
      "WARNING:absl:Found untraced functions such as _update_step_xla, lstm_cell_3_layer_call_fn, lstm_cell_3_layer_call_and_return_conditional_losses while saving (showing 3 of 3). These functions will not be directly callable after loading.\n"
     ]
    },
    {
     "name": "stdout",
     "output_type": "stream",
     "text": [
      "INFO:tensorflow:Assets written to: mamfmodel\\assets\n"
     ]
    },
    {
     "name": "stderr",
     "output_type": "stream",
     "text": [
      "INFO:tensorflow:Assets written to: mamfmodel\\assets\n"
     ]
    },
    {
     "name": "stdout",
     "output_type": "stream",
     "text": [
      "104/104 [==============================] - 3s 33ms/step - loss: 3.3438e-04 - root_mean_squared_error: 0.0183 - val_loss: 2.8750e-05 - val_root_mean_squared_error: 0.0054\n",
      "Epoch 12/100\n",
      "104/104 [==============================] - 1s 7ms/step - loss: 3.1462e-04 - root_mean_squared_error: 0.0177 - val_loss: 4.1562e-05 - val_root_mean_squared_error: 0.0064\n",
      "Epoch 13/100\n",
      "104/104 [==============================] - 1s 7ms/step - loss: 3.3430e-04 - root_mean_squared_error: 0.0183 - val_loss: 2.9689e-05 - val_root_mean_squared_error: 0.0054\n",
      "Epoch 14/100\n",
      "104/104 [==============================] - 1s 7ms/step - loss: 2.8747e-04 - root_mean_squared_error: 0.0170 - val_loss: 2.9398e-05 - val_root_mean_squared_error: 0.0054\n",
      "Epoch 15/100\n",
      "104/104 [==============================] - 1s 7ms/step - loss: 2.7754e-04 - root_mean_squared_error: 0.0167 - val_loss: 4.6441e-05 - val_root_mean_squared_error: 0.0068\n",
      "Epoch 16/100\n",
      " 98/104 [===========================>..] - ETA: 0s - loss: 2.7168e-04 - root_mean_squared_error: 0.0165"
     ]
    },
    {
     "name": "stderr",
     "output_type": "stream",
     "text": [
      "WARNING:absl:Found untraced functions such as _update_step_xla, lstm_cell_3_layer_call_fn, lstm_cell_3_layer_call_and_return_conditional_losses while saving (showing 3 of 3). These functions will not be directly callable after loading.\n"
     ]
    },
    {
     "name": "stdout",
     "output_type": "stream",
     "text": [
      "INFO:tensorflow:Assets written to: mamfmodel\\assets\n"
     ]
    },
    {
     "name": "stderr",
     "output_type": "stream",
     "text": [
      "INFO:tensorflow:Assets written to: mamfmodel\\assets\n"
     ]
    },
    {
     "name": "stdout",
     "output_type": "stream",
     "text": [
      "104/104 [==============================] - 3s 33ms/step - loss: 2.7256e-04 - root_mean_squared_error: 0.0165 - val_loss: 2.3705e-05 - val_root_mean_squared_error: 0.0049\n",
      "Epoch 17/100\n",
      "100/104 [===========================>..] - ETA: 0s - loss: 2.6531e-04 - root_mean_squared_error: 0.0163"
     ]
    },
    {
     "name": "stderr",
     "output_type": "stream",
     "text": [
      "WARNING:absl:Found untraced functions such as _update_step_xla, lstm_cell_3_layer_call_fn, lstm_cell_3_layer_call_and_return_conditional_losses while saving (showing 3 of 3). These functions will not be directly callable after loading.\n"
     ]
    },
    {
     "name": "stdout",
     "output_type": "stream",
     "text": [
      "INFO:tensorflow:Assets written to: mamfmodel\\assets\n"
     ]
    },
    {
     "name": "stderr",
     "output_type": "stream",
     "text": [
      "INFO:tensorflow:Assets written to: mamfmodel\\assets\n"
     ]
    },
    {
     "name": "stdout",
     "output_type": "stream",
     "text": [
      "104/104 [==============================] - 3s 33ms/step - loss: 2.6334e-04 - root_mean_squared_error: 0.0162 - val_loss: 2.2094e-05 - val_root_mean_squared_error: 0.0047\n",
      "Epoch 18/100\n",
      "104/104 [==============================] - 1s 7ms/step - loss: 2.5126e-04 - root_mean_squared_error: 0.0159 - val_loss: 4.7154e-05 - val_root_mean_squared_error: 0.0069\n",
      "Epoch 19/100\n",
      "104/104 [==============================] - 1s 7ms/step - loss: 2.9043e-04 - root_mean_squared_error: 0.0170 - val_loss: 2.9695e-05 - val_root_mean_squared_error: 0.0054\n",
      "Epoch 20/100\n",
      "104/104 [==============================] - 1s 7ms/step - loss: 2.2970e-04 - root_mean_squared_error: 0.0152 - val_loss: 2.3717e-05 - val_root_mean_squared_error: 0.0049\n",
      "Epoch 21/100\n",
      "101/104 [============================>.] - ETA: 0s - loss: 2.2104e-04 - root_mean_squared_error: 0.0149"
     ]
    },
    {
     "name": "stderr",
     "output_type": "stream",
     "text": [
      "WARNING:absl:Found untraced functions such as _update_step_xla, lstm_cell_3_layer_call_fn, lstm_cell_3_layer_call_and_return_conditional_losses while saving (showing 3 of 3). These functions will not be directly callable after loading.\n"
     ]
    },
    {
     "name": "stdout",
     "output_type": "stream",
     "text": [
      "INFO:tensorflow:Assets written to: mamfmodel\\assets\n"
     ]
    },
    {
     "name": "stderr",
     "output_type": "stream",
     "text": [
      "INFO:tensorflow:Assets written to: mamfmodel\\assets\n"
     ]
    },
    {
     "name": "stdout",
     "output_type": "stream",
     "text": [
      "104/104 [==============================] - 4s 41ms/step - loss: 2.1920e-04 - root_mean_squared_error: 0.0148 - val_loss: 1.9651e-05 - val_root_mean_squared_error: 0.0044\n",
      "Epoch 22/100\n",
      "104/104 [==============================] - 1s 7ms/step - loss: 2.2138e-04 - root_mean_squared_error: 0.0149 - val_loss: 2.0474e-05 - val_root_mean_squared_error: 0.0045\n",
      "Epoch 23/100\n",
      "104/104 [==============================] - 1s 8ms/step - loss: 2.2818e-04 - root_mean_squared_error: 0.0151 - val_loss: 2.6847e-05 - val_root_mean_squared_error: 0.0052\n",
      "Epoch 24/100\n",
      "104/104 [==============================] - 1s 7ms/step - loss: 2.0752e-04 - root_mean_squared_error: 0.0144 - val_loss: 3.1400e-05 - val_root_mean_squared_error: 0.0056\n",
      "Epoch 25/100\n",
      "102/104 [============================>.] - ETA: 0s - loss: 2.0407e-04 - root_mean_squared_error: 0.0143"
     ]
    },
    {
     "name": "stderr",
     "output_type": "stream",
     "text": [
      "WARNING:absl:Found untraced functions such as _update_step_xla, lstm_cell_3_layer_call_fn, lstm_cell_3_layer_call_and_return_conditional_losses while saving (showing 3 of 3). These functions will not be directly callable after loading.\n"
     ]
    },
    {
     "name": "stdout",
     "output_type": "stream",
     "text": [
      "INFO:tensorflow:Assets written to: mamfmodel\\assets\n"
     ]
    },
    {
     "name": "stderr",
     "output_type": "stream",
     "text": [
      "INFO:tensorflow:Assets written to: mamfmodel\\assets\n"
     ]
    },
    {
     "name": "stdout",
     "output_type": "stream",
     "text": [
      "104/104 [==============================] - 3s 33ms/step - loss: 2.0393e-04 - root_mean_squared_error: 0.0143 - val_loss: 1.9170e-05 - val_root_mean_squared_error: 0.0044\n",
      "Epoch 26/100\n",
      "104/104 [==============================] - 1s 7ms/step - loss: 2.1480e-04 - root_mean_squared_error: 0.0147 - val_loss: 2.8221e-05 - val_root_mean_squared_error: 0.0053\n",
      "Epoch 27/100\n",
      "102/104 [============================>.] - ETA: 0s - loss: 2.2341e-04 - root_mean_squared_error: 0.0149"
     ]
    },
    {
     "name": "stderr",
     "output_type": "stream",
     "text": [
      "WARNING:absl:Found untraced functions such as _update_step_xla, lstm_cell_3_layer_call_fn, lstm_cell_3_layer_call_and_return_conditional_losses while saving (showing 3 of 3). These functions will not be directly callable after loading.\n"
     ]
    },
    {
     "name": "stdout",
     "output_type": "stream",
     "text": [
      "INFO:tensorflow:Assets written to: mamfmodel\\assets\n"
     ]
    },
    {
     "name": "stderr",
     "output_type": "stream",
     "text": [
      "INFO:tensorflow:Assets written to: mamfmodel\\assets\n"
     ]
    },
    {
     "name": "stdout",
     "output_type": "stream",
     "text": [
      "104/104 [==============================] - 3s 33ms/step - loss: 2.2211e-04 - root_mean_squared_error: 0.0149 - val_loss: 1.7520e-05 - val_root_mean_squared_error: 0.0042\n",
      "Epoch 28/100\n",
      "101/104 [============================>.] - ETA: 0s - loss: 1.9000e-04 - root_mean_squared_error: 0.0138"
     ]
    },
    {
     "name": "stderr",
     "output_type": "stream",
     "text": [
      "WARNING:absl:Found untraced functions such as _update_step_xla, lstm_cell_3_layer_call_fn, lstm_cell_3_layer_call_and_return_conditional_losses while saving (showing 3 of 3). These functions will not be directly callable after loading.\n"
     ]
    },
    {
     "name": "stdout",
     "output_type": "stream",
     "text": [
      "INFO:tensorflow:Assets written to: mamfmodel\\assets\n"
     ]
    },
    {
     "name": "stderr",
     "output_type": "stream",
     "text": [
      "INFO:tensorflow:Assets written to: mamfmodel\\assets\n"
     ]
    },
    {
     "name": "stdout",
     "output_type": "stream",
     "text": [
      "104/104 [==============================] - 3s 32ms/step - loss: 1.8999e-04 - root_mean_squared_error: 0.0138 - val_loss: 1.7414e-05 - val_root_mean_squared_error: 0.0042\n",
      "Epoch 29/100\n",
      "104/104 [==============================] - 1s 8ms/step - loss: 1.7613e-04 - root_mean_squared_error: 0.0133 - val_loss: 1.7997e-05 - val_root_mean_squared_error: 0.0042\n",
      "Epoch 30/100\n",
      "100/104 [===========================>..] - ETA: 0s - loss: 2.0103e-04 - root_mean_squared_error: 0.0142"
     ]
    },
    {
     "name": "stderr",
     "output_type": "stream",
     "text": [
      "WARNING:absl:Found untraced functions such as _update_step_xla, lstm_cell_3_layer_call_fn, lstm_cell_3_layer_call_and_return_conditional_losses while saving (showing 3 of 3). These functions will not be directly callable after loading.\n"
     ]
    },
    {
     "name": "stdout",
     "output_type": "stream",
     "text": [
      "INFO:tensorflow:Assets written to: mamfmodel\\assets\n"
     ]
    },
    {
     "name": "stderr",
     "output_type": "stream",
     "text": [
      "INFO:tensorflow:Assets written to: mamfmodel\\assets\n"
     ]
    },
    {
     "name": "stdout",
     "output_type": "stream",
     "text": [
      "104/104 [==============================] - 4s 40ms/step - loss: 2.0025e-04 - root_mean_squared_error: 0.0142 - val_loss: 1.5504e-05 - val_root_mean_squared_error: 0.0039\n",
      "Epoch 31/100\n",
      "104/104 [==============================] - 1s 7ms/step - loss: 1.6620e-04 - root_mean_squared_error: 0.0129 - val_loss: 1.5755e-05 - val_root_mean_squared_error: 0.0040\n",
      "Epoch 32/100\n",
      " 98/104 [===========================>..] - ETA: 0s - loss: 1.7368e-04 - root_mean_squared_error: 0.0132"
     ]
    },
    {
     "name": "stderr",
     "output_type": "stream",
     "text": [
      "WARNING:absl:Found untraced functions such as _update_step_xla, lstm_cell_3_layer_call_fn, lstm_cell_3_layer_call_and_return_conditional_losses while saving (showing 3 of 3). These functions will not be directly callable after loading.\n"
     ]
    },
    {
     "name": "stdout",
     "output_type": "stream",
     "text": [
      "INFO:tensorflow:Assets written to: mamfmodel\\assets\n"
     ]
    },
    {
     "name": "stderr",
     "output_type": "stream",
     "text": [
      "INFO:tensorflow:Assets written to: mamfmodel\\assets\n"
     ]
    },
    {
     "name": "stdout",
     "output_type": "stream",
     "text": [
      "104/104 [==============================] - 3s 33ms/step - loss: 1.7366e-04 - root_mean_squared_error: 0.0132 - val_loss: 1.3984e-05 - val_root_mean_squared_error: 0.0037\n",
      "Epoch 33/100\n",
      "104/104 [==============================] - 1s 7ms/step - loss: 1.8707e-04 - root_mean_squared_error: 0.0137 - val_loss: 1.6068e-05 - val_root_mean_squared_error: 0.0040\n",
      "Epoch 34/100\n",
      "104/104 [==============================] - 1s 7ms/step - loss: 1.6796e-04 - root_mean_squared_error: 0.0130 - val_loss: 2.9849e-05 - val_root_mean_squared_error: 0.0055\n",
      "Epoch 35/100\n",
      "104/104 [==============================] - 1s 8ms/step - loss: 1.5953e-04 - root_mean_squared_error: 0.0126 - val_loss: 2.0652e-05 - val_root_mean_squared_error: 0.0045\n",
      "Epoch 36/100\n",
      "104/104 [==============================] - 1s 7ms/step - loss: 1.7601e-04 - root_mean_squared_error: 0.0133 - val_loss: 1.5308e-05 - val_root_mean_squared_error: 0.0039\n",
      "Epoch 37/100\n",
      "104/104 [==============================] - 1s 7ms/step - loss: 1.6148e-04 - root_mean_squared_error: 0.0127 - val_loss: 1.8603e-05 - val_root_mean_squared_error: 0.0043\n",
      "Epoch 38/100\n",
      "104/104 [==============================] - 1s 7ms/step - loss: 1.7154e-04 - root_mean_squared_error: 0.0131 - val_loss: 1.4695e-05 - val_root_mean_squared_error: 0.0038\n",
      "Epoch 39/100\n",
      "104/104 [==============================] - 1s 7ms/step - loss: 1.5076e-04 - root_mean_squared_error: 0.0123 - val_loss: 4.4400e-05 - val_root_mean_squared_error: 0.0067\n",
      "Epoch 40/100\n",
      " 99/104 [===========================>..] - ETA: 0s - loss: 1.6588e-04 - root_mean_squared_error: 0.0129"
     ]
    },
    {
     "name": "stderr",
     "output_type": "stream",
     "text": [
      "WARNING:absl:Found untraced functions such as _update_step_xla, lstm_cell_3_layer_call_fn, lstm_cell_3_layer_call_and_return_conditional_losses while saving (showing 3 of 3). These functions will not be directly callable after loading.\n"
     ]
    },
    {
     "name": "stdout",
     "output_type": "stream",
     "text": [
      "INFO:tensorflow:Assets written to: mamfmodel\\assets\n"
     ]
    },
    {
     "name": "stderr",
     "output_type": "stream",
     "text": [
      "INFO:tensorflow:Assets written to: mamfmodel\\assets\n"
     ]
    },
    {
     "name": "stdout",
     "output_type": "stream",
     "text": [
      "104/104 [==============================] - 3s 33ms/step - loss: 1.6542e-04 - root_mean_squared_error: 0.0129 - val_loss: 1.2156e-05 - val_root_mean_squared_error: 0.0035\n",
      "Epoch 41/100\n",
      "104/104 [==============================] - 1s 7ms/step - loss: 1.4804e-04 - root_mean_squared_error: 0.0122 - val_loss: 2.5137e-05 - val_root_mean_squared_error: 0.0050\n",
      "Epoch 42/100\n",
      "101/104 [============================>.] - ETA: 0s - loss: 1.4280e-04 - root_mean_squared_error: 0.0119"
     ]
    },
    {
     "name": "stderr",
     "output_type": "stream",
     "text": [
      "WARNING:absl:Found untraced functions such as _update_step_xla, lstm_cell_3_layer_call_fn, lstm_cell_3_layer_call_and_return_conditional_losses while saving (showing 3 of 3). These functions will not be directly callable after loading.\n"
     ]
    },
    {
     "name": "stdout",
     "output_type": "stream",
     "text": [
      "INFO:tensorflow:Assets written to: mamfmodel\\assets\n"
     ]
    },
    {
     "name": "stderr",
     "output_type": "stream",
     "text": [
      "INFO:tensorflow:Assets written to: mamfmodel\\assets\n"
     ]
    },
    {
     "name": "stdout",
     "output_type": "stream",
     "text": [
      "104/104 [==============================] - 3s 33ms/step - loss: 1.4240e-04 - root_mean_squared_error: 0.0119 - val_loss: 1.1381e-05 - val_root_mean_squared_error: 0.0034\n",
      "Epoch 43/100\n",
      "104/104 [==============================] - 1s 7ms/step - loss: 1.5763e-04 - root_mean_squared_error: 0.0126 - val_loss: 1.3096e-05 - val_root_mean_squared_error: 0.0036\n",
      "Epoch 44/100\n",
      "104/104 [==============================] - 1s 7ms/step - loss: 1.4111e-04 - root_mean_squared_error: 0.0119 - val_loss: 2.1408e-05 - val_root_mean_squared_error: 0.0046\n",
      "Epoch 45/100\n",
      "104/104 [==============================] - 1s 7ms/step - loss: 1.3814e-04 - root_mean_squared_error: 0.0118 - val_loss: 1.2203e-05 - val_root_mean_squared_error: 0.0035\n",
      "Epoch 46/100\n",
      " 98/104 [===========================>..] - ETA: 0s - loss: 1.3373e-04 - root_mean_squared_error: 0.0116"
     ]
    },
    {
     "name": "stderr",
     "output_type": "stream",
     "text": [
      "WARNING:absl:Found untraced functions such as _update_step_xla, lstm_cell_3_layer_call_fn, lstm_cell_3_layer_call_and_return_conditional_losses while saving (showing 3 of 3). These functions will not be directly callable after loading.\n"
     ]
    },
    {
     "name": "stdout",
     "output_type": "stream",
     "text": [
      "INFO:tensorflow:Assets written to: mamfmodel\\assets\n"
     ]
    },
    {
     "name": "stderr",
     "output_type": "stream",
     "text": [
      "INFO:tensorflow:Assets written to: mamfmodel\\assets\n"
     ]
    },
    {
     "name": "stdout",
     "output_type": "stream",
     "text": [
      "104/104 [==============================] - 3s 33ms/step - loss: 1.3173e-04 - root_mean_squared_error: 0.0115 - val_loss: 1.1078e-05 - val_root_mean_squared_error: 0.0033\n",
      "Epoch 47/100\n",
      " 99/104 [===========================>..] - ETA: 0s - loss: 1.2624e-04 - root_mean_squared_error: 0.0112"
     ]
    },
    {
     "name": "stderr",
     "output_type": "stream",
     "text": [
      "WARNING:absl:Found untraced functions such as _update_step_xla, lstm_cell_3_layer_call_fn, lstm_cell_3_layer_call_and_return_conditional_losses while saving (showing 3 of 3). These functions will not be directly callable after loading.\n"
     ]
    },
    {
     "name": "stdout",
     "output_type": "stream",
     "text": [
      "INFO:tensorflow:Assets written to: mamfmodel\\assets\n"
     ]
    },
    {
     "name": "stderr",
     "output_type": "stream",
     "text": [
      "INFO:tensorflow:Assets written to: mamfmodel\\assets\n"
     ]
    },
    {
     "name": "stdout",
     "output_type": "stream",
     "text": [
      "104/104 [==============================] - 4s 41ms/step - loss: 1.4184e-04 - root_mean_squared_error: 0.0119 - val_loss: 1.0394e-05 - val_root_mean_squared_error: 0.0032\n",
      "Epoch 48/100\n",
      "104/104 [==============================] - 1s 10ms/step - loss: 1.3911e-04 - root_mean_squared_error: 0.0118 - val_loss: 1.0713e-04 - val_root_mean_squared_error: 0.0104\n",
      "Epoch 49/100\n",
      "101/104 [============================>.] - ETA: 0s - loss: 1.3746e-04 - root_mean_squared_error: 0.0117"
     ]
    },
    {
     "name": "stderr",
     "output_type": "stream",
     "text": [
      "WARNING:absl:Found untraced functions such as _update_step_xla, lstm_cell_3_layer_call_fn, lstm_cell_3_layer_call_and_return_conditional_losses while saving (showing 3 of 3). These functions will not be directly callable after loading.\n"
     ]
    },
    {
     "name": "stdout",
     "output_type": "stream",
     "text": [
      "INFO:tensorflow:Assets written to: mamfmodel\\assets\n"
     ]
    },
    {
     "name": "stderr",
     "output_type": "stream",
     "text": [
      "INFO:tensorflow:Assets written to: mamfmodel\\assets\n"
     ]
    },
    {
     "name": "stdout",
     "output_type": "stream",
     "text": [
      "104/104 [==============================] - 3s 33ms/step - loss: 1.3720e-04 - root_mean_squared_error: 0.0117 - val_loss: 1.0119e-05 - val_root_mean_squared_error: 0.0032\n",
      "Epoch 50/100\n",
      "104/104 [==============================] - 1s 7ms/step - loss: 1.3082e-04 - root_mean_squared_error: 0.0114 - val_loss: 3.2517e-05 - val_root_mean_squared_error: 0.0057\n",
      "Epoch 51/100\n",
      "100/104 [===========================>..] - ETA: 0s - loss: 1.2989e-04 - root_mean_squared_error: 0.0114"
     ]
    },
    {
     "name": "stderr",
     "output_type": "stream",
     "text": [
      "WARNING:absl:Found untraced functions such as _update_step_xla, lstm_cell_3_layer_call_fn, lstm_cell_3_layer_call_and_return_conditional_losses while saving (showing 3 of 3). These functions will not be directly callable after loading.\n"
     ]
    },
    {
     "name": "stdout",
     "output_type": "stream",
     "text": [
      "INFO:tensorflow:Assets written to: mamfmodel\\assets\n"
     ]
    },
    {
     "name": "stderr",
     "output_type": "stream",
     "text": [
      "INFO:tensorflow:Assets written to: mamfmodel\\assets\n"
     ]
    },
    {
     "name": "stdout",
     "output_type": "stream",
     "text": [
      "104/104 [==============================] - 3s 33ms/step - loss: 1.2996e-04 - root_mean_squared_error: 0.0114 - val_loss: 9.9967e-06 - val_root_mean_squared_error: 0.0032\n",
      "Epoch 52/100\n",
      "104/104 [==============================] - ETA: 0s - loss: 1.3651e-04 - root_mean_squared_error: 0.0117"
     ]
    },
    {
     "name": "stderr",
     "output_type": "stream",
     "text": [
      "WARNING:absl:Found untraced functions such as _update_step_xla, lstm_cell_3_layer_call_fn, lstm_cell_3_layer_call_and_return_conditional_losses while saving (showing 3 of 3). These functions will not be directly callable after loading.\n"
     ]
    },
    {
     "name": "stdout",
     "output_type": "stream",
     "text": [
      "INFO:tensorflow:Assets written to: mamfmodel\\assets\n"
     ]
    },
    {
     "name": "stderr",
     "output_type": "stream",
     "text": [
      "INFO:tensorflow:Assets written to: mamfmodel\\assets\n"
     ]
    },
    {
     "name": "stdout",
     "output_type": "stream",
     "text": [
      "104/104 [==============================] - 3s 33ms/step - loss: 1.3651e-04 - root_mean_squared_error: 0.0117 - val_loss: 9.8716e-06 - val_root_mean_squared_error: 0.0031\n",
      "Epoch 53/100\n",
      "100/104 [===========================>..] - ETA: 0s - loss: 1.4194e-04 - root_mean_squared_error: 0.0119"
     ]
    },
    {
     "name": "stderr",
     "output_type": "stream",
     "text": [
      "WARNING:absl:Found untraced functions such as _update_step_xla, lstm_cell_3_layer_call_fn, lstm_cell_3_layer_call_and_return_conditional_losses while saving (showing 3 of 3). These functions will not be directly callable after loading.\n"
     ]
    },
    {
     "name": "stdout",
     "output_type": "stream",
     "text": [
      "INFO:tensorflow:Assets written to: mamfmodel\\assets\n"
     ]
    },
    {
     "name": "stderr",
     "output_type": "stream",
     "text": [
      "INFO:tensorflow:Assets written to: mamfmodel\\assets\n"
     ]
    },
    {
     "name": "stdout",
     "output_type": "stream",
     "text": [
      "104/104 [==============================] - 4s 35ms/step - loss: 1.4061e-04 - root_mean_squared_error: 0.0119 - val_loss: 9.6532e-06 - val_root_mean_squared_error: 0.0031\n",
      "Epoch 54/100\n",
      "104/104 [==============================] - 1s 7ms/step - loss: 1.3187e-04 - root_mean_squared_error: 0.0115 - val_loss: 1.3802e-05 - val_root_mean_squared_error: 0.0037\n",
      "Epoch 55/100\n",
      "104/104 [==============================] - 1s 7ms/step - loss: 1.3691e-04 - root_mean_squared_error: 0.0117 - val_loss: 1.9286e-05 - val_root_mean_squared_error: 0.0044\n",
      "Epoch 56/100\n",
      "104/104 [==============================] - 1s 7ms/step - loss: 1.3856e-04 - root_mean_squared_error: 0.0118 - val_loss: 1.0451e-05 - val_root_mean_squared_error: 0.0032\n",
      "Epoch 57/100\n",
      "104/104 [==============================] - 1s 7ms/step - loss: 1.3154e-04 - root_mean_squared_error: 0.0115 - val_loss: 1.5752e-05 - val_root_mean_squared_error: 0.0040\n",
      "Epoch 58/100\n",
      "104/104 [==============================] - 1s 8ms/step - loss: 1.2805e-04 - root_mean_squared_error: 0.0113 - val_loss: 1.2802e-05 - val_root_mean_squared_error: 0.0036\n",
      "Epoch 59/100\n",
      "104/104 [==============================] - 1s 7ms/step - loss: 1.2600e-04 - root_mean_squared_error: 0.0112 - val_loss: 1.2836e-05 - val_root_mean_squared_error: 0.0036\n",
      "Epoch 60/100\n",
      "104/104 [==============================] - 1s 7ms/step - loss: 1.1962e-04 - root_mean_squared_error: 0.0109 - val_loss: 2.0214e-05 - val_root_mean_squared_error: 0.0045\n",
      "Epoch 61/100\n",
      "104/104 [==============================] - 1s 7ms/step - loss: 1.3165e-04 - root_mean_squared_error: 0.0115 - val_loss: 1.0218e-05 - val_root_mean_squared_error: 0.0032\n",
      "Epoch 62/100\n",
      "104/104 [==============================] - 1s 7ms/step - loss: 1.3368e-04 - root_mean_squared_error: 0.0116 - val_loss: 4.7671e-05 - val_root_mean_squared_error: 0.0069\n",
      "Epoch 63/100\n",
      "104/104 [==============================] - 1s 7ms/step - loss: 1.2866e-04 - root_mean_squared_error: 0.0113 - val_loss: 1.0203e-05 - val_root_mean_squared_error: 0.0032\n",
      "Epoch 64/100\n",
      "104/104 [==============================] - 1s 7ms/step - loss: 1.2204e-04 - root_mean_squared_error: 0.0110 - val_loss: 9.7820e-06 - val_root_mean_squared_error: 0.0031\n",
      "Epoch 65/100\n",
      "104/104 [==============================] - 1s 7ms/step - loss: 1.1583e-04 - root_mean_squared_error: 0.0108 - val_loss: 2.0544e-05 - val_root_mean_squared_error: 0.0045\n",
      "Epoch 66/100\n",
      "104/104 [==============================] - 1s 7ms/step - loss: 1.2957e-04 - root_mean_squared_error: 0.0114 - val_loss: 1.0207e-05 - val_root_mean_squared_error: 0.0032\n",
      "Epoch 67/100\n",
      "104/104 [==============================] - 1s 7ms/step - loss: 1.2688e-04 - root_mean_squared_error: 0.0113 - val_loss: 9.7293e-06 - val_root_mean_squared_error: 0.0031\n",
      "Epoch 68/100\n",
      " 99/104 [===========================>..] - ETA: 0s - loss: 1.2627e-04 - root_mean_squared_error: 0.0112"
     ]
    },
    {
     "name": "stderr",
     "output_type": "stream",
     "text": [
      "WARNING:absl:Found untraced functions such as _update_step_xla, lstm_cell_3_layer_call_fn, lstm_cell_3_layer_call_and_return_conditional_losses while saving (showing 3 of 3). These functions will not be directly callable after loading.\n"
     ]
    },
    {
     "name": "stdout",
     "output_type": "stream",
     "text": [
      "INFO:tensorflow:Assets written to: mamfmodel\\assets\n"
     ]
    },
    {
     "name": "stderr",
     "output_type": "stream",
     "text": [
      "INFO:tensorflow:Assets written to: mamfmodel\\assets\n"
     ]
    },
    {
     "name": "stdout",
     "output_type": "stream",
     "text": [
      "104/104 [==============================] - 4s 40ms/step - loss: 1.2602e-04 - root_mean_squared_error: 0.0112 - val_loss: 9.0865e-06 - val_root_mean_squared_error: 0.0030\n",
      "Epoch 69/100\n",
      "104/104 [==============================] - 1s 9ms/step - loss: 1.3039e-04 - root_mean_squared_error: 0.0114 - val_loss: 9.3600e-06 - val_root_mean_squared_error: 0.0031\n",
      "Epoch 70/100\n",
      "104/104 [==============================] - 1s 8ms/step - loss: 1.4375e-04 - root_mean_squared_error: 0.0120 - val_loss: 1.4933e-05 - val_root_mean_squared_error: 0.0039\n",
      "Epoch 71/100\n",
      "103/104 [============================>.] - ETA: 0s - loss: 1.3179e-04 - root_mean_squared_error: 0.0115"
     ]
    },
    {
     "name": "stderr",
     "output_type": "stream",
     "text": [
      "WARNING:absl:Found untraced functions such as _update_step_xla, lstm_cell_3_layer_call_fn, lstm_cell_3_layer_call_and_return_conditional_losses while saving (showing 3 of 3). These functions will not be directly callable after loading.\n"
     ]
    },
    {
     "name": "stdout",
     "output_type": "stream",
     "text": [
      "INFO:tensorflow:Assets written to: mamfmodel\\assets\n"
     ]
    },
    {
     "name": "stderr",
     "output_type": "stream",
     "text": [
      "INFO:tensorflow:Assets written to: mamfmodel\\assets\n"
     ]
    },
    {
     "name": "stdout",
     "output_type": "stream",
     "text": [
      "104/104 [==============================] - 3s 32ms/step - loss: 1.3170e-04 - root_mean_squared_error: 0.0115 - val_loss: 9.0087e-06 - val_root_mean_squared_error: 0.0030\n",
      "Epoch 72/100\n",
      "104/104 [==============================] - 1s 7ms/step - loss: 1.2689e-04 - root_mean_squared_error: 0.0113 - val_loss: 1.4399e-05 - val_root_mean_squared_error: 0.0038\n",
      "Epoch 73/100\n",
      "103/104 [============================>.] - ETA: 0s - loss: 1.3492e-04 - root_mean_squared_error: 0.0116"
     ]
    },
    {
     "name": "stderr",
     "output_type": "stream",
     "text": [
      "WARNING:absl:Found untraced functions such as _update_step_xla, lstm_cell_3_layer_call_fn, lstm_cell_3_layer_call_and_return_conditional_losses while saving (showing 3 of 3). These functions will not be directly callable after loading.\n"
     ]
    },
    {
     "name": "stdout",
     "output_type": "stream",
     "text": [
      "INFO:tensorflow:Assets written to: mamfmodel\\assets\n"
     ]
    },
    {
     "name": "stderr",
     "output_type": "stream",
     "text": [
      "INFO:tensorflow:Assets written to: mamfmodel\\assets\n"
     ]
    },
    {
     "name": "stdout",
     "output_type": "stream",
     "text": [
      "104/104 [==============================] - 3s 33ms/step - loss: 1.3476e-04 - root_mean_squared_error: 0.0116 - val_loss: 8.9702e-06 - val_root_mean_squared_error: 0.0030\n",
      "Epoch 74/100\n",
      "104/104 [==============================] - 1s 7ms/step - loss: 1.3161e-04 - root_mean_squared_error: 0.0115 - val_loss: 1.1248e-05 - val_root_mean_squared_error: 0.0034\n",
      "Epoch 75/100\n",
      " 97/104 [==========================>...] - ETA: 0s - loss: 1.2634e-04 - root_mean_squared_error: 0.0112"
     ]
    },
    {
     "name": "stderr",
     "output_type": "stream",
     "text": [
      "WARNING:absl:Found untraced functions such as _update_step_xla, lstm_cell_3_layer_call_fn, lstm_cell_3_layer_call_and_return_conditional_losses while saving (showing 3 of 3). These functions will not be directly callable after loading.\n"
     ]
    },
    {
     "name": "stdout",
     "output_type": "stream",
     "text": [
      "INFO:tensorflow:Assets written to: mamfmodel\\assets\n"
     ]
    },
    {
     "name": "stderr",
     "output_type": "stream",
     "text": [
      "INFO:tensorflow:Assets written to: mamfmodel\\assets\n"
     ]
    },
    {
     "name": "stdout",
     "output_type": "stream",
     "text": [
      "104/104 [==============================] - 3s 33ms/step - loss: 1.2463e-04 - root_mean_squared_error: 0.0112 - val_loss: 8.8745e-06 - val_root_mean_squared_error: 0.0030\n",
      "Epoch 76/100\n",
      "104/104 [==============================] - 1s 7ms/step - loss: 1.2481e-04 - root_mean_squared_error: 0.0112 - val_loss: 9.5089e-06 - val_root_mean_squared_error: 0.0031\n",
      "Epoch 77/100\n",
      "104/104 [==============================] - 1s 7ms/step - loss: 1.2912e-04 - root_mean_squared_error: 0.0114 - val_loss: 1.1608e-05 - val_root_mean_squared_error: 0.0034\n",
      "Epoch 78/100\n",
      "104/104 [==============================] - 1s 7ms/step - loss: 1.2689e-04 - root_mean_squared_error: 0.0113 - val_loss: 2.6787e-05 - val_root_mean_squared_error: 0.0052\n",
      "Epoch 79/100\n",
      "104/104 [==============================] - 1s 7ms/step - loss: 1.2805e-04 - root_mean_squared_error: 0.0113 - val_loss: 9.2026e-06 - val_root_mean_squared_error: 0.0030\n",
      "Epoch 80/100\n",
      "104/104 [==============================] - 1s 7ms/step - loss: 1.2233e-04 - root_mean_squared_error: 0.0111 - val_loss: 2.4646e-05 - val_root_mean_squared_error: 0.0050\n",
      "Epoch 81/100\n",
      "104/104 [==============================] - 1s 7ms/step - loss: 1.1780e-04 - root_mean_squared_error: 0.0109 - val_loss: 1.3524e-05 - val_root_mean_squared_error: 0.0037\n",
      "Epoch 82/100\n",
      "104/104 [==============================] - 1s 7ms/step - loss: 1.3090e-04 - root_mean_squared_error: 0.0114 - val_loss: 9.4251e-06 - val_root_mean_squared_error: 0.0031\n",
      "Epoch 83/100\n",
      "104/104 [==============================] - 1s 7ms/step - loss: 1.2710e-04 - root_mean_squared_error: 0.0113 - val_loss: 1.4983e-05 - val_root_mean_squared_error: 0.0039\n",
      "Epoch 84/100\n",
      "100/104 [===========================>..] - ETA: 0s - loss: 1.2887e-04 - root_mean_squared_error: 0.0114"
     ]
    },
    {
     "name": "stderr",
     "output_type": "stream",
     "text": [
      "WARNING:absl:Found untraced functions such as _update_step_xla, lstm_cell_3_layer_call_fn, lstm_cell_3_layer_call_and_return_conditional_losses while saving (showing 3 of 3). These functions will not be directly callable after loading.\n"
     ]
    },
    {
     "name": "stdout",
     "output_type": "stream",
     "text": [
      "INFO:tensorflow:Assets written to: mamfmodel\\assets\n"
     ]
    },
    {
     "name": "stderr",
     "output_type": "stream",
     "text": [
      "INFO:tensorflow:Assets written to: mamfmodel\\assets\n"
     ]
    },
    {
     "name": "stdout",
     "output_type": "stream",
     "text": [
      "104/104 [==============================] - 3s 32ms/step - loss: 1.2847e-04 - root_mean_squared_error: 0.0113 - val_loss: 8.8341e-06 - val_root_mean_squared_error: 0.0030\n",
      "Epoch 85/100\n",
      "104/104 [==============================] - 1s 7ms/step - loss: 1.4723e-04 - root_mean_squared_error: 0.0121 - val_loss: 1.5587e-05 - val_root_mean_squared_error: 0.0039\n",
      "Epoch 86/100\n",
      "104/104 [==============================] - 1s 8ms/step - loss: 1.2497e-04 - root_mean_squared_error: 0.0112 - val_loss: 1.1671e-05 - val_root_mean_squared_error: 0.0034\n",
      "Epoch 87/100\n",
      "104/104 [==============================] - 1s 7ms/step - loss: 1.2268e-04 - root_mean_squared_error: 0.0111 - val_loss: 1.0784e-05 - val_root_mean_squared_error: 0.0033\n",
      "Epoch 88/100\n",
      "104/104 [==============================] - 1s 7ms/step - loss: 1.2243e-04 - root_mean_squared_error: 0.0111 - val_loss: 3.1685e-05 - val_root_mean_squared_error: 0.0056\n",
      "Epoch 89/100\n",
      "104/104 [==============================] - 1s 7ms/step - loss: 1.2843e-04 - root_mean_squared_error: 0.0113 - val_loss: 1.0073e-05 - val_root_mean_squared_error: 0.0032\n",
      "Epoch 90/100\n",
      "104/104 [==============================] - 1s 7ms/step - loss: 1.2129e-04 - root_mean_squared_error: 0.0110 - val_loss: 1.1291e-05 - val_root_mean_squared_error: 0.0034\n",
      "Epoch 91/100\n",
      "104/104 [==============================] - 1s 7ms/step - loss: 1.2125e-04 - root_mean_squared_error: 0.0110 - val_loss: 1.8398e-05 - val_root_mean_squared_error: 0.0043\n",
      "Epoch 92/100\n",
      "104/104 [==============================] - 1s 7ms/step - loss: 1.3337e-04 - root_mean_squared_error: 0.0115 - val_loss: 9.7165e-06 - val_root_mean_squared_error: 0.0031\n",
      "Epoch 93/100\n",
      "104/104 [==============================] - 1s 7ms/step - loss: 1.3545e-04 - root_mean_squared_error: 0.0116 - val_loss: 9.0548e-06 - val_root_mean_squared_error: 0.0030\n",
      "Epoch 94/100\n",
      "104/104 [==============================] - 1s 7ms/step - loss: 1.2013e-04 - root_mean_squared_error: 0.0110 - val_loss: 1.4855e-05 - val_root_mean_squared_error: 0.0039\n",
      "Epoch 95/100\n",
      "104/104 [==============================] - 1s 7ms/step - loss: 1.2900e-04 - root_mean_squared_error: 0.0114 - val_loss: 1.2687e-05 - val_root_mean_squared_error: 0.0036\n",
      "Epoch 96/100\n",
      " 99/104 [===========================>..] - ETA: 0s - loss: 1.4072e-04 - root_mean_squared_error: 0.0119"
     ]
    },
    {
     "name": "stderr",
     "output_type": "stream",
     "text": [
      "WARNING:absl:Found untraced functions such as _update_step_xla, lstm_cell_3_layer_call_fn, lstm_cell_3_layer_call_and_return_conditional_losses while saving (showing 3 of 3). These functions will not be directly callable after loading.\n"
     ]
    },
    {
     "name": "stdout",
     "output_type": "stream",
     "text": [
      "INFO:tensorflow:Assets written to: mamfmodel\\assets\n"
     ]
    },
    {
     "name": "stderr",
     "output_type": "stream",
     "text": [
      "INFO:tensorflow:Assets written to: mamfmodel\\assets\n"
     ]
    },
    {
     "name": "stdout",
     "output_type": "stream",
     "text": [
      "104/104 [==============================] - 4s 41ms/step - loss: 1.3997e-04 - root_mean_squared_error: 0.0118 - val_loss: 8.8149e-06 - val_root_mean_squared_error: 0.0030\n",
      "Epoch 97/100\n",
      "104/104 [==============================] - 1s 10ms/step - loss: 1.2098e-04 - root_mean_squared_error: 0.0110 - val_loss: 2.4571e-05 - val_root_mean_squared_error: 0.0050\n",
      "Epoch 98/100\n",
      "104/104 [==============================] - 1s 8ms/step - loss: 1.2601e-04 - root_mean_squared_error: 0.0112 - val_loss: 2.2566e-05 - val_root_mean_squared_error: 0.0048\n",
      "Epoch 99/100\n",
      "104/104 [==============================] - 1s 7ms/step - loss: 1.2363e-04 - root_mean_squared_error: 0.0111 - val_loss: 9.1810e-06 - val_root_mean_squared_error: 0.0030\n",
      "Epoch 100/100\n",
      "104/104 [==============================] - 1s 7ms/step - loss: 1.2101e-04 - root_mean_squared_error: 0.0110 - val_loss: 1.0211e-05 - val_root_mean_squared_error: 0.0032\n"
     ]
    },
    {
     "data": {
      "text/plain": [
       "<keras.callbacks.History at 0x247f9a044c0>"
      ]
     },
     "execution_count": 49,
     "metadata": {},
     "output_type": "execute_result"
    }
   ],
   "source": [
    "cp = tf.keras.callbacks.ModelCheckpoint('mamfmodel/', save_best_only=True)\n",
    "mamfmodel.compile(loss='mean_squared_error', optimizer='adam',metrics= tf.keras.metrics.RootMeanSquaredError())\n",
    "mamfmodel.fit(x_train, y_train, validation_data=(x_valid, y_valid), epochs=100, callbacks=[cp])"
   ]
  },
  {
   "cell_type": "code",
   "execution_count": 58,
   "metadata": {},
   "outputs": [
    {
     "name": "stdout",
     "output_type": "stream",
     "text": [
      "(3671, 26, 1, 1)\n",
      "6/6 [==============================] - 0s 3ms/step\n",
      "(184, 26, 1, 1)\n",
      "(184, 1)\n"
     ]
    },
    {
     "data": {
      "image/png": "[encoded data removed]",
      "text/plain": [
       "<Figure size 640x480 with 1 Axes>"
      ]
     },
     "metadata": {},
     "output_type": "display_data"
    }
   ],
   "source": [
    "print(x_series_def.shape)\n",
    "y_pred = mamfmodel.predict(x_test)\n",
    "y_predict = scaler.inverse_transform(y_pred)\n",
    "test_predict = scaler.inverse_transform(y_test)\n",
    "print(x_test.shape)\n",
    "print(y_pred.shape)\n",
    "#print(x_plt_test)\n",
    "plt.plot(cast_time_data(x_plt_test),test_predict)\n",
    "plt.plot(cast_time_data(x_plt_test),y_predict)\n",
    "plt.show()"
   ]
  },
  {
   "cell_type": "code",
   "execution_count": 53,
   "metadata": {},
   "outputs": [
    {
     "name": "stdout",
     "output_type": "stream",
     "text": [
      "115/115 [==============================] - 0s 3ms/step\n",
      "(3671,) (3671, 1)\n"
     ]
    },
    {
     "data": {
      "image/png": "[encoded data removed]",
      "text/plain": [
       "<Figure size 640x480 with 1 Axes>"
      ]
     },
     "metadata": {},
     "output_type": "display_data"
    }
   ],
   "source": [
    "y_pred = mamfmodel.predict(x_series_def)\n",
    "y_predict = scaler.inverse_transform(y_pred)\n",
    "x_plot = x[26:]\n",
    "print(x_plot.shape, y_pred.shape)\n",
    "plt.plot(cast_time_data(x),y)\n",
    "plt.plot(cast_time_data(x_plot),y_predict)\n",
    "plt.show()"
   ]
  },
  {
   "cell_type": "code",
   "execution_count": 57,
   "metadata": {},
   "outputs": [
    {
     "name": "stdout",
     "output_type": "stream",
     "text": [
      "1/1 [==============================] - 0s 26ms/step\n",
      "1/1 [==============================] - 0s 26ms/step\n",
      "1/1 [==============================] - 0s 27ms/step\n",
      "1/1 [==============================] - 0s 26ms/step\n",
      "2023-01-09 00:45:40\n",
      "[[0.02571768]\n",
      " [0.02714644]\n",
      " [0.02865987]\n",
      " [0.03021043]]\n"
     ]
    },
    {
     "data": {
      "text/plain": [
       "[<matplotlib.lines.Line2D at 0x247fdd6f5b0>]"
      ]
     },
     "execution_count": 57,
     "metadata": {},
     "output_type": "execute_result"
    },
    {
     "data": {
      "image/png": "[encoded data removed]",
      "text/plain": [
       "<Figure size 640x480 with 1 Axes>"
      ]
     },
     "metadata": {},
     "output_type": "display_data"
    }
   ],
   "source": [
    "def bracket_list(list):\n",
    "    new_list = []\n",
    "    for value in range(len(list)):\n",
    "        new_value = [list[value]]\n",
    "        new_list.append(new_value)\n",
    "    return np.array([new_list])\n",
    "\n",
    "def predict_next_days(model_ker : tf.keras.models, data , days = 1, hours = 4):\n",
    "    new_data = data\n",
    "    last_days = []\n",
    "    last_series = np.array([data[-1]])\n",
    "    '''\n",
    "    pred = mamfmodel.predict(last_series).flatten()\n",
    "    new_pred_series = np.delete(last_series, 0)\n",
    "    new_pred_series = np.append(new_pred_series, pred)\n",
    "    new_pred_series = bracket_list(new_pred_series)\n",
    "    last_series = new_pred_series\n",
    "    '''\n",
    "    for i in range(days*hours):\n",
    "        pred = model_ker.predict(last_series).flatten()\n",
    "        new_pred_series = np.delete(last_series, 0)\n",
    "        new_pred_series = np.append(new_pred_series, pred)\n",
    "        new_pred_series = bracket_list(new_pred_series)\n",
    "        last_series = new_pred_series\n",
    "        last_days.append(pred)\n",
    "    return np.array(last_days)\n",
    "\n",
    "def add_days(x_ser, days = 1, hours = 4):\n",
    "    new_days = []\n",
    "    new_day = x_ser[-1] #+ 4*60*60*1000\n",
    "    #range_h = int(24/hours)\n",
    "    for i in range(days*hours):\n",
    "        new_days.append(new_day)\n",
    "        new_day += 4*60*60*1000\n",
    "    return np.array(new_days)\n",
    "\n",
    "\n",
    "#print(y_close.shape)\n",
    "x_next_days = add_days(x, days = 1)\n",
    "y_next_pred = predict_next_days(mamfmodel, x_series_def , 1)\n",
    "#new_time = int(str(time_unix)[0:10])\n",
    "#unixToDatetime = datetime.fromtimestamp(new_time).strftime('%Y-%m-%d %H:%M:%S')\n",
    "last_day = x_next_days[-1]\n",
    "last_day = int(str(last_day)[0:10])\n",
    "last_date = datetime.fromtimestamp(last_day).strftime('%Y-%m-%d %H:%M:%S')\n",
    "print(last_date)\n",
    "print(y_next_pred)\n",
    "plt.plot(cast_time_data(x_next_days),scaler.inverse_transform(y_next_pred))"
   ]
  }
 ],
 "metadata": {
  "kernelspec": {
   "display_name": "Python 3",
   "language": "python",
   "name": "python3"
  },
  "language_info": {
   "codemirror_mode": {
    "name": "ipython",
    "version": 3
   },
   "file_extension": ".py",
   "mimetype": "text/x-python",
   "name": "python",
   "nbconvert_exporter": "python",
   "pygments_lexer": "ipython3",
   "version": "3.10.9"
  },
  "orig_nbformat": 4,
  "vscode": {
   "interpreter": {
    "hash": "f027560aaa5d1370abb9f19c7c71f97861b7f9ee8178bcc1c644ee12e3f51f57"
   }
  }
 },
 "nbformat": 4,
 "nbformat_minor": 2
}
