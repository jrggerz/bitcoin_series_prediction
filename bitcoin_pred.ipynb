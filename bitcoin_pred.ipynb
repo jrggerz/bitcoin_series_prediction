{
 "cells": [
  {
   "cell_type": "code",
   "execution_count": 112,
   "metadata": {},
   "outputs": [],
   "source": [
    "#import libraries\n",
    "import requests, zipfile\n",
    "import pandas as pd\n",
    "import io\n",
    "import os\n",
    "import numpy as np \n",
    "import tensorflow as tf\n",
    "from matplotlib import pyplot as plt\n",
    "from io import StringIO\n",
    "import itertools as it\n",
    "from datetime import datetime\n",
    "import sklearn as sklearn\n",
    "np.set_printoptions(threshold=sys.maxsize)\n",
    "from sklearn.metrics import mean_squared_error, mean_absolute_error, explained_variance_score, r2_score \n",
    "from sklearn.metrics import mean_poisson_deviance, mean_gamma_deviance, accuracy_score\n",
    "from sklearn.preprocessing import MinMaxScaler"
   ]
  },
  {
   "cell_type": "code",
   "execution_count": 113,
   "metadata": {},
   "outputs": [
    {
     "name": "stdout",
     "output_type": "stream",
     "text": [
      "https://data.binance.vision/data/spot/daily/klines/BTCBUSD/4h/BTCBUSD-4h-\n"
     ]
    }
   ],
   "source": [
    "#declare global variables \n",
    "daily_monthly = 'daily'\n",
    "time_lapse = '4h'\n",
    "bitcoin_par = 'BTCBUSD'\n",
    "year_2022 = '2022-'\n",
    "year_2023 = '2023-'\n",
    "url = 'https://data.binance.vision/data/spot/'+daily_monthly+'/klines/'+bitcoin_par+'/'+time_lapse+'/'+bitcoin_par+'-'+time_lapse+'-'\n",
    "zip = '.zip'\n",
    "#https://data.binance.vision/data/spot/daily/klines/BTCBUSD/4h/BTCBUSD-4h-\n",
    "print(url)"
   ]
  },
  {
   "cell_type": "code",
   "execution_count": 114,
   "metadata": {},
   "outputs": [
    {
     "data": {
      "text/plain": [
       "'\\nx = np.array([], dtype=np.uint32)\\ny = np.array([], dtype=np.uint32)\\n#download the data and unzip\\ntry:\\n    for year_loop in range(2021, 2024):\\n        for month_loop in range(1, 13):\\n            if month_loop in (1,3,5,7,8,10,12):\\n                days_range = 32\\n            elif month_loop in (4,6,9,11):\\n                days_range = 31\\n            else:\\n                days_range = 29\\n            month_inloop =  \\'0\\'+str(month_loop) if month_loop < 10 else str(month_loop)\\n            for day_loop in range(1, days_range):#days_range\\n                day_inloop = \\'0\\'+str(day_loop) if day_loop < 10 else str(day_loop)\\n                url_loop = url+str(year_loop)+\\'-\\'+str(month_inloop)+\\'-\\'+str(day_inloop)+zip\\n                #print(url_loop)\\n                #requeset info from binance\\n                #req_loop = requests.get(url_loop, stream=True)\\n                #print(req_loop.status_code)\\n                if  ((year_loop  >= 2021 and month_loop >= 3)):#and (year_loop <= 2023 and month_loop <= 1 and day_loop <= 5)\\n                    #z = zipfile.ZipFile(io.BytesIO(req_loop.content))\\n                    #z.extractall(os.path.join(os.getcwd(), \\'data-btc\\'))\\n                    csv_name_loop = bitcoin_par+\\'-\\'+time_lapse+\\'-\\'+str(year_loop)+\\'-\\'+str(month_inloop)+\\'-\\'+str(day_inloop)+\\'.csv\\'\\n                    print(csv_name_loop)\\n                    df  =    pd.read_csv(os.path.join(os.getcwd(), \\'data-btc\\', csv_name_loop)\\n                    , header = None\\n                    , names = [\\'Open time\\', \\'Open\\', \\'High\\', \\'Low\\', \\'Close\\', \\'Volume\\', \\'Close time\\', \\'Quote asset volume\\', \\'Number of trades\\', \\'Taker buy base asset volume\\', \\'Taker buy quote asset volume\\', \\'ignore\\'])\\n                    x_time = df[[\\'Open time\\']].to_numpy(dtype = np.float32)\\n                    x = np.append(x, x_time)\\n                    y_price_high = df[[\\'High\\']].to_numpy(dtype = np.float32)\\n                    y_price_close = df[[\\'Low\\']].to_numpy(dtype = np.float32)\\n                    y_promedio = np.add(y_price_high, y_price_close)\\n                    y_promedio =  y_promedio/2\\n                    y = np.append(y, y_promedio)\\nexcept:\\n    print(\"Error\")\\n#print(df.shape)\\n#df.head\\n'"
      ]
     },
     "execution_count": 114,
     "metadata": {},
     "output_type": "execute_result"
    }
   ],
   "source": [
    "'''\n",
    "x = np.array([], dtype=np.uint32)\n",
    "y = np.array([], dtype=np.uint32)\n",
    "#download the data and unzip\n",
    "try:\n",
    "    for year_loop in range(2021, 2024):\n",
    "        for month_loop in range(1, 13):\n",
    "            if month_loop in (1,3,5,7,8,10,12):\n",
    "                days_range = 32\n",
    "            elif month_loop in (4,6,9,11):\n",
    "                days_range = 31\n",
    "            else:\n",
    "                days_range = 29\n",
    "            month_inloop =  '0'+str(month_loop) if month_loop < 10 else str(month_loop)\n",
    "            for day_loop in range(1, days_range):#days_range\n",
    "                day_inloop = '0'+str(day_loop) if day_loop < 10 else str(day_loop)\n",
    "                url_loop = url+str(year_loop)+'-'+str(month_inloop)+'-'+str(day_inloop)+zip\n",
    "                #print(url_loop)\n",
    "                #requeset info from binance\n",
    "                #req_loop = requests.get(url_loop, stream=True)\n",
    "                #print(req_loop.status_code)\n",
    "                if  ((year_loop  >= 2021 and month_loop >= 3)):#and (year_loop <= 2023 and month_loop <= 1 and day_loop <= 5)\n",
    "                    #z = zipfile.ZipFile(io.BytesIO(req_loop.content))\n",
    "                    #z.extractall(os.path.join(os.getcwd(), 'data-btc'))\n",
    "                    csv_name_loop = bitcoin_par+'-'+time_lapse+'-'+str(year_loop)+'-'+str(month_inloop)+'-'+str(day_inloop)+'.csv'\n",
    "                    print(csv_name_loop)\n",
    "                    df  =    pd.read_csv(os.path.join(os.getcwd(), 'data-btc', csv_name_loop)\n",
    "                    , header = None\n",
    "                    , names = ['Open time', 'Open', 'High', 'Low', 'Close', 'Volume', 'Close time', 'Quote asset volume', 'Number of trades', 'Taker buy base asset volume', 'Taker buy quote asset volume', 'ignore'])\n",
    "                    x_time = df[['Open time']].to_numpy(dtype = np.float32)\n",
    "                    x = np.append(x, x_time)\n",
    "                    y_price_high = df[['High']].to_numpy(dtype = np.float32)\n",
    "                    y_price_close = df[['Low']].to_numpy(dtype = np.float32)\n",
    "                    y_promedio = np.add(y_price_high, y_price_close)\n",
    "                    y_promedio =  y_promedio/2\n",
    "                    y = np.append(y, y_promedio)\n",
    "except:\n",
    "    print(\"Error\")\n",
    "#print(df.shape)\n",
    "#df.head\n",
    "'''\n"
   ]
  },
  {
   "cell_type": "code",
   "execution_count": 191,
   "metadata": {},
   "outputs": [
    {
     "name": "stdout",
     "output_type": "stream",
     "text": [
      "200\n",
      "200\n",
      "200\n",
      "200\n",
      "200\n",
      "200\n",
      "1673035251712.0 1673116315524.583\n",
      "16956.009765625 16938.56714747\n",
      "16938.56714747\n",
      "(3691,) (3691,)\n"
     ]
    }
   ],
   "source": [
    "x = np.array([], dtype=np.uint32)\n",
    "y = np.array([], dtype=np.uint32)\n",
    "#download and charge 2021 from month 3 to month 12\n",
    "for month_loop in range (3, 12):\n",
    "    if month_loop in (1,3,5,7,8,10,12):\n",
    "        days_range = 32\n",
    "    elif month_loop in (4,6,9,11):\n",
    "        days_range = 31\n",
    "    else:\n",
    "        days_range = 29\n",
    "    month_inloop =  '0'+str(month_loop) if month_loop < 10 else str(month_loop)\n",
    "    for day_loop in range(1, days_range):#days_range\n",
    "        day_inloop = '0'+str(day_loop) if day_loop < 10 else str(day_loop)\n",
    "        url_loop = url+str(2021)+'-'+str(month_inloop)+'-'+str(day_inloop)+zip\n",
    "        #print(url_loop)\n",
    "        #requeset info from binance\n",
    "        #req_loop = requests.get(url_loop, stream=True)\n",
    "        #print(req_loop.status_code)\n",
    "        z = zipfile.ZipFile(io.BytesIO(req_loop.content))\n",
    "        z.extractall(os.path.join(os.getcwd(), 'data-btc'))\n",
    "        csv_name_loop = bitcoin_par+'-'+time_lapse+'-'+str(2021)+'-'+str(month_inloop)+'-'+str(day_inloop)+'.csv'\n",
    "        #print(csv_name_loop)\n",
    "        df  =    pd.read_csv(os.path.join(os.getcwd(), 'data-btc', csv_name_loop)\n",
    "        , header = None\n",
    "        , names = ['Open time', 'Open', 'High', 'Low', 'Close', 'Volume', 'Close time', 'Quote asset volume', 'Number of trades', 'Taker buy base asset volume', 'Taker buy quote asset volume', 'ignore'])\n",
    "        x_time = df[['Open time']].to_numpy(dtype = np.float32)\n",
    "        x = np.append(x, x_time)\n",
    "        y_price_high = df[['High']].to_numpy(dtype = np.float32)\n",
    "        y_price_close = df[['Low']].to_numpy(dtype = np.float32)\n",
    "        y_promedio = np.add(y_price_high, y_price_close)\n",
    "        y_promedio =  y_promedio/2\n",
    "        y = np.append(y, y_promedio)\n",
    "        \n",
    "#download and charge 2022 all the motnhs\n",
    "for month_loop in range (1, 12):\n",
    "    if month_loop in (1,3,5,7,8,10,12):\n",
    "        days_range = 32\n",
    "    elif month_loop in (4,6,9,11):\n",
    "        days_range = 31\n",
    "    else:\n",
    "        days_range = 29\n",
    "    month_inloop =  '0'+str(month_loop) if month_loop < 10 else str(month_loop)\n",
    "    for day_loop in range(1, days_range):#days_range\n",
    "        day_inloop = '0'+str(day_loop) if day_loop < 10 else str(day_loop)\n",
    "        url_loop = url+str(2022)+'-'+str(month_inloop)+'-'+str(day_inloop)+zip\n",
    "        #print(url_loop)\n",
    "        #requeset info from binance\n",
    "        #req_loop = requests.get(url_loop, stream=True)\n",
    "        #print(req_loop.status_code)\n",
    "        z = zipfile.ZipFile(io.BytesIO(req_loop.content))\n",
    "        z.extractall(os.path.join(os.getcwd(), 'data-btc'))\n",
    "        csv_name_loop = bitcoin_par+'-'+time_lapse+'-'+str(2022)+'-'+str(month_inloop)+'-'+str(day_inloop)+'.csv'\n",
    "        #print(csv_name_loop)\n",
    "        df  =    pd.read_csv(os.path.join(os.getcwd(), 'data-btc', csv_name_loop)\n",
    "        , header = None\n",
    "        , names = ['Open time', 'Open', 'High', 'Low', 'Close', 'Volume', 'Close time', 'Quote asset volume', 'Number of trades', 'Taker buy base asset volume', 'Taker buy quote asset volume', 'ignore'])\n",
    "        x_time = df[['Open time']].to_numpy(dtype = np.float32)\n",
    "        x = np.append(x, x_time)\n",
    "        y_price_high = df[['High']].to_numpy(dtype = np.float32)\n",
    "        y_price_close = df[['Low']].to_numpy(dtype = np.float32)\n",
    "        y_promedio = np.add(y_price_high, y_price_close)\n",
    "        y_promedio =  y_promedio/2\n",
    "        y = np.append(y, y_promedio)\n",
    "#download and charge 2023 in order of the days \n",
    "for month_loop in range (1, 2):\n",
    "    if month_loop in (1,3,5,7,8,10,12):\n",
    "        days_range = 32\n",
    "    elif month_loop in (4,6,9,11):\n",
    "        days_range = 31\n",
    "    else:\n",
    "        days_range = 29\n",
    "    month_inloop =  '0'+str(month_loop) if month_loop < 10 else str(month_loop)\n",
    "    for day_loop in range(1, 7):#days_range\n",
    "        day_inloop = '0'+str(day_loop) if day_loop < 10 else str(day_loop)\n",
    "        url_loop = url+str(2023)+'-'+str(month_inloop)+'-'+str(day_inloop)+zip\n",
    "        #print(url_loop)\n",
    "        #requeset info from binance\n",
    "        req_loop = requests.get(url_loop, stream=True)\n",
    "        print(req_loop.status_code)\n",
    "        z = zipfile.ZipFile(io.BytesIO(req_loop.content))\n",
    "        z.extractall(os.path.join(os.getcwd(), 'data-btc'))\n",
    "        csv_name_loop = bitcoin_par+'-'+time_lapse+'-'+str(2023)+'-'+str(month_inloop)+'-'+str(day_inloop)+'.csv'\n",
    "        #print(csv_name_loop)\n",
    "        df  =    pd.read_csv(os.path.join(os.getcwd(), 'data-btc', csv_name_loop)\n",
    "        , header = None\n",
    "        , names = ['Open time', 'Open', 'High', 'Low', 'Close', 'Volume', 'Close time', 'Quote asset volume', 'Number of trades', 'Taker buy base asset volume', 'Taker buy quote asset volume', 'ignore'])\n",
    "        x_time = df[['Open time']].to_numpy(dtype = np.float32)\n",
    "        x = np.append(x, x_time)\n",
    "        y_price_high = df[['High']].to_numpy(dtype = np.float32)\n",
    "        y_price_close = df[['Low']].to_numpy(dtype = np.float32)\n",
    "        y_promedio = np.add(y_price_high, y_price_close)\n",
    "        y_promedio =  y_promedio/2\n",
    "        y = np.append(y, y_promedio)\n",
    "\n",
    "\n",
    "\n",
    "last_date = datetime.now()\n",
    "unix_last_date = datetime.timestamp(presentDate)*1000\n",
    "print(x[-1], unix_last_date)\n",
    "req_bin_today = requests.get('https://api.binance.com/api/v3/avgPrice?symbol=BTCUSDT', stream=True)\n",
    "last_price = req_bin_today.json()['price']\n",
    "print(y[-1], last_price)\n",
    "x = np.append(x, np.array(unix_last_date))\n",
    "y = np.append(y, np.array(last_price, dtype = np.float32))\n",
    "print(last_price)\n",
    "print(y.shape, x.shape)\n",
    "\n"
   ]
  },
  {
   "cell_type": "code",
   "execution_count": 179,
   "metadata": {},
   "outputs": [],
   "source": [
    "df_scal = pd.DataFrame(y)\n",
    "scaler = MinMaxScaler(feature_range=(0,1))\n",
    "y_close=scaler.fit_transform(np.array(df_scal).reshape(-1,1))"
   ]
  },
  {
   "cell_type": "code",
   "execution_count": 180,
   "metadata": {},
   "outputs": [
    {
     "name": "stdout",
     "output_type": "stream",
     "text": [
      "(3691,)\n"
     ]
    },
    {
     "data": {
      "image/png": "[encoded data removed]",
      "text/plain": [
       "<Figure size 640x480 with 1 Axes>"
      ]
     },
     "metadata": {},
     "output_type": "display_data"
    }
   ],
   "source": [
    "print(y.shape)\n",
    "#plt.plot(x, y)\n",
    "plt.plot(x, y_close)\n",
    "plt.show()"
   ]
  },
  {
   "cell_type": "code",
   "execution_count": 195,
   "metadata": {},
   "outputs": [
    {
     "data": {
      "image/png": "[encoded data removed]",
      "text/plain": [
       "<Figure size 640x480 with 1 Axes>"
      ]
     },
     "metadata": {},
     "output_type": "display_data"
    }
   ],
   "source": [
    "def cast_time_data(np_array):\n",
    "    x_new_time = []\n",
    "    for time_unix in np_array:\n",
    "        new_time = int(str(time_unix)[0:10])\n",
    "        unixToDatetime = datetime.fromtimestamp(new_time).strftime('%Y-%m-%d %H:%M:%S')\n",
    "        x_new_time.append(unixToDatetime)\n",
    "    return np.array(x_new_time)\n",
    "x_new_time = cast_time_data(x)\n",
    "plt.plot(x_new_time, scaler.inverse_transform(y_close))\n",
    "plt.show()"
   ]
  },
  {
   "cell_type": "code",
   "execution_count": 196,
   "metadata": {},
   "outputs": [],
   "source": [
    "def prepare_y_series(np_array, series_size = 10):\n",
    "    x_series = []\n",
    "    y_series = []\n",
    "    for y_val in range(len(np_array)-series_size):\n",
    "        x_series.append([[a] for a in np_array[y_val:y_val+series_size]])\n",
    "        y_series.append(np_array[y_val+series_size])\n",
    "        #print(np_array[y_val+series_size])\n",
    "    #print(np.array(y_series))\n",
    "    return np.array(x_series), np.array(y_series)\n",
    "x_series_def, y_series_def = prepare_y_series(y_close)\n",
    "#prepare_data_in_percentage\n",
    "nint_perc = int(len(x_series_def)*.90)\n",
    "nintfive_perc = int(len(x_series_def)*.95)\n",
    "hun_perc = int(len(x_series_def)*1.0)\n",
    "x_train, y_train = x_series_def[:nint_perc], y_series_def[:nint_perc]\n",
    "x_valid, y_valid = x_series_def[nint_perc:hun_perc], y_series_def[nint_perc:hun_perc]\n",
    "x_test, y_test = x_series_def[nintfive_perc:hun_perc], y_series_def[nintfive_perc:hun_perc]\n",
    "x_plt_train = x[:nint_perc]\n",
    "x_plt_valid = x[nint_perc:nintfive_perc]\n",
    "x_plt_test = x[nintfive_perc:hun_perc]"
   ]
  },
  {
   "cell_type": "code",
   "execution_count": 197,
   "metadata": {},
   "outputs": [
    {
     "name": "stdout",
     "output_type": "stream",
     "text": [
      "Model: \"sequential_8\"\n",
      "_________________________________________________________________\n",
      " Layer (type)                Output Shape              Param #   \n",
      "=================================================================\n",
      " lstm_8 (LSTM)               (None, 64)                16896     \n",
      "                                                                 \n",
      " dense_16 (Dense)            (None, 8)                 520       \n",
      "                                                                 \n",
      " dense_17 (Dense)            (None, 1)                 9         \n",
      "                                                                 \n",
      "=================================================================\n",
      "Total params: 17,425\n",
      "Trainable params: 17,425\n",
      "Non-trainable params: 0\n",
      "_________________________________________________________________\n"
     ]
    }
   ],
   "source": [
    "#new maderfucking model\n",
    "mamfmodel = tf.keras.models.Sequential()\n",
    "mamfmodel.add(tf.keras.layers.InputLayer((10, 1)))\n",
    "mamfmodel.add(tf.keras.layers.LSTM(units = 64))\n",
    "mamfmodel.add(tf.keras.layers.Dense(8, 'relu'))\n",
    "mamfmodel.add(tf.keras.layers.Dense(1, 'linear'))\n",
    "mamfmodel.summary()"
   ]
  },
  {
   "cell_type": "code",
   "execution_count": 198,
   "metadata": {},
   "outputs": [
    {
     "name": "stdout",
     "output_type": "stream",
     "text": [
      "Epoch 1/125\n",
      " 93/104 [=========================>....] - ETA: 0s - loss: 0.0181 - root_mean_squared_error: 0.1345"
     ]
    },
    {
     "name": "stderr",
     "output_type": "stream",
     "text": [
      "WARNING:absl:Found untraced functions such as _update_step_xla, lstm_cell_8_layer_call_fn, lstm_cell_8_layer_call_and_return_conditional_losses while saving (showing 3 of 3). These functions will not be directly callable after loading.\n"
     ]
    },
    {
     "name": "stdout",
     "output_type": "stream",
     "text": [
      "INFO:tensorflow:Assets written to: mamfmodel\\assets\n"
     ]
    },
    {
     "name": "stderr",
     "output_type": "stream",
     "text": [
      "INFO:tensorflow:Assets written to: mamfmodel\\assets\n"
     ]
    },
    {
     "name": "stdout",
     "output_type": "stream",
     "text": [
      "104/104 [==============================] - 5s 32ms/step - loss: 0.0163 - root_mean_squared_error: 0.1278 - val_loss: 4.8818e-04 - val_root_mean_squared_error: 0.0221\n",
      "Epoch 2/125\n",
      " 92/104 [=========================>....] - ETA: 0s - loss: 6.0105e-04 - root_mean_squared_error: 0.0245"
     ]
    },
    {
     "name": "stderr",
     "output_type": "stream",
     "text": [
      "WARNING:absl:Found untraced functions such as _update_step_xla, lstm_cell_8_layer_call_fn, lstm_cell_8_layer_call_and_return_conditional_losses while saving (showing 3 of 3). These functions will not be directly callable after loading.\n"
     ]
    },
    {
     "name": "stdout",
     "output_type": "stream",
     "text": [
      "INFO:tensorflow:Assets written to: mamfmodel\\assets\n"
     ]
    },
    {
     "name": "stderr",
     "output_type": "stream",
     "text": [
      "INFO:tensorflow:Assets written to: mamfmodel\\assets\n"
     ]
    },
    {
     "name": "stdout",
     "output_type": "stream",
     "text": [
      "104/104 [==============================] - 3s 31ms/step - loss: 5.9092e-04 - root_mean_squared_error: 0.0243 - val_loss: 2.1103e-04 - val_root_mean_squared_error: 0.0145\n",
      "Epoch 3/125\n",
      " 91/104 [=========================>....] - ETA: 0s - loss: 5.3710e-04 - root_mean_squared_error: 0.0232"
     ]
    },
    {
     "name": "stderr",
     "output_type": "stream",
     "text": [
      "WARNING:absl:Found untraced functions such as _update_step_xla, lstm_cell_8_layer_call_fn, lstm_cell_8_layer_call_and_return_conditional_losses while saving (showing 3 of 3). These functions will not be directly callable after loading.\n"
     ]
    },
    {
     "name": "stdout",
     "output_type": "stream",
     "text": [
      "INFO:tensorflow:Assets written to: mamfmodel\\assets\n"
     ]
    },
    {
     "name": "stderr",
     "output_type": "stream",
     "text": [
      "INFO:tensorflow:Assets written to: mamfmodel\\assets\n"
     ]
    },
    {
     "name": "stdout",
     "output_type": "stream",
     "text": [
      "104/104 [==============================] - 3s 30ms/step - loss: 5.4523e-04 - root_mean_squared_error: 0.0234 - val_loss: 6.2876e-05 - val_root_mean_squared_error: 0.0079\n",
      "Epoch 4/125\n",
      "104/104 [==============================] - 0s 5ms/step - loss: 5.1358e-04 - root_mean_squared_error: 0.0227 - val_loss: 6.3411e-05 - val_root_mean_squared_error: 0.0080\n",
      "Epoch 5/125\n",
      "102/104 [============================>.] - ETA: 0s - loss: 5.0402e-04 - root_mean_squared_error: 0.0225"
     ]
    },
    {
     "name": "stderr",
     "output_type": "stream",
     "text": [
      "WARNING:absl:Found untraced functions such as _update_step_xla, lstm_cell_8_layer_call_fn, lstm_cell_8_layer_call_and_return_conditional_losses while saving (showing 3 of 3). These functions will not be directly callable after loading.\n"
     ]
    },
    {
     "name": "stdout",
     "output_type": "stream",
     "text": [
      "INFO:tensorflow:Assets written to: mamfmodel\\assets\n"
     ]
    },
    {
     "name": "stderr",
     "output_type": "stream",
     "text": [
      "INFO:tensorflow:Assets written to: mamfmodel\\assets\n"
     ]
    },
    {
     "name": "stdout",
     "output_type": "stream",
     "text": [
      "104/104 [==============================] - 3s 32ms/step - loss: 4.9990e-04 - root_mean_squared_error: 0.0224 - val_loss: 4.9806e-05 - val_root_mean_squared_error: 0.0071\n",
      "Epoch 6/125\n",
      "104/104 [==============================] - 0s 4ms/step - loss: 4.6374e-04 - root_mean_squared_error: 0.0215 - val_loss: 1.0840e-04 - val_root_mean_squared_error: 0.0104\n",
      "Epoch 7/125\n",
      "100/104 [===========================>..] - ETA: 0s - loss: 4.5080e-04 - root_mean_squared_error: 0.0212"
     ]
    },
    {
     "name": "stderr",
     "output_type": "stream",
     "text": [
      "WARNING:absl:Found untraced functions such as _update_step_xla, lstm_cell_8_layer_call_fn, lstm_cell_8_layer_call_and_return_conditional_losses while saving (showing 3 of 3). These functions will not be directly callable after loading.\n"
     ]
    },
    {
     "name": "stdout",
     "output_type": "stream",
     "text": [
      "INFO:tensorflow:Assets written to: mamfmodel\\assets\n"
     ]
    },
    {
     "name": "stderr",
     "output_type": "stream",
     "text": [
      "INFO:tensorflow:Assets written to: mamfmodel\\assets\n"
     ]
    },
    {
     "name": "stdout",
     "output_type": "stream",
     "text": [
      "104/104 [==============================] - 3s 30ms/step - loss: 4.5912e-04 - root_mean_squared_error: 0.0214 - val_loss: 4.3758e-05 - val_root_mean_squared_error: 0.0066\n",
      "Epoch 8/125\n",
      "104/104 [==============================] - 0s 4ms/step - loss: 4.7565e-04 - root_mean_squared_error: 0.0218 - val_loss: 4.9658e-05 - val_root_mean_squared_error: 0.0070\n",
      "Epoch 9/125\n",
      " 92/104 [=========================>....] - ETA: 0s - loss: 4.1301e-04 - root_mean_squared_error: 0.0203"
     ]
    },
    {
     "name": "stderr",
     "output_type": "stream",
     "text": [
      "WARNING:absl:Found untraced functions such as _update_step_xla, lstm_cell_8_layer_call_fn, lstm_cell_8_layer_call_and_return_conditional_losses while saving (showing 3 of 3). These functions will not be directly callable after loading.\n"
     ]
    },
    {
     "name": "stdout",
     "output_type": "stream",
     "text": [
      "INFO:tensorflow:Assets written to: mamfmodel\\assets\n"
     ]
    },
    {
     "name": "stderr",
     "output_type": "stream",
     "text": [
      "INFO:tensorflow:Assets written to: mamfmodel\\assets\n"
     ]
    },
    {
     "name": "stdout",
     "output_type": "stream",
     "text": [
      "104/104 [==============================] - 3s 30ms/step - loss: 4.0753e-04 - root_mean_squared_error: 0.0202 - val_loss: 3.8374e-05 - val_root_mean_squared_error: 0.0062\n",
      "Epoch 10/125\n",
      "104/104 [==============================] - 0s 4ms/step - loss: 3.8320e-04 - root_mean_squared_error: 0.0196 - val_loss: 3.9934e-05 - val_root_mean_squared_error: 0.0063\n",
      "Epoch 11/125\n",
      "100/104 [===========================>..] - ETA: 0s - loss: 3.8347e-04 - root_mean_squared_error: 0.0196"
     ]
    },
    {
     "name": "stderr",
     "output_type": "stream",
     "text": [
      "WARNING:absl:Found untraced functions such as _update_step_xla, lstm_cell_8_layer_call_fn, lstm_cell_8_layer_call_and_return_conditional_losses while saving (showing 3 of 3). These functions will not be directly callable after loading.\n"
     ]
    },
    {
     "name": "stdout",
     "output_type": "stream",
     "text": [
      "INFO:tensorflow:Assets written to: mamfmodel\\assets\n"
     ]
    },
    {
     "name": "stderr",
     "output_type": "stream",
     "text": [
      "INFO:tensorflow:Assets written to: mamfmodel\\assets\n"
     ]
    },
    {
     "name": "stdout",
     "output_type": "stream",
     "text": [
      "104/104 [==============================] - 3s 30ms/step - loss: 3.7953e-04 - root_mean_squared_error: 0.0195 - val_loss: 3.7949e-05 - val_root_mean_squared_error: 0.0062\n",
      "Epoch 12/125\n",
      " 90/104 [========================>.....] - ETA: 0s - loss: 3.5443e-04 - root_mean_squared_error: 0.0188"
     ]
    },
    {
     "name": "stderr",
     "output_type": "stream",
     "text": [
      "WARNING:absl:Found untraced functions such as _update_step_xla, lstm_cell_8_layer_call_fn, lstm_cell_8_layer_call_and_return_conditional_losses while saving (showing 3 of 3). These functions will not be directly callable after loading.\n"
     ]
    },
    {
     "name": "stdout",
     "output_type": "stream",
     "text": [
      "INFO:tensorflow:Assets written to: mamfmodel\\assets\n"
     ]
    },
    {
     "name": "stderr",
     "output_type": "stream",
     "text": [
      "INFO:tensorflow:Assets written to: mamfmodel\\assets\n"
     ]
    },
    {
     "name": "stdout",
     "output_type": "stream",
     "text": [
      "104/104 [==============================] - 3s 30ms/step - loss: 3.4904e-04 - root_mean_squared_error: 0.0187 - val_loss: 3.2770e-05 - val_root_mean_squared_error: 0.0057\n",
      "Epoch 13/125\n",
      "104/104 [==============================] - 0s 4ms/step - loss: 3.4577e-04 - root_mean_squared_error: 0.0186 - val_loss: 4.2953e-05 - val_root_mean_squared_error: 0.0066\n",
      "Epoch 14/125\n",
      "104/104 [==============================] - 0s 4ms/step - loss: 2.9505e-04 - root_mean_squared_error: 0.0172 - val_loss: 3.4504e-05 - val_root_mean_squared_error: 0.0059\n",
      "Epoch 15/125\n",
      "103/104 [============================>.] - ETA: 0s - loss: 3.1555e-04 - root_mean_squared_error: 0.0178"
     ]
    },
    {
     "name": "stderr",
     "output_type": "stream",
     "text": [
      "WARNING:absl:Found untraced functions such as _update_step_xla, lstm_cell_8_layer_call_fn, lstm_cell_8_layer_call_and_return_conditional_losses while saving (showing 3 of 3). These functions will not be directly callable after loading.\n"
     ]
    },
    {
     "name": "stdout",
     "output_type": "stream",
     "text": [
      "INFO:tensorflow:Assets written to: mamfmodel\\assets\n"
     ]
    },
    {
     "name": "stderr",
     "output_type": "stream",
     "text": [
      "INFO:tensorflow:Assets written to: mamfmodel\\assets\n"
     ]
    },
    {
     "name": "stdout",
     "output_type": "stream",
     "text": [
      "104/104 [==============================] - 3s 30ms/step - loss: 3.1426e-04 - root_mean_squared_error: 0.0177 - val_loss: 2.7696e-05 - val_root_mean_squared_error: 0.0053\n",
      "Epoch 16/125\n",
      "104/104 [==============================] - 0s 4ms/step - loss: 2.7927e-04 - root_mean_squared_error: 0.0167 - val_loss: 5.6747e-05 - val_root_mean_squared_error: 0.0075\n",
      "Epoch 17/125\n",
      " 90/104 [========================>.....] - ETA: 0s - loss: 2.8473e-04 - root_mean_squared_error: 0.0169"
     ]
    },
    {
     "name": "stderr",
     "output_type": "stream",
     "text": [
      "WARNING:absl:Found untraced functions such as _update_step_xla, lstm_cell_8_layer_call_fn, lstm_cell_8_layer_call_and_return_conditional_losses while saving (showing 3 of 3). These functions will not be directly callable after loading.\n"
     ]
    },
    {
     "name": "stdout",
     "output_type": "stream",
     "text": [
      "INFO:tensorflow:Assets written to: mamfmodel\\assets\n"
     ]
    },
    {
     "name": "stderr",
     "output_type": "stream",
     "text": [
      "INFO:tensorflow:Assets written to: mamfmodel\\assets\n"
     ]
    },
    {
     "name": "stdout",
     "output_type": "stream",
     "text": [
      "104/104 [==============================] - 6s 59ms/step - loss: 2.8124e-04 - root_mean_squared_error: 0.0168 - val_loss: 2.4988e-05 - val_root_mean_squared_error: 0.0050\n",
      "Epoch 18/125\n",
      "104/104 [==============================] - 0s 4ms/step - loss: 2.5445e-04 - root_mean_squared_error: 0.0160 - val_loss: 2.8274e-05 - val_root_mean_squared_error: 0.0053\n",
      "Epoch 19/125\n",
      "104/104 [==============================] - 0s 4ms/step - loss: 2.6551e-04 - root_mean_squared_error: 0.0163 - val_loss: 2.9403e-05 - val_root_mean_squared_error: 0.0054\n",
      "Epoch 20/125\n",
      "104/104 [==============================] - 0s 4ms/step - loss: 2.4237e-04 - root_mean_squared_error: 0.0156 - val_loss: 4.2230e-05 - val_root_mean_squared_error: 0.0065\n",
      "Epoch 21/125\n",
      " 98/104 [===========================>..] - ETA: 0s - loss: 3.0387e-04 - root_mean_squared_error: 0.0174"
     ]
    },
    {
     "name": "stderr",
     "output_type": "stream",
     "text": [
      "WARNING:absl:Found untraced functions such as _update_step_xla, lstm_cell_8_layer_call_fn, lstm_cell_8_layer_call_and_return_conditional_losses while saving (showing 3 of 3). These functions will not be directly callable after loading.\n"
     ]
    },
    {
     "name": "stdout",
     "output_type": "stream",
     "text": [
      "INFO:tensorflow:Assets written to: mamfmodel\\assets\n"
     ]
    },
    {
     "name": "stderr",
     "output_type": "stream",
     "text": [
      "INFO:tensorflow:Assets written to: mamfmodel\\assets\n"
     ]
    },
    {
     "name": "stdout",
     "output_type": "stream",
     "text": [
      "104/104 [==============================] - 3s 30ms/step - loss: 2.9929e-04 - root_mean_squared_error: 0.0173 - val_loss: 2.4145e-05 - val_root_mean_squared_error: 0.0049\n",
      "Epoch 22/125\n",
      "104/104 [==============================] - 0s 4ms/step - loss: 2.5076e-04 - root_mean_squared_error: 0.0158 - val_loss: 3.9705e-05 - val_root_mean_squared_error: 0.0063\n",
      "Epoch 23/125\n",
      " 95/104 [==========================>...] - ETA: 0s - loss: 2.4335e-04 - root_mean_squared_error: 0.0156"
     ]
    },
    {
     "name": "stderr",
     "output_type": "stream",
     "text": [
      "WARNING:absl:Found untraced functions such as _update_step_xla, lstm_cell_8_layer_call_fn, lstm_cell_8_layer_call_and_return_conditional_losses while saving (showing 3 of 3). These functions will not be directly callable after loading.\n"
     ]
    },
    {
     "name": "stdout",
     "output_type": "stream",
     "text": [
      "INFO:tensorflow:Assets written to: mamfmodel\\assets\n"
     ]
    },
    {
     "name": "stderr",
     "output_type": "stream",
     "text": [
      "INFO:tensorflow:Assets written to: mamfmodel\\assets\n"
     ]
    },
    {
     "name": "stdout",
     "output_type": "stream",
     "text": [
      "104/104 [==============================] - 3s 30ms/step - loss: 2.3954e-04 - root_mean_squared_error: 0.0155 - val_loss: 2.2351e-05 - val_root_mean_squared_error: 0.0047\n",
      "Epoch 24/125\n",
      "104/104 [==============================] - 0s 4ms/step - loss: 2.2121e-04 - root_mean_squared_error: 0.0149 - val_loss: 3.1909e-05 - val_root_mean_squared_error: 0.0056\n",
      "Epoch 25/125\n",
      "104/104 [==============================] - ETA: 0s - loss: 2.0182e-04 - root_mean_squared_error: 0.0142"
     ]
    },
    {
     "name": "stderr",
     "output_type": "stream",
     "text": [
      "WARNING:absl:Found untraced functions such as _update_step_xla, lstm_cell_8_layer_call_fn, lstm_cell_8_layer_call_and_return_conditional_losses while saving (showing 3 of 3). These functions will not be directly callable after loading.\n"
     ]
    },
    {
     "name": "stdout",
     "output_type": "stream",
     "text": [
      "INFO:tensorflow:Assets written to: mamfmodel\\assets\n"
     ]
    },
    {
     "name": "stderr",
     "output_type": "stream",
     "text": [
      "INFO:tensorflow:Assets written to: mamfmodel\\assets\n"
     ]
    },
    {
     "name": "stdout",
     "output_type": "stream",
     "text": [
      "104/104 [==============================] - 3s 30ms/step - loss: 2.0182e-04 - root_mean_squared_error: 0.0142 - val_loss: 2.0596e-05 - val_root_mean_squared_error: 0.0045\n",
      "Epoch 26/125\n",
      " 93/104 [=========================>....] - ETA: 0s - loss: 1.9287e-04 - root_mean_squared_error: 0.0139"
     ]
    },
    {
     "name": "stderr",
     "output_type": "stream",
     "text": [
      "WARNING:absl:Found untraced functions such as _update_step_xla, lstm_cell_8_layer_call_fn, lstm_cell_8_layer_call_and_return_conditional_losses while saving (showing 3 of 3). These functions will not be directly callable after loading.\n"
     ]
    },
    {
     "name": "stdout",
     "output_type": "stream",
     "text": [
      "INFO:tensorflow:Assets written to: mamfmodel\\assets\n"
     ]
    },
    {
     "name": "stderr",
     "output_type": "stream",
     "text": [
      "INFO:tensorflow:Assets written to: mamfmodel\\assets\n"
     ]
    },
    {
     "name": "stdout",
     "output_type": "stream",
     "text": [
      "104/104 [==============================] - 3s 30ms/step - loss: 1.9400e-04 - root_mean_squared_error: 0.0139 - val_loss: 1.7591e-05 - val_root_mean_squared_error: 0.0042\n",
      "Epoch 27/125\n",
      " 88/104 [========================>.....] - ETA: 0s - loss: 1.9992e-04 - root_mean_squared_error: 0.0141"
     ]
    },
    {
     "name": "stderr",
     "output_type": "stream",
     "text": [
      "WARNING:absl:Found untraced functions such as _update_step_xla, lstm_cell_8_layer_call_fn, lstm_cell_8_layer_call_and_return_conditional_losses while saving (showing 3 of 3). These functions will not be directly callable after loading.\n"
     ]
    },
    {
     "name": "stdout",
     "output_type": "stream",
     "text": [
      "INFO:tensorflow:Assets written to: mamfmodel\\assets\n"
     ]
    },
    {
     "name": "stderr",
     "output_type": "stream",
     "text": [
      "INFO:tensorflow:Assets written to: mamfmodel\\assets\n"
     ]
    },
    {
     "name": "stdout",
     "output_type": "stream",
     "text": [
      "104/104 [==============================] - 3s 29ms/step - loss: 1.9392e-04 - root_mean_squared_error: 0.0139 - val_loss: 1.7244e-05 - val_root_mean_squared_error: 0.0042\n",
      "Epoch 28/125\n",
      "104/104 [==============================] - 0s 4ms/step - loss: 1.9890e-04 - root_mean_squared_error: 0.0141 - val_loss: 4.5554e-05 - val_root_mean_squared_error: 0.0067\n",
      "Epoch 29/125\n",
      "101/104 [============================>.] - ETA: 0s - loss: 1.9215e-04 - root_mean_squared_error: 0.0139"
     ]
    },
    {
     "name": "stderr",
     "output_type": "stream",
     "text": [
      "WARNING:absl:Found untraced functions such as _update_step_xla, lstm_cell_8_layer_call_fn, lstm_cell_8_layer_call_and_return_conditional_losses while saving (showing 3 of 3). These functions will not be directly callable after loading.\n"
     ]
    },
    {
     "name": "stdout",
     "output_type": "stream",
     "text": [
      "INFO:tensorflow:Assets written to: mamfmodel\\assets\n"
     ]
    },
    {
     "name": "stderr",
     "output_type": "stream",
     "text": [
      "INFO:tensorflow:Assets written to: mamfmodel\\assets\n"
     ]
    },
    {
     "name": "stdout",
     "output_type": "stream",
     "text": [
      "104/104 [==============================] - 3s 31ms/step - loss: 1.9129e-04 - root_mean_squared_error: 0.0138 - val_loss: 1.5362e-05 - val_root_mean_squared_error: 0.0039\n",
      "Epoch 30/125\n",
      "104/104 [==============================] - 0s 4ms/step - loss: 1.7134e-04 - root_mean_squared_error: 0.0131 - val_loss: 2.0005e-05 - val_root_mean_squared_error: 0.0045\n",
      "Epoch 31/125\n",
      "104/104 [==============================] - 0s 4ms/step - loss: 1.6732e-04 - root_mean_squared_error: 0.0129 - val_loss: 1.6612e-05 - val_root_mean_squared_error: 0.0041\n",
      "Epoch 32/125\n",
      "104/104 [==============================] - 0s 4ms/step - loss: 1.6307e-04 - root_mean_squared_error: 0.0128 - val_loss: 2.2728e-05 - val_root_mean_squared_error: 0.0048\n",
      "Epoch 33/125\n",
      "104/104 [==============================] - 0s 4ms/step - loss: 1.5804e-04 - root_mean_squared_error: 0.0126 - val_loss: 1.8080e-05 - val_root_mean_squared_error: 0.0043\n",
      "Epoch 34/125\n",
      "104/104 [==============================] - 0s 4ms/step - loss: 1.7822e-04 - root_mean_squared_error: 0.0133 - val_loss: 2.3297e-05 - val_root_mean_squared_error: 0.0048\n",
      "Epoch 35/125\n",
      "104/104 [==============================] - 0s 4ms/step - loss: 1.4727e-04 - root_mean_squared_error: 0.0121 - val_loss: 3.1198e-05 - val_root_mean_squared_error: 0.0056\n",
      "Epoch 36/125\n",
      " 97/104 [==========================>...] - ETA: 0s - loss: 1.6645e-04 - root_mean_squared_error: 0.0129"
     ]
    },
    {
     "name": "stderr",
     "output_type": "stream",
     "text": [
      "WARNING:absl:Found untraced functions such as _update_step_xla, lstm_cell_8_layer_call_fn, lstm_cell_8_layer_call_and_return_conditional_losses while saving (showing 3 of 3). These functions will not be directly callable after loading.\n"
     ]
    },
    {
     "name": "stdout",
     "output_type": "stream",
     "text": [
      "INFO:tensorflow:Assets written to: mamfmodel\\assets\n"
     ]
    },
    {
     "name": "stderr",
     "output_type": "stream",
     "text": [
      "INFO:tensorflow:Assets written to: mamfmodel\\assets\n"
     ]
    },
    {
     "name": "stdout",
     "output_type": "stream",
     "text": [
      "104/104 [==============================] - 3s 31ms/step - loss: 1.6228e-04 - root_mean_squared_error: 0.0127 - val_loss: 1.2798e-05 - val_root_mean_squared_error: 0.0036\n",
      "Epoch 37/125\n",
      "104/104 [==============================] - 0s 4ms/step - loss: 1.7364e-04 - root_mean_squared_error: 0.0132 - val_loss: 1.3605e-05 - val_root_mean_squared_error: 0.0037\n",
      "Epoch 38/125\n",
      "104/104 [==============================] - 0s 4ms/step - loss: 1.7593e-04 - root_mean_squared_error: 0.0133 - val_loss: 2.1920e-05 - val_root_mean_squared_error: 0.0047\n",
      "Epoch 39/125\n",
      "104/104 [==============================] - 0s 4ms/step - loss: 1.6202e-04 - root_mean_squared_error: 0.0127 - val_loss: 1.6163e-05 - val_root_mean_squared_error: 0.0040\n",
      "Epoch 40/125\n",
      " 91/104 [=========================>....] - ETA: 0s - loss: 1.4989e-04 - root_mean_squared_error: 0.0122"
     ]
    },
    {
     "name": "stderr",
     "output_type": "stream",
     "text": [
      "WARNING:absl:Found untraced functions such as _update_step_xla, lstm_cell_8_layer_call_fn, lstm_cell_8_layer_call_and_return_conditional_losses while saving (showing 3 of 3). These functions will not be directly callable after loading.\n"
     ]
    },
    {
     "name": "stdout",
     "output_type": "stream",
     "text": [
      "INFO:tensorflow:Assets written to: mamfmodel\\assets\n"
     ]
    },
    {
     "name": "stderr",
     "output_type": "stream",
     "text": [
      "INFO:tensorflow:Assets written to: mamfmodel\\assets\n"
     ]
    },
    {
     "name": "stdout",
     "output_type": "stream",
     "text": [
      "104/104 [==============================] - 3s 30ms/step - loss: 1.4561e-04 - root_mean_squared_error: 0.0121 - val_loss: 1.2281e-05 - val_root_mean_squared_error: 0.0035\n",
      "Epoch 41/125\n",
      "104/104 [==============================] - 0s 4ms/step - loss: 1.6194e-04 - root_mean_squared_error: 0.0127 - val_loss: 2.2200e-05 - val_root_mean_squared_error: 0.0047\n",
      "Epoch 42/125\n",
      "104/104 [==============================] - 0s 4ms/step - loss: 1.3871e-04 - root_mean_squared_error: 0.0118 - val_loss: 1.3917e-05 - val_root_mean_squared_error: 0.0037\n",
      "Epoch 43/125\n",
      "104/104 [==============================] - 0s 4ms/step - loss: 1.3734e-04 - root_mean_squared_error: 0.0117 - val_loss: 1.2631e-05 - val_root_mean_squared_error: 0.0036\n",
      "Epoch 44/125\n",
      "104/104 [==============================] - 0s 4ms/step - loss: 1.4901e-04 - root_mean_squared_error: 0.0122 - val_loss: 1.2381e-05 - val_root_mean_squared_error: 0.0035\n",
      "Epoch 45/125\n",
      "104/104 [==============================] - ETA: 0s - loss: 1.6300e-04 - root_mean_squared_error: 0.0128"
     ]
    },
    {
     "name": "stderr",
     "output_type": "stream",
     "text": [
      "WARNING:absl:Found untraced functions such as _update_step_xla, lstm_cell_8_layer_call_fn, lstm_cell_8_layer_call_and_return_conditional_losses while saving (showing 3 of 3). These functions will not be directly callable after loading.\n"
     ]
    },
    {
     "name": "stdout",
     "output_type": "stream",
     "text": [
      "INFO:tensorflow:Assets written to: mamfmodel\\assets\n"
     ]
    },
    {
     "name": "stderr",
     "output_type": "stream",
     "text": [
      "INFO:tensorflow:Assets written to: mamfmodel\\assets\n"
     ]
    },
    {
     "name": "stdout",
     "output_type": "stream",
     "text": [
      "104/104 [==============================] - 3s 30ms/step - loss: 1.6300e-04 - root_mean_squared_error: 0.0128 - val_loss: 1.2253e-05 - val_root_mean_squared_error: 0.0035\n",
      "Epoch 46/125\n",
      " 94/104 [==========================>...] - ETA: 0s - loss: 1.4342e-04 - root_mean_squared_error: 0.0120"
     ]
    },
    {
     "name": "stderr",
     "output_type": "stream",
     "text": [
      "WARNING:absl:Found untraced functions such as _update_step_xla, lstm_cell_8_layer_call_fn, lstm_cell_8_layer_call_and_return_conditional_losses while saving (showing 3 of 3). These functions will not be directly callable after loading.\n"
     ]
    },
    {
     "name": "stdout",
     "output_type": "stream",
     "text": [
      "INFO:tensorflow:Assets written to: mamfmodel\\assets\n"
     ]
    },
    {
     "name": "stderr",
     "output_type": "stream",
     "text": [
      "INFO:tensorflow:Assets written to: mamfmodel\\assets\n"
     ]
    },
    {
     "name": "stdout",
     "output_type": "stream",
     "text": [
      "104/104 [==============================] - 3s 30ms/step - loss: 1.4372e-04 - root_mean_squared_error: 0.0120 - val_loss: 1.2030e-05 - val_root_mean_squared_error: 0.0035\n",
      "Epoch 47/125\n",
      "104/104 [==============================] - 0s 4ms/step - loss: 1.4712e-04 - root_mean_squared_error: 0.0121 - val_loss: 1.6249e-05 - val_root_mean_squared_error: 0.0040\n",
      "Epoch 48/125\n",
      "104/104 [==============================] - 0s 4ms/step - loss: 1.2454e-04 - root_mean_squared_error: 0.0112 - val_loss: 1.2719e-05 - val_root_mean_squared_error: 0.0036\n",
      "Epoch 49/125\n",
      " 91/104 [=========================>....] - ETA: 0s - loss: 1.2786e-04 - root_mean_squared_error: 0.0113"
     ]
    },
    {
     "name": "stderr",
     "output_type": "stream",
     "text": [
      "WARNING:absl:Found untraced functions such as _update_step_xla, lstm_cell_8_layer_call_fn, lstm_cell_8_layer_call_and_return_conditional_losses while saving (showing 3 of 3). These functions will not be directly callable after loading.\n"
     ]
    },
    {
     "name": "stdout",
     "output_type": "stream",
     "text": [
      "INFO:tensorflow:Assets written to: mamfmodel\\assets\n"
     ]
    },
    {
     "name": "stderr",
     "output_type": "stream",
     "text": [
      "INFO:tensorflow:Assets written to: mamfmodel\\assets\n"
     ]
    },
    {
     "name": "stdout",
     "output_type": "stream",
     "text": [
      "104/104 [==============================] - 3s 30ms/step - loss: 1.2787e-04 - root_mean_squared_error: 0.0113 - val_loss: 1.1622e-05 - val_root_mean_squared_error: 0.0034\n",
      "Epoch 50/125\n",
      " 98/104 [===========================>..] - ETA: 0s - loss: 1.3791e-04 - root_mean_squared_error: 0.0117"
     ]
    },
    {
     "name": "stderr",
     "output_type": "stream",
     "text": [
      "WARNING:absl:Found untraced functions such as _update_step_xla, lstm_cell_8_layer_call_fn, lstm_cell_8_layer_call_and_return_conditional_losses while saving (showing 3 of 3). These functions will not be directly callable after loading.\n"
     ]
    },
    {
     "name": "stdout",
     "output_type": "stream",
     "text": [
      "INFO:tensorflow:Assets written to: mamfmodel\\assets\n"
     ]
    },
    {
     "name": "stderr",
     "output_type": "stream",
     "text": [
      "INFO:tensorflow:Assets written to: mamfmodel\\assets\n"
     ]
    },
    {
     "name": "stdout",
     "output_type": "stream",
     "text": [
      "104/104 [==============================] - 3s 30ms/step - loss: 1.4047e-04 - root_mean_squared_error: 0.0119 - val_loss: 1.0361e-05 - val_root_mean_squared_error: 0.0032\n",
      "Epoch 51/125\n",
      "104/104 [==============================] - 0s 4ms/step - loss: 1.2828e-04 - root_mean_squared_error: 0.0113 - val_loss: 1.4708e-05 - val_root_mean_squared_error: 0.0038\n",
      "Epoch 52/125\n",
      "104/104 [==============================] - 0s 4ms/step - loss: 1.3561e-04 - root_mean_squared_error: 0.0116 - val_loss: 4.9467e-05 - val_root_mean_squared_error: 0.0070\n",
      "Epoch 53/125\n",
      "104/104 [==============================] - 0s 4ms/step - loss: 1.5065e-04 - root_mean_squared_error: 0.0123 - val_loss: 1.7556e-05 - val_root_mean_squared_error: 0.0042\n",
      "Epoch 54/125\n",
      "104/104 [==============================] - 0s 4ms/step - loss: 1.6441e-04 - root_mean_squared_error: 0.0128 - val_loss: 1.0364e-05 - val_root_mean_squared_error: 0.0032\n",
      "Epoch 55/125\n",
      "104/104 [==============================] - 0s 4ms/step - loss: 1.4013e-04 - root_mean_squared_error: 0.0118 - val_loss: 1.5864e-05 - val_root_mean_squared_error: 0.0040\n",
      "Epoch 56/125\n",
      "103/104 [============================>.] - ETA: 0s - loss: 1.3685e-04 - root_mean_squared_error: 0.0117"
     ]
    },
    {
     "name": "stderr",
     "output_type": "stream",
     "text": [
      "WARNING:absl:Found untraced functions such as _update_step_xla, lstm_cell_8_layer_call_fn, lstm_cell_8_layer_call_and_return_conditional_losses while saving (showing 3 of 3). These functions will not be directly callable after loading.\n"
     ]
    },
    {
     "name": "stdout",
     "output_type": "stream",
     "text": [
      "INFO:tensorflow:Assets written to: mamfmodel\\assets\n"
     ]
    },
    {
     "name": "stderr",
     "output_type": "stream",
     "text": [
      "INFO:tensorflow:Assets written to: mamfmodel\\assets\n"
     ]
    },
    {
     "name": "stdout",
     "output_type": "stream",
     "text": [
      "104/104 [==============================] - 3s 30ms/step - loss: 1.3709e-04 - root_mean_squared_error: 0.0117 - val_loss: 1.0162e-05 - val_root_mean_squared_error: 0.0032\n",
      "Epoch 57/125\n",
      "104/104 [==============================] - 1s 5ms/step - loss: 1.3296e-04 - root_mean_squared_error: 0.0115 - val_loss: 2.9311e-05 - val_root_mean_squared_error: 0.0054\n",
      "Epoch 58/125\n",
      "104/104 [==============================] - 0s 4ms/step - loss: 1.4655e-04 - root_mean_squared_error: 0.0121 - val_loss: 2.8313e-05 - val_root_mean_squared_error: 0.0053\n",
      "Epoch 59/125\n",
      "104/104 [==============================] - 0s 4ms/step - loss: 1.4464e-04 - root_mean_squared_error: 0.0120 - val_loss: 2.6966e-05 - val_root_mean_squared_error: 0.0052\n",
      "Epoch 60/125\n",
      "104/104 [==============================] - 0s 4ms/step - loss: 1.4670e-04 - root_mean_squared_error: 0.0121 - val_loss: 1.1200e-05 - val_root_mean_squared_error: 0.0033\n",
      "Epoch 61/125\n",
      "103/104 [============================>.] - ETA: 0s - loss: 1.2854e-04 - root_mean_squared_error: 0.0113"
     ]
    },
    {
     "name": "stderr",
     "output_type": "stream",
     "text": [
      "WARNING:absl:Found untraced functions such as _update_step_xla, lstm_cell_8_layer_call_fn, lstm_cell_8_layer_call_and_return_conditional_losses while saving (showing 3 of 3). These functions will not be directly callable after loading.\n"
     ]
    },
    {
     "name": "stdout",
     "output_type": "stream",
     "text": [
      "INFO:tensorflow:Assets written to: mamfmodel\\assets\n"
     ]
    },
    {
     "name": "stderr",
     "output_type": "stream",
     "text": [
      "INFO:tensorflow:Assets written to: mamfmodel\\assets\n"
     ]
    },
    {
     "name": "stdout",
     "output_type": "stream",
     "text": [
      "104/104 [==============================] - 3s 30ms/step - loss: 1.2824e-04 - root_mean_squared_error: 0.0113 - val_loss: 9.9179e-06 - val_root_mean_squared_error: 0.0031\n",
      "Epoch 62/125\n",
      "104/104 [==============================] - 0s 4ms/step - loss: 1.2592e-04 - root_mean_squared_error: 0.0112 - val_loss: 2.9714e-05 - val_root_mean_squared_error: 0.0055\n",
      "Epoch 63/125\n",
      "104/104 [==============================] - 0s 4ms/step - loss: 1.3344e-04 - root_mean_squared_error: 0.0116 - val_loss: 1.3121e-05 - val_root_mean_squared_error: 0.0036\n",
      "Epoch 64/125\n",
      "104/104 [==============================] - 0s 4ms/step - loss: 1.3451e-04 - root_mean_squared_error: 0.0116 - val_loss: 1.3991e-05 - val_root_mean_squared_error: 0.0037\n",
      "Epoch 65/125\n",
      "104/104 [==============================] - 0s 4ms/step - loss: 1.2139e-04 - root_mean_squared_error: 0.0110 - val_loss: 9.9195e-06 - val_root_mean_squared_error: 0.0031\n",
      "Epoch 66/125\n",
      " 93/104 [=========================>....] - ETA: 0s - loss: 1.6201e-04 - root_mean_squared_error: 0.0127"
     ]
    },
    {
     "name": "stderr",
     "output_type": "stream",
     "text": [
      "WARNING:absl:Found untraced functions such as _update_step_xla, lstm_cell_8_layer_call_fn, lstm_cell_8_layer_call_and_return_conditional_losses while saving (showing 3 of 3). These functions will not be directly callable after loading.\n"
     ]
    },
    {
     "name": "stdout",
     "output_type": "stream",
     "text": [
      "INFO:tensorflow:Assets written to: mamfmodel\\assets\n"
     ]
    },
    {
     "name": "stderr",
     "output_type": "stream",
     "text": [
      "INFO:tensorflow:Assets written to: mamfmodel\\assets\n"
     ]
    },
    {
     "name": "stdout",
     "output_type": "stream",
     "text": [
      "104/104 [==============================] - 3s 29ms/step - loss: 1.5535e-04 - root_mean_squared_error: 0.0125 - val_loss: 9.6898e-06 - val_root_mean_squared_error: 0.0031\n",
      "Epoch 67/125\n",
      "104/104 [==============================] - 0s 4ms/step - loss: 1.3759e-04 - root_mean_squared_error: 0.0117 - val_loss: 1.7440e-05 - val_root_mean_squared_error: 0.0042\n",
      "Epoch 68/125\n",
      " 94/104 [==========================>...] - ETA: 0s - loss: 1.3393e-04 - root_mean_squared_error: 0.0116"
     ]
    },
    {
     "name": "stderr",
     "output_type": "stream",
     "text": [
      "WARNING:absl:Found untraced functions such as _update_step_xla, lstm_cell_8_layer_call_fn, lstm_cell_8_layer_call_and_return_conditional_losses while saving (showing 3 of 3). These functions will not be directly callable after loading.\n"
     ]
    },
    {
     "name": "stdout",
     "output_type": "stream",
     "text": [
      "INFO:tensorflow:Assets written to: mamfmodel\\assets\n"
     ]
    },
    {
     "name": "stderr",
     "output_type": "stream",
     "text": [
      "INFO:tensorflow:Assets written to: mamfmodel\\assets\n"
     ]
    },
    {
     "name": "stdout",
     "output_type": "stream",
     "text": [
      "104/104 [==============================] - 6s 60ms/step - loss: 1.3151e-04 - root_mean_squared_error: 0.0115 - val_loss: 9.6289e-06 - val_root_mean_squared_error: 0.0031\n",
      "Epoch 69/125\n",
      "104/104 [==============================] - 0s 4ms/step - loss: 1.3589e-04 - root_mean_squared_error: 0.0117 - val_loss: 2.1569e-05 - val_root_mean_squared_error: 0.0046\n",
      "Epoch 70/125\n",
      "104/104 [==============================] - 0s 4ms/step - loss: 1.4282e-04 - root_mean_squared_error: 0.0120 - val_loss: 9.9955e-06 - val_root_mean_squared_error: 0.0032\n",
      "Epoch 71/125\n",
      "104/104 [==============================] - 0s 4ms/step - loss: 1.2623e-04 - root_mean_squared_error: 0.0112 - val_loss: 1.0080e-05 - val_root_mean_squared_error: 0.0032\n",
      "Epoch 72/125\n",
      "104/104 [==============================] - 0s 4ms/step - loss: 1.3612e-04 - root_mean_squared_error: 0.0117 - val_loss: 1.2739e-05 - val_root_mean_squared_error: 0.0036\n",
      "Epoch 73/125\n",
      " 93/104 [=========================>....] - ETA: 0s - loss: 1.2905e-04 - root_mean_squared_error: 0.0114"
     ]
    },
    {
     "name": "stderr",
     "output_type": "stream",
     "text": [
      "WARNING:absl:Found untraced functions such as _update_step_xla, lstm_cell_8_layer_call_fn, lstm_cell_8_layer_call_and_return_conditional_losses while saving (showing 3 of 3). These functions will not be directly callable after loading.\n"
     ]
    },
    {
     "name": "stdout",
     "output_type": "stream",
     "text": [
      "INFO:tensorflow:Assets written to: mamfmodel\\assets\n"
     ]
    },
    {
     "name": "stderr",
     "output_type": "stream",
     "text": [
      "INFO:tensorflow:Assets written to: mamfmodel\\assets\n"
     ]
    },
    {
     "name": "stdout",
     "output_type": "stream",
     "text": [
      "104/104 [==============================] - 3s 29ms/step - loss: 1.2406e-04 - root_mean_squared_error: 0.0111 - val_loss: 9.5342e-06 - val_root_mean_squared_error: 0.0031\n",
      "Epoch 74/125\n",
      "104/104 [==============================] - 0s 4ms/step - loss: 1.2947e-04 - root_mean_squared_error: 0.0114 - val_loss: 1.0661e-05 - val_root_mean_squared_error: 0.0033\n",
      "Epoch 75/125\n",
      "104/104 [==============================] - 0s 4ms/step - loss: 1.2958e-04 - root_mean_squared_error: 0.0114 - val_loss: 1.1151e-05 - val_root_mean_squared_error: 0.0033\n",
      "Epoch 76/125\n",
      "104/104 [==============================] - 0s 4ms/step - loss: 1.2636e-04 - root_mean_squared_error: 0.0112 - val_loss: 1.5580e-05 - val_root_mean_squared_error: 0.0039\n",
      "Epoch 77/125\n",
      "104/104 [==============================] - 0s 4ms/step - loss: 1.4634e-04 - root_mean_squared_error: 0.0121 - val_loss: 1.1581e-05 - val_root_mean_squared_error: 0.0034\n",
      "Epoch 78/125\n",
      "104/104 [==============================] - 0s 4ms/step - loss: 1.2709e-04 - root_mean_squared_error: 0.0113 - val_loss: 1.0686e-05 - val_root_mean_squared_error: 0.0033\n",
      "Epoch 79/125\n",
      "104/104 [==============================] - 0s 4ms/step - loss: 1.3019e-04 - root_mean_squared_error: 0.0114 - val_loss: 6.6896e-05 - val_root_mean_squared_error: 0.0082\n",
      "Epoch 80/125\n",
      "104/104 [==============================] - 0s 4ms/step - loss: 1.5560e-04 - root_mean_squared_error: 0.0125 - val_loss: 1.3726e-05 - val_root_mean_squared_error: 0.0037\n",
      "Epoch 81/125\n",
      " 94/104 [==========================>...] - ETA: 0s - loss: 1.3803e-04 - root_mean_squared_error: 0.0117"
     ]
    },
    {
     "name": "stderr",
     "output_type": "stream",
     "text": [
      "WARNING:absl:Found untraced functions such as _update_step_xla, lstm_cell_8_layer_call_fn, lstm_cell_8_layer_call_and_return_conditional_losses while saving (showing 3 of 3). These functions will not be directly callable after loading.\n"
     ]
    },
    {
     "name": "stdout",
     "output_type": "stream",
     "text": [
      "INFO:tensorflow:Assets written to: mamfmodel\\assets\n"
     ]
    },
    {
     "name": "stderr",
     "output_type": "stream",
     "text": [
      "INFO:tensorflow:Assets written to: mamfmodel\\assets\n"
     ]
    },
    {
     "name": "stdout",
     "output_type": "stream",
     "text": [
      "104/104 [==============================] - 3s 30ms/step - loss: 1.3413e-04 - root_mean_squared_error: 0.0116 - val_loss: 9.2468e-06 - val_root_mean_squared_error: 0.0030\n",
      "Epoch 82/125\n",
      "104/104 [==============================] - 0s 4ms/step - loss: 1.3310e-04 - root_mean_squared_error: 0.0115 - val_loss: 1.5468e-05 - val_root_mean_squared_error: 0.0039\n",
      "Epoch 83/125\n",
      "104/104 [==============================] - 0s 4ms/step - loss: 1.2531e-04 - root_mean_squared_error: 0.0112 - val_loss: 9.8976e-06 - val_root_mean_squared_error: 0.0031\n",
      "Epoch 84/125\n",
      "104/104 [==============================] - 0s 4ms/step - loss: 1.2868e-04 - root_mean_squared_error: 0.0113 - val_loss: 1.8402e-05 - val_root_mean_squared_error: 0.0043\n",
      "Epoch 85/125\n",
      "104/104 [==============================] - 0s 4ms/step - loss: 1.4215e-04 - root_mean_squared_error: 0.0119 - val_loss: 9.6643e-06 - val_root_mean_squared_error: 0.0031\n",
      "Epoch 86/125\n",
      "104/104 [==============================] - 0s 4ms/step - loss: 1.3551e-04 - root_mean_squared_error: 0.0116 - val_loss: 1.0217e-05 - val_root_mean_squared_error: 0.0032\n",
      "Epoch 87/125\n",
      "104/104 [==============================] - 0s 4ms/step - loss: 1.3450e-04 - root_mean_squared_error: 0.0116 - val_loss: 1.9969e-05 - val_root_mean_squared_error: 0.0045\n",
      "Epoch 88/125\n",
      "104/104 [==============================] - 0s 4ms/step - loss: 1.2606e-04 - root_mean_squared_error: 0.0112 - val_loss: 1.4265e-05 - val_root_mean_squared_error: 0.0038\n",
      "Epoch 89/125\n",
      "104/104 [==============================] - 0s 4ms/step - loss: 1.2919e-04 - root_mean_squared_error: 0.0114 - val_loss: 1.0198e-05 - val_root_mean_squared_error: 0.0032\n",
      "Epoch 90/125\n",
      "104/104 [==============================] - 0s 4ms/step - loss: 1.2602e-04 - root_mean_squared_error: 0.0112 - val_loss: 1.0471e-05 - val_root_mean_squared_error: 0.0032\n",
      "Epoch 91/125\n",
      "104/104 [==============================] - 0s 4ms/step - loss: 1.3165e-04 - root_mean_squared_error: 0.0115 - val_loss: 2.0945e-05 - val_root_mean_squared_error: 0.0046\n",
      "Epoch 92/125\n",
      "104/104 [==============================] - 0s 4ms/step - loss: 1.2042e-04 - root_mean_squared_error: 0.0110 - val_loss: 9.3279e-06 - val_root_mean_squared_error: 0.0031\n",
      "Epoch 93/125\n",
      "104/104 [==============================] - 0s 4ms/step - loss: 1.3798e-04 - root_mean_squared_error: 0.0117 - val_loss: 1.2517e-05 - val_root_mean_squared_error: 0.0035\n",
      "Epoch 94/125\n",
      "104/104 [==============================] - 0s 4ms/step - loss: 1.2459e-04 - root_mean_squared_error: 0.0112 - val_loss: 1.0329e-05 - val_root_mean_squared_error: 0.0032\n",
      "Epoch 95/125\n",
      "104/104 [==============================] - 0s 4ms/step - loss: 1.2622e-04 - root_mean_squared_error: 0.0112 - val_loss: 1.3890e-05 - val_root_mean_squared_error: 0.0037\n",
      "Epoch 96/125\n",
      "104/104 [==============================] - 0s 4ms/step - loss: 1.3084e-04 - root_mean_squared_error: 0.0114 - val_loss: 1.8008e-05 - val_root_mean_squared_error: 0.0042\n",
      "Epoch 97/125\n",
      "104/104 [==============================] - 0s 4ms/step - loss: 1.2169e-04 - root_mean_squared_error: 0.0110 - val_loss: 1.1206e-05 - val_root_mean_squared_error: 0.0033\n",
      "Epoch 98/125\n",
      " 94/104 [==========================>...] - ETA: 0s - loss: 1.3407e-04 - root_mean_squared_error: 0.0116"
     ]
    },
    {
     "name": "stderr",
     "output_type": "stream",
     "text": [
      "WARNING:absl:Found untraced functions such as _update_step_xla, lstm_cell_8_layer_call_fn, lstm_cell_8_layer_call_and_return_conditional_losses while saving (showing 3 of 3). These functions will not be directly callable after loading.\n"
     ]
    },
    {
     "name": "stdout",
     "output_type": "stream",
     "text": [
      "INFO:tensorflow:Assets written to: mamfmodel\\assets\n"
     ]
    },
    {
     "name": "stderr",
     "output_type": "stream",
     "text": [
      "INFO:tensorflow:Assets written to: mamfmodel\\assets\n"
     ]
    },
    {
     "name": "stdout",
     "output_type": "stream",
     "text": [
      "104/104 [==============================] - 3s 29ms/step - loss: 1.3304e-04 - root_mean_squared_error: 0.0115 - val_loss: 9.2462e-06 - val_root_mean_squared_error: 0.0030\n",
      "Epoch 99/125\n",
      "104/104 [==============================] - 0s 4ms/step - loss: 1.5882e-04 - root_mean_squared_error: 0.0126 - val_loss: 9.3526e-06 - val_root_mean_squared_error: 0.0031\n",
      "Epoch 100/125\n",
      "104/104 [==============================] - 0s 4ms/step - loss: 1.1880e-04 - root_mean_squared_error: 0.0109 - val_loss: 2.5133e-05 - val_root_mean_squared_error: 0.0050\n",
      "Epoch 101/125\n",
      "104/104 [==============================] - 0s 4ms/step - loss: 1.3619e-04 - root_mean_squared_error: 0.0117 - val_loss: 3.5054e-05 - val_root_mean_squared_error: 0.0059\n",
      "Epoch 102/125\n",
      "104/104 [==============================] - 0s 4ms/step - loss: 1.2908e-04 - root_mean_squared_error: 0.0114 - val_loss: 2.0320e-05 - val_root_mean_squared_error: 0.0045\n",
      "Epoch 103/125\n",
      "104/104 [==============================] - 0s 4ms/step - loss: 1.3040e-04 - root_mean_squared_error: 0.0114 - val_loss: 1.0214e-05 - val_root_mean_squared_error: 0.0032\n",
      "Epoch 104/125\n",
      "104/104 [==============================] - 0s 4ms/step - loss: 1.2158e-04 - root_mean_squared_error: 0.0110 - val_loss: 2.3664e-05 - val_root_mean_squared_error: 0.0049\n",
      "Epoch 105/125\n",
      "104/104 [==============================] - 0s 4ms/step - loss: 1.2727e-04 - root_mean_squared_error: 0.0113 - val_loss: 6.6952e-05 - val_root_mean_squared_error: 0.0082\n",
      "Epoch 106/125\n",
      "104/104 [==============================] - 0s 4ms/step - loss: 1.3186e-04 - root_mean_squared_error: 0.0115 - val_loss: 1.1729e-05 - val_root_mean_squared_error: 0.0034\n",
      "Epoch 107/125\n",
      "104/104 [==============================] - 0s 4ms/step - loss: 1.3831e-04 - root_mean_squared_error: 0.0118 - val_loss: 1.7289e-05 - val_root_mean_squared_error: 0.0042\n",
      "Epoch 108/125\n",
      "104/104 [==============================] - 0s 4ms/step - loss: 1.3183e-04 - root_mean_squared_error: 0.0115 - val_loss: 9.4437e-06 - val_root_mean_squared_error: 0.0031\n",
      "Epoch 109/125\n",
      "104/104 [==============================] - 0s 4ms/step - loss: 1.2542e-04 - root_mean_squared_error: 0.0112 - val_loss: 1.7257e-05 - val_root_mean_squared_error: 0.0042\n",
      "Epoch 110/125\n",
      "104/104 [==============================] - 0s 4ms/step - loss: 1.2951e-04 - root_mean_squared_error: 0.0114 - val_loss: 1.9213e-05 - val_root_mean_squared_error: 0.0044\n",
      "Epoch 111/125\n",
      "104/104 [==============================] - 0s 4ms/step - loss: 1.2607e-04 - root_mean_squared_error: 0.0112 - val_loss: 9.6158e-06 - val_root_mean_squared_error: 0.0031\n",
      "Epoch 112/125\n",
      "104/104 [==============================] - 0s 4ms/step - loss: 1.2090e-04 - root_mean_squared_error: 0.0110 - val_loss: 1.4202e-05 - val_root_mean_squared_error: 0.0038\n",
      "Epoch 113/125\n",
      "104/104 [==============================] - 0s 4ms/step - loss: 1.2594e-04 - root_mean_squared_error: 0.0112 - val_loss: 2.0480e-05 - val_root_mean_squared_error: 0.0045\n",
      "Epoch 114/125\n",
      "104/104 [==============================] - 0s 4ms/step - loss: 1.3688e-04 - root_mean_squared_error: 0.0117 - val_loss: 1.3314e-05 - val_root_mean_squared_error: 0.0036\n",
      "Epoch 115/125\n",
      "104/104 [==============================] - 0s 4ms/step - loss: 1.3430e-04 - root_mean_squared_error: 0.0116 - val_loss: 1.0865e-05 - val_root_mean_squared_error: 0.0033\n",
      "Epoch 116/125\n",
      "104/104 [==============================] - 0s 4ms/step - loss: 1.2480e-04 - root_mean_squared_error: 0.0112 - val_loss: 1.8379e-05 - val_root_mean_squared_error: 0.0043\n",
      "Epoch 117/125\n",
      "104/104 [==============================] - 0s 4ms/step - loss: 1.2656e-04 - root_mean_squared_error: 0.0112 - val_loss: 9.4706e-06 - val_root_mean_squared_error: 0.0031\n",
      "Epoch 118/125\n",
      "104/104 [==============================] - 0s 4ms/step - loss: 1.3003e-04 - root_mean_squared_error: 0.0114 - val_loss: 2.0336e-05 - val_root_mean_squared_error: 0.0045\n",
      "Epoch 119/125\n",
      "104/104 [==============================] - 0s 4ms/step - loss: 1.4393e-04 - root_mean_squared_error: 0.0120 - val_loss: 1.4940e-05 - val_root_mean_squared_error: 0.0039\n",
      "Epoch 120/125\n",
      "104/104 [==============================] - 0s 4ms/step - loss: 1.2581e-04 - root_mean_squared_error: 0.0112 - val_loss: 1.7834e-05 - val_root_mean_squared_error: 0.0042\n",
      "Epoch 121/125\n",
      "104/104 [==============================] - 0s 4ms/step - loss: 1.2534e-04 - root_mean_squared_error: 0.0112 - val_loss: 1.8154e-05 - val_root_mean_squared_error: 0.0043\n",
      "Epoch 122/125\n",
      "104/104 [==============================] - 0s 4ms/step - loss: 1.2661e-04 - root_mean_squared_error: 0.0113 - val_loss: 9.3305e-06 - val_root_mean_squared_error: 0.0031\n",
      "Epoch 123/125\n",
      "104/104 [==============================] - 0s 4ms/step - loss: 1.2201e-04 - root_mean_squared_error: 0.0110 - val_loss: 1.1694e-05 - val_root_mean_squared_error: 0.0034\n",
      "Epoch 124/125\n",
      "104/104 [==============================] - 0s 4ms/step - loss: 1.1724e-04 - root_mean_squared_error: 0.0108 - val_loss: 1.2139e-05 - val_root_mean_squared_error: 0.0035\n",
      "Epoch 125/125\n",
      "104/104 [==============================] - 0s 4ms/step - loss: 1.2812e-04 - root_mean_squared_error: 0.0113 - val_loss: 2.1932e-05 - val_root_mean_squared_error: 0.0047\n"
     ]
    },
    {
     "data": {
      "text/plain": [
       "<keras.callbacks.History at 0x2245d530310>"
      ]
     },
     "execution_count": 198,
     "metadata": {},
     "output_type": "execute_result"
    }
   ],
   "source": [
    "cp = tf.keras.callbacks.ModelCheckpoint('mamfmodel/', save_best_only=True)\n",
    "mamfmodel.compile(loss='mean_squared_error', optimizer='adam',metrics= tf.keras.metrics.RootMeanSquaredError())\n",
    "mamfmodel.fit(x_train, y_train, validation_data=(x_valid, y_valid), epochs=125, callbacks=[cp])"
   ]
  },
  {
   "cell_type": "code",
   "execution_count": 199,
   "metadata": {},
   "outputs": [
    {
     "name": "stdout",
     "output_type": "stream",
     "text": [
      "6/6 [==============================] - 0s 2ms/step\n"
     ]
    },
    {
     "data": {
      "image/png": "[encoded data removed]",
      "text/plain": [
       "<Figure size 640x480 with 1 Axes>"
      ]
     },
     "metadata": {},
     "output_type": "display_data"
    }
   ],
   "source": [
    "y_pred = mamfmodel.predict(x_test)\n",
    "y_predict = scaler.inverse_transform(y_pred)\n",
    "test_predict = scaler.inverse_transform(y_test)\n",
    "\n",
    "#print(y_pred)\n",
    "#print(x_plt_test)\n",
    "plt.plot(cast_time_data(x_plt_test),test_predict)\n",
    "plt.plot(cast_time_data(x_plt_test),y_predict)\n",
    "plt.show()"
   ]
  },
  {
   "cell_type": "code",
   "execution_count": 206,
   "metadata": {},
   "outputs": [
    {
     "name": "stdout",
     "output_type": "stream",
     "text": [
      "116/116 [==============================] - 0s 1ms/step\n",
      "(3681,) (3681, 1)\n"
     ]
    },
    {
     "data": {
      "image/png": "[encoded data removed]",
      "text/plain": [
       "<Figure size 640x480 with 1 Axes>"
      ]
     },
     "metadata": {},
     "output_type": "display_data"
    }
   ],
   "source": [
    "y_pred = mamfmodel.predict(x_series_def)\n",
    "y_predict = scaler.inverse_transform(y_pred)\n",
    "x_plot = x[10:]\n",
    "print(x_plot.shape, y_pred.shape)\n",
    "plt.plot(cast_time_data(x),y)\n",
    "plt.plot(cast_time_data(x_plot),y_predict)\n",
    "plt.show()"
   ]
  },
  {
   "cell_type": "code",
   "execution_count": 208,
   "metadata": {},
   "outputs": [
    {
     "name": "stdout",
     "output_type": "stream",
     "text": [
      "1/1 [==============================] - 0s 34ms/step\n",
      "1/1 [==============================] - 0s 29ms/step\n",
      "1/1 [==============================] - 0s 26ms/step\n",
      "1/1 [==============================] - 0s 27ms/step\n",
      "1/1 [==============================] - 0s 29ms/step\n",
      "1/1 [==============================] - 0s 25ms/step\n",
      "1/1 [==============================] - 0s 27ms/step\n",
      "1/1 [==============================] - 0s 26ms/step\n",
      "1/1 [==============================] - 0s 28ms/step\n",
      "1/1 [==============================] - 0s 27ms/step\n",
      "1/1 [==============================] - 0s 26ms/step\n",
      "1/1 [==============================] - 0s 27ms/step\n",
      "2023-01-09 08:31:55\n",
      "[[0.02845314]\n",
      " [0.03213616]\n",
      " [0.03589494]\n",
      " [0.03964426]\n",
      " [0.04333537]\n",
      " [0.04694602]\n",
      " [0.05047103]\n",
      " [0.05391541]\n",
      " [0.05728669]\n",
      " [0.0605901 ]\n",
      " [0.06383374]\n",
      " [0.06701998]]\n"
     ]
    },
    {
     "data": {
      "text/plain": [
       "[<matplotlib.lines.Line2D at 0x2243fece710>]"
      ]
     },
     "execution_count": 208,
     "metadata": {},
     "output_type": "execute_result"
    },
    {
     "data": {
      "image/png": "[encoded data removed]",
      "text/plain": [
       "<Figure size 640x480 with 1 Axes>"
      ]
     },
     "metadata": {},
     "output_type": "display_data"
    }
   ],
   "source": [
    "def bracket_list(list):\n",
    "    new_list = []\n",
    "    for value in range(len(list)):\n",
    "        new_value = [list[value]]\n",
    "        new_list.append(new_value)\n",
    "    return np.array([new_list])\n",
    "\n",
    "def predict_next_days(model_ker : tf.keras.models, data , days = 1, hours = 4):\n",
    "    new_data = data\n",
    "    last_days = []\n",
    "    last_series = np.array([data[-1]])\n",
    "    '''\n",
    "    pred = mamfmodel.predict(last_series).flatten()\n",
    "    new_pred_series = np.delete(last_series, 0)\n",
    "    new_pred_series = np.append(new_pred_series, pred)\n",
    "    new_pred_series = bracket_list(new_pred_series)\n",
    "    last_series = new_pred_series\n",
    "    '''\n",
    "    for i in range(days*hours):\n",
    "        pred = mamfmodel.predict(last_series).flatten()\n",
    "        new_pred_series = np.delete(last_series, 0)\n",
    "        new_pred_series = np.append(new_pred_series, pred)\n",
    "        new_pred_series = bracket_list(new_pred_series)\n",
    "        last_series = new_pred_series\n",
    "        last_days.append(pred)\n",
    "    return np.array(last_days)\n",
    "\n",
    "def add_days(x_ser, days = 1, hours = 4):\n",
    "    new_days = []\n",
    "    new_day = x_ser[-1] #+ 4*60*60*1000\n",
    "    #range_h = int(24/hours)\n",
    "    for i in range(days*hours):\n",
    "        new_days.append(new_day)\n",
    "        new_day += 4*60*60*1000\n",
    "    return np.array(new_days)\n",
    "\n",
    "\n",
    "#print(y_close.shape)\n",
    "x_next_days = add_days(x, days = 3)\n",
    "y_next_pred = predict_next_days(mamfmodel, x_series_def , 3)\n",
    "#new_time = int(str(time_unix)[0:10])\n",
    "#unixToDatetime = datetime.fromtimestamp(new_time).strftime('%Y-%m-%d %H:%M:%S')\n",
    "last_day = x_next_days[-1]\n",
    "last_day = int(str(last_day)[0:10])\n",
    "last_date = datetime.fromtimestamp(last_day).strftime('%Y-%m-%d %H:%M:%S')\n",
    "print(last_date)\n",
    "print(y_next_pred)\n",
    "plt.plot(cast_time_data(x_next_days),scaler.inverse_transform(y_next_pred))"
   ]
  }
 ],
 "metadata": {
  "kernelspec": {
   "display_name": "Python 3",
   "language": "python",
   "name": "python3"
  },
  "language_info": {
   "codemirror_mode": {
    "name": "ipython",
    "version": 3
   },
   "file_extension": ".py",
   "mimetype": "text/x-python",
   "name": "python",
   "nbconvert_exporter": "python",
   "pygments_lexer": "ipython3",
   "version": "3.10.9"
  },
  "orig_nbformat": 4,
  "vscode": {
   "interpreter": {
    "hash": "f027560aaa5d1370abb9f19c7c71f97861b7f9ee8178bcc1c644ee12e3f51f57"
   }
  }
 },
 "nbformat": 4,
 "nbformat_minor": 2
}
