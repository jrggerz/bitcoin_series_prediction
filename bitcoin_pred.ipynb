{
 "cells": [
  {
   "cell_type": "code",
   "execution_count": 2,
   "metadata": {},
   "outputs": [],
   "source": [
    "#import libraries\n",
    "import requests, zipfile\n",
    "import pandas as pd\n",
    "import io\n",
    "import os\n",
    "import numpy as np \n",
    "import tensorflow as tf\n",
    "from matplotlib import pyplot as plt\n",
    "from io import StringIO\n",
    "import itertools as it\n",
    "from datetime import datetime\n",
    "import sklearn as sklearn\n",
    "np.set_printoptions(threshold=sys.maxsize)\n",
    "from sklearn.metrics import mean_squared_error, mean_absolute_error, explained_variance_score, r2_score \n",
    "from sklearn.metrics import mean_poisson_deviance, mean_gamma_deviance, accuracy_score\n",
    "from sklearn.preprocessing import MinMaxScaler"
   ]
  },
  {
   "cell_type": "code",
   "execution_count": 3,
   "metadata": {},
   "outputs": [
    {
     "name": "stdout",
     "output_type": "stream",
     "text": [
      "https://data.binance.vision/data/spot/daily/klines/BTCBUSD/4h/BTCBUSD-4h-\n"
     ]
    }
   ],
   "source": [
    "#declare global variables \n",
    "daily_monthly = 'daily'\n",
    "time_lapse = '4h'\n",
    "bitcoin_par = 'BTCBUSD'\n",
    "year_2022 = '2022-'\n",
    "year_2023 = '2023-'\n",
    "url = 'https://data.binance.vision/data/spot/'+daily_monthly+'/klines/'+bitcoin_par+'/'+time_lapse+'/'+bitcoin_par+'-'+time_lapse+'-'\n",
    "zip = '.zip'\n",
    "\n",
    "print(url)"
   ]
  },
  {
   "cell_type": "code",
   "execution_count": 173,
   "metadata": {},
   "outputs": [
    {
     "name": "stdout",
     "output_type": "stream",
     "text": [
      "BTCBUSD-4h-2021-03-01.csv\n",
      "BTCBUSD-4h-2021-03-02.csv\n",
      "BTCBUSD-4h-2021-03-03.csv\n",
      "BTCBUSD-4h-2021-03-04.csv\n",
      "BTCBUSD-4h-2021-03-05.csv\n",
      "BTCBUSD-4h-2021-03-06.csv\n",
      "BTCBUSD-4h-2021-03-07.csv\n",
      "BTCBUSD-4h-2021-03-08.csv\n",
      "BTCBUSD-4h-2021-03-09.csv\n",
      "BTCBUSD-4h-2021-03-10.csv\n",
      "BTCBUSD-4h-2021-03-11.csv\n",
      "BTCBUSD-4h-2021-03-12.csv\n",
      "BTCBUSD-4h-2021-03-13.csv\n",
      "BTCBUSD-4h-2021-03-14.csv\n",
      "BTCBUSD-4h-2021-03-15.csv\n",
      "BTCBUSD-4h-2021-03-16.csv\n",
      "BTCBUSD-4h-2021-03-17.csv\n",
      "BTCBUSD-4h-2021-03-18.csv\n",
      "BTCBUSD-4h-2021-03-19.csv\n",
      "BTCBUSD-4h-2021-03-20.csv\n",
      "BTCBUSD-4h-2021-03-21.csv\n",
      "BTCBUSD-4h-2021-03-22.csv\n",
      "BTCBUSD-4h-2021-03-23.csv\n",
      "BTCBUSD-4h-2021-03-24.csv\n",
      "BTCBUSD-4h-2021-03-25.csv\n",
      "BTCBUSD-4h-2021-03-26.csv\n",
      "BTCBUSD-4h-2021-03-27.csv\n",
      "BTCBUSD-4h-2021-03-28.csv\n",
      "BTCBUSD-4h-2021-03-29.csv\n",
      "BTCBUSD-4h-2021-03-30.csv\n",
      "BTCBUSD-4h-2021-03-31.csv\n",
      "BTCBUSD-4h-2021-04-01.csv\n",
      "BTCBUSD-4h-2021-04-02.csv\n",
      "BTCBUSD-4h-2021-04-03.csv\n",
      "BTCBUSD-4h-2021-04-04.csv\n",
      "BTCBUSD-4h-2021-04-05.csv\n",
      "BTCBUSD-4h-2021-04-06.csv\n",
      "BTCBUSD-4h-2021-04-07.csv\n",
      "BTCBUSD-4h-2021-04-08.csv\n",
      "BTCBUSD-4h-2021-04-09.csv\n",
      "BTCBUSD-4h-2021-04-10.csv\n",
      "BTCBUSD-4h-2021-04-11.csv\n",
      "BTCBUSD-4h-2021-04-12.csv\n",
      "BTCBUSD-4h-2021-04-13.csv\n",
      "BTCBUSD-4h-2021-04-14.csv\n",
      "BTCBUSD-4h-2021-04-15.csv\n",
      "BTCBUSD-4h-2021-04-16.csv\n",
      "BTCBUSD-4h-2021-04-17.csv\n",
      "BTCBUSD-4h-2021-04-18.csv\n",
      "BTCBUSD-4h-2021-04-19.csv\n",
      "BTCBUSD-4h-2021-04-20.csv\n",
      "BTCBUSD-4h-2021-04-21.csv\n",
      "BTCBUSD-4h-2021-04-22.csv\n",
      "BTCBUSD-4h-2021-04-23.csv\n",
      "BTCBUSD-4h-2021-04-24.csv\n",
      "BTCBUSD-4h-2021-04-25.csv\n",
      "BTCBUSD-4h-2021-04-26.csv\n",
      "BTCBUSD-4h-2021-04-27.csv\n",
      "BTCBUSD-4h-2021-04-28.csv\n",
      "BTCBUSD-4h-2021-04-29.csv\n",
      "BTCBUSD-4h-2021-04-30.csv\n",
      "BTCBUSD-4h-2021-05-01.csv\n",
      "BTCBUSD-4h-2021-05-02.csv\n",
      "BTCBUSD-4h-2021-05-03.csv\n",
      "BTCBUSD-4h-2021-05-04.csv\n",
      "BTCBUSD-4h-2021-05-05.csv\n",
      "BTCBUSD-4h-2021-05-06.csv\n",
      "BTCBUSD-4h-2021-05-07.csv\n",
      "BTCBUSD-4h-2021-05-08.csv\n",
      "BTCBUSD-4h-2021-05-09.csv\n",
      "BTCBUSD-4h-2021-05-10.csv\n",
      "BTCBUSD-4h-2021-05-11.csv\n",
      "BTCBUSD-4h-2021-05-12.csv\n",
      "BTCBUSD-4h-2021-05-13.csv\n",
      "BTCBUSD-4h-2021-05-14.csv\n",
      "BTCBUSD-4h-2021-05-15.csv\n",
      "BTCBUSD-4h-2021-05-16.csv\n",
      "BTCBUSD-4h-2021-05-17.csv\n",
      "BTCBUSD-4h-2021-05-18.csv\n",
      "BTCBUSD-4h-2021-05-19.csv\n",
      "BTCBUSD-4h-2021-05-20.csv\n",
      "BTCBUSD-4h-2021-05-21.csv\n",
      "BTCBUSD-4h-2021-05-22.csv\n",
      "BTCBUSD-4h-2021-05-23.csv\n",
      "BTCBUSD-4h-2021-05-24.csv\n",
      "BTCBUSD-4h-2021-05-25.csv\n",
      "BTCBUSD-4h-2021-05-26.csv\n",
      "BTCBUSD-4h-2021-05-27.csv\n",
      "BTCBUSD-4h-2021-05-28.csv\n",
      "BTCBUSD-4h-2021-05-29.csv\n",
      "BTCBUSD-4h-2021-05-30.csv\n",
      "BTCBUSD-4h-2021-05-31.csv\n",
      "BTCBUSD-4h-2021-06-01.csv\n",
      "BTCBUSD-4h-2021-06-02.csv\n",
      "BTCBUSD-4h-2021-06-03.csv\n",
      "BTCBUSD-4h-2021-06-04.csv\n",
      "BTCBUSD-4h-2021-06-05.csv\n",
      "BTCBUSD-4h-2021-06-06.csv\n",
      "BTCBUSD-4h-2021-06-07.csv\n",
      "BTCBUSD-4h-2021-06-08.csv\n",
      "BTCBUSD-4h-2021-06-09.csv\n",
      "BTCBUSD-4h-2021-06-10.csv\n",
      "BTCBUSD-4h-2021-06-11.csv\n",
      "BTCBUSD-4h-2021-06-12.csv\n",
      "BTCBUSD-4h-2021-06-13.csv\n",
      "BTCBUSD-4h-2021-06-14.csv\n",
      "BTCBUSD-4h-2021-06-15.csv\n",
      "BTCBUSD-4h-2021-06-16.csv\n",
      "BTCBUSD-4h-2021-06-17.csv\n",
      "BTCBUSD-4h-2021-06-18.csv\n",
      "BTCBUSD-4h-2021-06-19.csv\n",
      "BTCBUSD-4h-2021-06-20.csv\n",
      "BTCBUSD-4h-2021-06-21.csv\n",
      "BTCBUSD-4h-2021-06-22.csv\n",
      "BTCBUSD-4h-2021-06-23.csv\n",
      "BTCBUSD-4h-2021-06-24.csv\n",
      "BTCBUSD-4h-2021-06-25.csv\n",
      "BTCBUSD-4h-2021-06-26.csv\n",
      "BTCBUSD-4h-2021-06-27.csv\n",
      "BTCBUSD-4h-2021-06-28.csv\n",
      "BTCBUSD-4h-2021-06-29.csv\n",
      "BTCBUSD-4h-2021-06-30.csv\n",
      "BTCBUSD-4h-2021-07-01.csv\n",
      "BTCBUSD-4h-2021-07-02.csv\n",
      "BTCBUSD-4h-2021-07-03.csv\n",
      "BTCBUSD-4h-2021-07-04.csv\n",
      "BTCBUSD-4h-2021-07-05.csv\n",
      "BTCBUSD-4h-2021-07-06.csv\n",
      "BTCBUSD-4h-2021-07-07.csv\n",
      "BTCBUSD-4h-2021-07-08.csv\n",
      "BTCBUSD-4h-2021-07-09.csv\n",
      "BTCBUSD-4h-2021-07-10.csv\n",
      "BTCBUSD-4h-2021-07-11.csv\n",
      "BTCBUSD-4h-2021-07-12.csv\n",
      "BTCBUSD-4h-2021-07-13.csv\n",
      "BTCBUSD-4h-2021-07-14.csv\n",
      "BTCBUSD-4h-2021-07-15.csv\n",
      "BTCBUSD-4h-2021-07-16.csv\n",
      "BTCBUSD-4h-2021-07-17.csv\n",
      "BTCBUSD-4h-2021-07-18.csv\n",
      "BTCBUSD-4h-2021-07-19.csv\n",
      "BTCBUSD-4h-2021-07-20.csv\n",
      "BTCBUSD-4h-2021-07-21.csv\n",
      "BTCBUSD-4h-2021-07-22.csv\n",
      "BTCBUSD-4h-2021-07-23.csv\n",
      "BTCBUSD-4h-2021-07-24.csv\n",
      "BTCBUSD-4h-2021-07-25.csv\n",
      "BTCBUSD-4h-2021-07-26.csv\n",
      "BTCBUSD-4h-2021-07-27.csv\n",
      "BTCBUSD-4h-2021-07-28.csv\n",
      "BTCBUSD-4h-2021-07-29.csv\n",
      "BTCBUSD-4h-2021-07-30.csv\n",
      "BTCBUSD-4h-2021-07-31.csv\n",
      "BTCBUSD-4h-2021-08-01.csv\n",
      "BTCBUSD-4h-2021-08-02.csv\n",
      "BTCBUSD-4h-2021-08-03.csv\n",
      "BTCBUSD-4h-2021-08-04.csv\n",
      "BTCBUSD-4h-2021-08-05.csv\n",
      "BTCBUSD-4h-2021-08-06.csv\n",
      "BTCBUSD-4h-2021-08-07.csv\n",
      "BTCBUSD-4h-2021-08-08.csv\n",
      "BTCBUSD-4h-2021-08-09.csv\n",
      "BTCBUSD-4h-2021-08-10.csv\n",
      "BTCBUSD-4h-2021-08-11.csv\n",
      "BTCBUSD-4h-2021-08-12.csv\n",
      "BTCBUSD-4h-2021-08-13.csv\n",
      "BTCBUSD-4h-2021-08-14.csv\n",
      "BTCBUSD-4h-2021-08-15.csv\n",
      "BTCBUSD-4h-2021-08-16.csv\n",
      "BTCBUSD-4h-2021-08-17.csv\n",
      "BTCBUSD-4h-2021-08-18.csv\n",
      "BTCBUSD-4h-2021-08-19.csv\n",
      "BTCBUSD-4h-2021-08-20.csv\n",
      "BTCBUSD-4h-2021-08-21.csv\n",
      "BTCBUSD-4h-2021-08-22.csv\n",
      "BTCBUSD-4h-2021-08-23.csv\n",
      "BTCBUSD-4h-2021-08-24.csv\n",
      "BTCBUSD-4h-2021-08-25.csv\n",
      "BTCBUSD-4h-2021-08-26.csv\n",
      "BTCBUSD-4h-2021-08-27.csv\n",
      "BTCBUSD-4h-2021-08-28.csv\n",
      "BTCBUSD-4h-2021-08-29.csv\n",
      "BTCBUSD-4h-2021-08-30.csv\n",
      "BTCBUSD-4h-2021-08-31.csv\n",
      "BTCBUSD-4h-2021-09-01.csv\n",
      "BTCBUSD-4h-2021-09-02.csv\n",
      "BTCBUSD-4h-2021-09-03.csv\n",
      "BTCBUSD-4h-2021-09-04.csv\n",
      "BTCBUSD-4h-2021-09-05.csv\n",
      "BTCBUSD-4h-2021-09-06.csv\n",
      "BTCBUSD-4h-2021-09-07.csv\n",
      "BTCBUSD-4h-2021-09-08.csv\n",
      "BTCBUSD-4h-2021-09-09.csv\n",
      "BTCBUSD-4h-2021-09-10.csv\n",
      "BTCBUSD-4h-2021-09-11.csv\n",
      "BTCBUSD-4h-2021-09-12.csv\n",
      "BTCBUSD-4h-2021-09-13.csv\n",
      "BTCBUSD-4h-2021-09-14.csv\n",
      "BTCBUSD-4h-2021-09-15.csv\n",
      "BTCBUSD-4h-2021-09-16.csv\n",
      "BTCBUSD-4h-2021-09-17.csv\n",
      "BTCBUSD-4h-2021-09-18.csv\n",
      "BTCBUSD-4h-2021-09-19.csv\n",
      "BTCBUSD-4h-2021-09-20.csv\n",
      "BTCBUSD-4h-2021-09-21.csv\n",
      "BTCBUSD-4h-2021-09-22.csv\n",
      "BTCBUSD-4h-2021-09-23.csv\n",
      "BTCBUSD-4h-2021-09-24.csv\n",
      "BTCBUSD-4h-2021-09-25.csv\n",
      "BTCBUSD-4h-2021-09-26.csv\n",
      "BTCBUSD-4h-2021-09-27.csv\n",
      "BTCBUSD-4h-2021-09-28.csv\n",
      "BTCBUSD-4h-2021-09-29.csv\n",
      "BTCBUSD-4h-2021-09-30.csv\n",
      "BTCBUSD-4h-2021-10-01.csv\n",
      "BTCBUSD-4h-2021-10-02.csv\n",
      "BTCBUSD-4h-2021-10-03.csv\n",
      "BTCBUSD-4h-2021-10-04.csv\n",
      "BTCBUSD-4h-2021-10-05.csv\n",
      "BTCBUSD-4h-2021-10-06.csv\n",
      "BTCBUSD-4h-2021-10-07.csv\n",
      "BTCBUSD-4h-2021-10-08.csv\n",
      "BTCBUSD-4h-2021-10-09.csv\n",
      "BTCBUSD-4h-2021-10-10.csv\n",
      "BTCBUSD-4h-2021-10-11.csv\n",
      "BTCBUSD-4h-2021-10-12.csv\n",
      "BTCBUSD-4h-2021-10-13.csv\n",
      "BTCBUSD-4h-2021-10-14.csv\n",
      "BTCBUSD-4h-2021-10-15.csv\n",
      "BTCBUSD-4h-2021-10-16.csv\n",
      "BTCBUSD-4h-2021-10-17.csv\n",
      "BTCBUSD-4h-2021-10-18.csv\n",
      "BTCBUSD-4h-2021-10-19.csv\n",
      "BTCBUSD-4h-2021-10-20.csv\n",
      "BTCBUSD-4h-2021-10-21.csv\n",
      "BTCBUSD-4h-2021-10-22.csv\n",
      "BTCBUSD-4h-2021-10-23.csv\n",
      "BTCBUSD-4h-2021-10-24.csv\n",
      "BTCBUSD-4h-2021-10-25.csv\n",
      "BTCBUSD-4h-2021-10-26.csv\n",
      "BTCBUSD-4h-2021-10-27.csv\n",
      "BTCBUSD-4h-2021-10-28.csv\n",
      "BTCBUSD-4h-2021-10-29.csv\n",
      "BTCBUSD-4h-2021-10-30.csv\n",
      "BTCBUSD-4h-2021-10-31.csv\n",
      "BTCBUSD-4h-2021-11-01.csv\n",
      "BTCBUSD-4h-2021-11-02.csv\n",
      "BTCBUSD-4h-2021-11-03.csv\n",
      "BTCBUSD-4h-2021-11-04.csv\n",
      "BTCBUSD-4h-2021-11-05.csv\n",
      "BTCBUSD-4h-2021-11-06.csv\n",
      "BTCBUSD-4h-2021-11-07.csv\n",
      "BTCBUSD-4h-2021-11-08.csv\n",
      "BTCBUSD-4h-2021-11-09.csv\n",
      "BTCBUSD-4h-2021-11-10.csv\n",
      "BTCBUSD-4h-2021-11-11.csv\n",
      "BTCBUSD-4h-2021-11-12.csv\n",
      "BTCBUSD-4h-2021-11-13.csv\n",
      "BTCBUSD-4h-2021-11-14.csv\n",
      "BTCBUSD-4h-2021-11-15.csv\n",
      "BTCBUSD-4h-2021-11-16.csv\n",
      "BTCBUSD-4h-2021-11-17.csv\n",
      "BTCBUSD-4h-2021-11-18.csv\n",
      "BTCBUSD-4h-2021-11-19.csv\n",
      "BTCBUSD-4h-2021-11-20.csv\n",
      "BTCBUSD-4h-2021-11-21.csv\n",
      "BTCBUSD-4h-2021-11-22.csv\n",
      "BTCBUSD-4h-2021-11-23.csv\n",
      "BTCBUSD-4h-2021-11-24.csv\n",
      "BTCBUSD-4h-2021-11-25.csv\n",
      "BTCBUSD-4h-2021-11-26.csv\n",
      "BTCBUSD-4h-2021-11-27.csv\n",
      "BTCBUSD-4h-2021-11-28.csv\n",
      "BTCBUSD-4h-2021-11-29.csv\n",
      "BTCBUSD-4h-2021-11-30.csv\n",
      "BTCBUSD-4h-2021-12-01.csv\n",
      "BTCBUSD-4h-2021-12-02.csv\n",
      "BTCBUSD-4h-2021-12-03.csv\n",
      "BTCBUSD-4h-2021-12-04.csv\n",
      "BTCBUSD-4h-2021-12-05.csv\n",
      "BTCBUSD-4h-2021-12-06.csv\n",
      "BTCBUSD-4h-2021-12-07.csv\n",
      "BTCBUSD-4h-2021-12-08.csv\n",
      "BTCBUSD-4h-2021-12-09.csv\n",
      "BTCBUSD-4h-2021-12-10.csv\n",
      "BTCBUSD-4h-2021-12-11.csv\n",
      "BTCBUSD-4h-2021-12-12.csv\n",
      "BTCBUSD-4h-2021-12-13.csv\n",
      "BTCBUSD-4h-2021-12-14.csv\n",
      "BTCBUSD-4h-2021-12-15.csv\n",
      "BTCBUSD-4h-2021-12-16.csv\n",
      "BTCBUSD-4h-2021-12-17.csv\n",
      "BTCBUSD-4h-2021-12-18.csv\n",
      "BTCBUSD-4h-2021-12-19.csv\n",
      "BTCBUSD-4h-2021-12-20.csv\n",
      "BTCBUSD-4h-2021-12-21.csv\n",
      "BTCBUSD-4h-2021-12-22.csv\n",
      "BTCBUSD-4h-2021-12-23.csv\n",
      "BTCBUSD-4h-2021-12-24.csv\n",
      "BTCBUSD-4h-2021-12-25.csv\n",
      "BTCBUSD-4h-2021-12-26.csv\n",
      "BTCBUSD-4h-2021-12-27.csv\n",
      "BTCBUSD-4h-2021-12-28.csv\n",
      "BTCBUSD-4h-2021-12-29.csv\n",
      "BTCBUSD-4h-2021-12-30.csv\n",
      "BTCBUSD-4h-2021-12-31.csv\n",
      "BTCBUSD-4h-2022-03-01.csv\n",
      "BTCBUSD-4h-2022-03-02.csv\n",
      "BTCBUSD-4h-2022-03-03.csv\n",
      "BTCBUSD-4h-2022-03-04.csv\n",
      "BTCBUSD-4h-2022-03-05.csv\n",
      "BTCBUSD-4h-2022-03-06.csv\n",
      "BTCBUSD-4h-2022-03-07.csv\n",
      "BTCBUSD-4h-2022-03-08.csv\n",
      "BTCBUSD-4h-2022-03-09.csv\n",
      "BTCBUSD-4h-2022-03-10.csv\n",
      "BTCBUSD-4h-2022-03-11.csv\n",
      "BTCBUSD-4h-2022-03-12.csv\n",
      "BTCBUSD-4h-2022-03-13.csv\n",
      "BTCBUSD-4h-2022-03-14.csv\n",
      "BTCBUSD-4h-2022-03-15.csv\n",
      "BTCBUSD-4h-2022-03-16.csv\n",
      "BTCBUSD-4h-2022-03-17.csv\n",
      "BTCBUSD-4h-2022-03-18.csv\n",
      "BTCBUSD-4h-2022-03-19.csv\n",
      "BTCBUSD-4h-2022-03-20.csv\n",
      "BTCBUSD-4h-2022-03-21.csv\n",
      "BTCBUSD-4h-2022-03-22.csv\n",
      "BTCBUSD-4h-2022-03-23.csv\n",
      "BTCBUSD-4h-2022-03-24.csv\n",
      "BTCBUSD-4h-2022-03-25.csv\n",
      "BTCBUSD-4h-2022-03-26.csv\n",
      "BTCBUSD-4h-2022-03-27.csv\n",
      "BTCBUSD-4h-2022-03-28.csv\n",
      "BTCBUSD-4h-2022-03-29.csv\n",
      "BTCBUSD-4h-2022-03-30.csv\n",
      "BTCBUSD-4h-2022-03-31.csv\n",
      "BTCBUSD-4h-2022-04-01.csv\n",
      "BTCBUSD-4h-2022-04-02.csv\n",
      "BTCBUSD-4h-2022-04-03.csv\n",
      "BTCBUSD-4h-2022-04-04.csv\n",
      "BTCBUSD-4h-2022-04-05.csv\n",
      "BTCBUSD-4h-2022-04-06.csv\n",
      "BTCBUSD-4h-2022-04-07.csv\n",
      "BTCBUSD-4h-2022-04-08.csv\n",
      "BTCBUSD-4h-2022-04-09.csv\n",
      "BTCBUSD-4h-2022-04-10.csv\n",
      "BTCBUSD-4h-2022-04-11.csv\n",
      "BTCBUSD-4h-2022-04-12.csv\n",
      "BTCBUSD-4h-2022-04-13.csv\n",
      "BTCBUSD-4h-2022-04-14.csv\n",
      "BTCBUSD-4h-2022-04-15.csv\n",
      "BTCBUSD-4h-2022-04-16.csv\n",
      "BTCBUSD-4h-2022-04-17.csv\n",
      "BTCBUSD-4h-2022-04-18.csv\n",
      "BTCBUSD-4h-2022-04-19.csv\n",
      "BTCBUSD-4h-2022-04-20.csv\n",
      "BTCBUSD-4h-2022-04-21.csv\n",
      "BTCBUSD-4h-2022-04-22.csv\n",
      "BTCBUSD-4h-2022-04-23.csv\n",
      "BTCBUSD-4h-2022-04-24.csv\n",
      "BTCBUSD-4h-2022-04-25.csv\n",
      "BTCBUSD-4h-2022-04-26.csv\n",
      "BTCBUSD-4h-2022-04-27.csv\n",
      "BTCBUSD-4h-2022-04-28.csv\n",
      "BTCBUSD-4h-2022-04-29.csv\n",
      "BTCBUSD-4h-2022-04-30.csv\n",
      "BTCBUSD-4h-2022-05-01.csv\n",
      "BTCBUSD-4h-2022-05-02.csv\n",
      "BTCBUSD-4h-2022-05-03.csv\n",
      "BTCBUSD-4h-2022-05-04.csv\n",
      "BTCBUSD-4h-2022-05-05.csv\n",
      "BTCBUSD-4h-2022-05-06.csv\n",
      "BTCBUSD-4h-2022-05-07.csv\n",
      "BTCBUSD-4h-2022-05-08.csv\n",
      "BTCBUSD-4h-2022-05-09.csv\n",
      "BTCBUSD-4h-2022-05-10.csv\n",
      "BTCBUSD-4h-2022-05-11.csv\n",
      "BTCBUSD-4h-2022-05-12.csv\n",
      "BTCBUSD-4h-2022-05-13.csv\n",
      "BTCBUSD-4h-2022-05-14.csv\n",
      "BTCBUSD-4h-2022-05-15.csv\n",
      "BTCBUSD-4h-2022-05-16.csv\n",
      "BTCBUSD-4h-2022-05-17.csv\n",
      "BTCBUSD-4h-2022-05-18.csv\n",
      "BTCBUSD-4h-2022-05-19.csv\n",
      "BTCBUSD-4h-2022-05-20.csv\n",
      "BTCBUSD-4h-2022-05-21.csv\n",
      "BTCBUSD-4h-2022-05-22.csv\n",
      "BTCBUSD-4h-2022-05-23.csv\n",
      "BTCBUSD-4h-2022-05-24.csv\n",
      "BTCBUSD-4h-2022-05-25.csv\n",
      "BTCBUSD-4h-2022-05-26.csv\n",
      "BTCBUSD-4h-2022-05-27.csv\n",
      "BTCBUSD-4h-2022-05-28.csv\n",
      "BTCBUSD-4h-2022-05-29.csv\n",
      "BTCBUSD-4h-2022-05-30.csv\n",
      "BTCBUSD-4h-2022-05-31.csv\n",
      "BTCBUSD-4h-2022-06-01.csv\n",
      "BTCBUSD-4h-2022-06-02.csv\n",
      "BTCBUSD-4h-2022-06-03.csv\n",
      "BTCBUSD-4h-2022-06-04.csv\n",
      "BTCBUSD-4h-2022-06-05.csv\n",
      "BTCBUSD-4h-2022-06-06.csv\n",
      "BTCBUSD-4h-2022-06-07.csv\n",
      "BTCBUSD-4h-2022-06-08.csv\n",
      "BTCBUSD-4h-2022-06-09.csv\n",
      "BTCBUSD-4h-2022-06-10.csv\n",
      "BTCBUSD-4h-2022-06-11.csv\n",
      "BTCBUSD-4h-2022-06-12.csv\n",
      "BTCBUSD-4h-2022-06-13.csv\n",
      "BTCBUSD-4h-2022-06-14.csv\n",
      "BTCBUSD-4h-2022-06-15.csv\n",
      "BTCBUSD-4h-2022-06-16.csv\n",
      "BTCBUSD-4h-2022-06-17.csv\n",
      "BTCBUSD-4h-2022-06-18.csv\n",
      "BTCBUSD-4h-2022-06-19.csv\n",
      "BTCBUSD-4h-2022-06-20.csv\n",
      "BTCBUSD-4h-2022-06-21.csv\n",
      "BTCBUSD-4h-2022-06-22.csv\n",
      "BTCBUSD-4h-2022-06-23.csv\n",
      "BTCBUSD-4h-2022-06-24.csv\n",
      "BTCBUSD-4h-2022-06-25.csv\n",
      "BTCBUSD-4h-2022-06-26.csv\n",
      "BTCBUSD-4h-2022-06-27.csv\n",
      "BTCBUSD-4h-2022-06-28.csv\n",
      "BTCBUSD-4h-2022-06-29.csv\n",
      "BTCBUSD-4h-2022-06-30.csv\n",
      "BTCBUSD-4h-2022-07-01.csv\n",
      "BTCBUSD-4h-2022-07-02.csv\n",
      "BTCBUSD-4h-2022-07-03.csv\n",
      "BTCBUSD-4h-2022-07-04.csv\n",
      "BTCBUSD-4h-2022-07-05.csv\n",
      "BTCBUSD-4h-2022-07-06.csv\n",
      "BTCBUSD-4h-2022-07-07.csv\n",
      "BTCBUSD-4h-2022-07-08.csv\n",
      "BTCBUSD-4h-2022-07-09.csv\n",
      "BTCBUSD-4h-2022-07-10.csv\n",
      "BTCBUSD-4h-2022-07-11.csv\n",
      "BTCBUSD-4h-2022-07-12.csv\n",
      "BTCBUSD-4h-2022-07-13.csv\n",
      "BTCBUSD-4h-2022-07-14.csv\n",
      "BTCBUSD-4h-2022-07-15.csv\n",
      "BTCBUSD-4h-2022-07-16.csv\n",
      "BTCBUSD-4h-2022-07-17.csv\n",
      "BTCBUSD-4h-2022-07-18.csv\n",
      "BTCBUSD-4h-2022-07-19.csv\n",
      "BTCBUSD-4h-2022-07-20.csv\n",
      "BTCBUSD-4h-2022-07-21.csv\n",
      "BTCBUSD-4h-2022-07-22.csv\n",
      "BTCBUSD-4h-2022-07-23.csv\n",
      "BTCBUSD-4h-2022-07-24.csv\n",
      "BTCBUSD-4h-2022-07-25.csv\n",
      "BTCBUSD-4h-2022-07-26.csv\n",
      "BTCBUSD-4h-2022-07-27.csv\n",
      "BTCBUSD-4h-2022-07-28.csv\n",
      "BTCBUSD-4h-2022-07-29.csv\n",
      "BTCBUSD-4h-2022-07-30.csv\n",
      "BTCBUSD-4h-2022-07-31.csv\n",
      "BTCBUSD-4h-2022-08-01.csv\n",
      "BTCBUSD-4h-2022-08-02.csv\n",
      "BTCBUSD-4h-2022-08-03.csv\n",
      "BTCBUSD-4h-2022-08-04.csv\n",
      "BTCBUSD-4h-2022-08-05.csv\n",
      "BTCBUSD-4h-2022-08-06.csv\n",
      "BTCBUSD-4h-2022-08-07.csv\n",
      "BTCBUSD-4h-2022-08-08.csv\n",
      "BTCBUSD-4h-2022-08-09.csv\n",
      "BTCBUSD-4h-2022-08-10.csv\n",
      "BTCBUSD-4h-2022-08-11.csv\n",
      "BTCBUSD-4h-2022-08-12.csv\n",
      "BTCBUSD-4h-2022-08-13.csv\n",
      "BTCBUSD-4h-2022-08-14.csv\n",
      "BTCBUSD-4h-2022-08-15.csv\n",
      "BTCBUSD-4h-2022-08-16.csv\n",
      "BTCBUSD-4h-2022-08-17.csv\n",
      "BTCBUSD-4h-2022-08-18.csv\n",
      "BTCBUSD-4h-2022-08-19.csv\n",
      "BTCBUSD-4h-2022-08-20.csv\n",
      "BTCBUSD-4h-2022-08-21.csv\n",
      "BTCBUSD-4h-2022-08-22.csv\n",
      "BTCBUSD-4h-2022-08-23.csv\n",
      "BTCBUSD-4h-2022-08-24.csv\n",
      "BTCBUSD-4h-2022-08-25.csv\n",
      "BTCBUSD-4h-2022-08-26.csv\n",
      "BTCBUSD-4h-2022-08-27.csv\n",
      "BTCBUSD-4h-2022-08-28.csv\n",
      "BTCBUSD-4h-2022-08-29.csv\n",
      "BTCBUSD-4h-2022-08-30.csv\n",
      "BTCBUSD-4h-2022-08-31.csv\n",
      "BTCBUSD-4h-2022-09-01.csv\n",
      "BTCBUSD-4h-2022-09-02.csv\n",
      "BTCBUSD-4h-2022-09-03.csv\n",
      "BTCBUSD-4h-2022-09-04.csv\n",
      "BTCBUSD-4h-2022-09-05.csv\n",
      "BTCBUSD-4h-2022-09-06.csv\n",
      "BTCBUSD-4h-2022-09-07.csv\n",
      "BTCBUSD-4h-2022-09-08.csv\n",
      "BTCBUSD-4h-2022-09-09.csv\n",
      "BTCBUSD-4h-2022-09-10.csv\n",
      "BTCBUSD-4h-2022-09-11.csv\n",
      "BTCBUSD-4h-2022-09-12.csv\n",
      "BTCBUSD-4h-2022-09-13.csv\n",
      "BTCBUSD-4h-2022-09-14.csv\n",
      "BTCBUSD-4h-2022-09-15.csv\n",
      "BTCBUSD-4h-2022-09-16.csv\n",
      "BTCBUSD-4h-2022-09-17.csv\n",
      "BTCBUSD-4h-2022-09-18.csv\n",
      "BTCBUSD-4h-2022-09-19.csv\n",
      "BTCBUSD-4h-2022-09-20.csv\n",
      "BTCBUSD-4h-2022-09-21.csv\n",
      "BTCBUSD-4h-2022-09-22.csv\n",
      "BTCBUSD-4h-2022-09-23.csv\n",
      "BTCBUSD-4h-2022-09-24.csv\n",
      "BTCBUSD-4h-2022-09-25.csv\n",
      "BTCBUSD-4h-2022-09-26.csv\n",
      "BTCBUSD-4h-2022-09-27.csv\n",
      "BTCBUSD-4h-2022-09-28.csv\n",
      "BTCBUSD-4h-2022-09-29.csv\n",
      "BTCBUSD-4h-2022-09-30.csv\n",
      "BTCBUSD-4h-2022-10-01.csv\n",
      "BTCBUSD-4h-2022-10-02.csv\n",
      "BTCBUSD-4h-2022-10-03.csv\n",
      "BTCBUSD-4h-2022-10-04.csv\n",
      "BTCBUSD-4h-2022-10-05.csv\n",
      "BTCBUSD-4h-2022-10-06.csv\n",
      "BTCBUSD-4h-2022-10-07.csv\n",
      "BTCBUSD-4h-2022-10-08.csv\n",
      "BTCBUSD-4h-2022-10-09.csv\n",
      "BTCBUSD-4h-2022-10-10.csv\n",
      "BTCBUSD-4h-2022-10-11.csv\n",
      "BTCBUSD-4h-2022-10-12.csv\n",
      "BTCBUSD-4h-2022-10-13.csv\n",
      "BTCBUSD-4h-2022-10-14.csv\n",
      "BTCBUSD-4h-2022-10-15.csv\n",
      "BTCBUSD-4h-2022-10-16.csv\n",
      "BTCBUSD-4h-2022-10-17.csv\n",
      "BTCBUSD-4h-2022-10-18.csv\n",
      "BTCBUSD-4h-2022-10-19.csv\n",
      "BTCBUSD-4h-2022-10-20.csv\n",
      "BTCBUSD-4h-2022-10-21.csv\n",
      "BTCBUSD-4h-2022-10-22.csv\n",
      "BTCBUSD-4h-2022-10-23.csv\n",
      "BTCBUSD-4h-2022-10-24.csv\n",
      "BTCBUSD-4h-2022-10-25.csv\n",
      "BTCBUSD-4h-2022-10-26.csv\n",
      "BTCBUSD-4h-2022-10-27.csv\n",
      "BTCBUSD-4h-2022-10-28.csv\n",
      "BTCBUSD-4h-2022-10-29.csv\n",
      "BTCBUSD-4h-2022-10-30.csv\n",
      "BTCBUSD-4h-2022-10-31.csv\n",
      "BTCBUSD-4h-2022-11-01.csv\n",
      "BTCBUSD-4h-2022-11-02.csv\n",
      "BTCBUSD-4h-2022-11-03.csv\n",
      "BTCBUSD-4h-2022-11-04.csv\n",
      "BTCBUSD-4h-2022-11-05.csv\n",
      "BTCBUSD-4h-2022-11-06.csv\n",
      "BTCBUSD-4h-2022-11-07.csv\n",
      "BTCBUSD-4h-2022-11-08.csv\n",
      "BTCBUSD-4h-2022-11-09.csv\n",
      "BTCBUSD-4h-2022-11-10.csv\n",
      "BTCBUSD-4h-2022-11-11.csv\n",
      "BTCBUSD-4h-2022-11-12.csv\n",
      "BTCBUSD-4h-2022-11-13.csv\n",
      "BTCBUSD-4h-2022-11-14.csv\n",
      "BTCBUSD-4h-2022-11-15.csv\n",
      "BTCBUSD-4h-2022-11-16.csv\n",
      "BTCBUSD-4h-2022-11-17.csv\n",
      "BTCBUSD-4h-2022-11-18.csv\n",
      "BTCBUSD-4h-2022-11-19.csv\n",
      "BTCBUSD-4h-2022-11-20.csv\n",
      "BTCBUSD-4h-2022-11-21.csv\n",
      "BTCBUSD-4h-2022-11-22.csv\n",
      "BTCBUSD-4h-2022-11-23.csv\n",
      "BTCBUSD-4h-2022-11-24.csv\n",
      "BTCBUSD-4h-2022-11-25.csv\n",
      "BTCBUSD-4h-2022-11-26.csv\n",
      "BTCBUSD-4h-2022-11-27.csv\n",
      "BTCBUSD-4h-2022-11-28.csv\n",
      "BTCBUSD-4h-2022-11-29.csv\n",
      "BTCBUSD-4h-2022-11-30.csv\n",
      "BTCBUSD-4h-2022-12-01.csv\n",
      "BTCBUSD-4h-2022-12-02.csv\n",
      "BTCBUSD-4h-2022-12-03.csv\n",
      "BTCBUSD-4h-2022-12-04.csv\n",
      "BTCBUSD-4h-2022-12-05.csv\n",
      "BTCBUSD-4h-2022-12-06.csv\n",
      "BTCBUSD-4h-2022-12-07.csv\n",
      "BTCBUSD-4h-2022-12-08.csv\n",
      "BTCBUSD-4h-2022-12-09.csv\n",
      "BTCBUSD-4h-2022-12-10.csv\n",
      "BTCBUSD-4h-2022-12-11.csv\n",
      "BTCBUSD-4h-2022-12-12.csv\n",
      "BTCBUSD-4h-2022-12-13.csv\n",
      "BTCBUSD-4h-2022-12-14.csv\n",
      "BTCBUSD-4h-2022-12-15.csv\n",
      "BTCBUSD-4h-2022-12-16.csv\n",
      "BTCBUSD-4h-2022-12-17.csv\n",
      "BTCBUSD-4h-2022-12-18.csv\n",
      "BTCBUSD-4h-2022-12-19.csv\n",
      "BTCBUSD-4h-2022-12-20.csv\n",
      "BTCBUSD-4h-2022-12-21.csv\n",
      "BTCBUSD-4h-2022-12-22.csv\n",
      "BTCBUSD-4h-2022-12-23.csv\n",
      "BTCBUSD-4h-2022-12-24.csv\n",
      "BTCBUSD-4h-2022-12-25.csv\n",
      "BTCBUSD-4h-2022-12-26.csv\n",
      "BTCBUSD-4h-2022-12-27.csv\n",
      "BTCBUSD-4h-2022-12-28.csv\n",
      "BTCBUSD-4h-2022-12-29.csv\n",
      "BTCBUSD-4h-2022-12-30.csv\n",
      "BTCBUSD-4h-2022-12-31.csv\n",
      "BTCBUSD-4h-2023-03-01.csv\n",
      "Error\n"
     ]
    }
   ],
   "source": [
    "x = np.array([], dtype=np.uint32)\n",
    "y = np.array([], dtype=np.uint32)\n",
    "#download the data and unzip\n",
    "try:\n",
    "    for year_loop in range(2021, 2024):\n",
    "        for month_loop in range(1, 13):\n",
    "            if month_loop in (1,3,5,7,8,10,12):\n",
    "                days_range = 32\n",
    "            elif month_loop in (4,6,9,11):\n",
    "                days_range = 31\n",
    "            else:\n",
    "                days_range = 29\n",
    "            month_inloop =  '0'+str(month_loop) if month_loop < 10 else str(month_loop)\n",
    "            for day_loop in range(1, days_range):#days_range\n",
    "                day_inloop = '0'+str(day_loop) if day_loop < 10 else str(day_loop)\n",
    "                url_loop = url+str(year_loop)+'-'+str(month_inloop)+'-'+str(day_inloop)+zip\n",
    "                #print(url_loop)\n",
    "                #requeset info from binance\n",
    "                #req_loop = requests.get(url_loop, stream=True)\n",
    "                #print(req_loop.status_code)\n",
    "                if  ((year_loop  >= 2021 and month_loop >= 3)):#and (year_loop <= 2023 and month_loop <= 1 and day_loop <= 5)\n",
    "                    #z = zipfile.ZipFile(io.BytesIO(req_loop.content))\n",
    "                    #z.extractall(os.path.join(os.getcwd(), 'data-btc'))\n",
    "                    csv_name_loop = bitcoin_par+'-'+time_lapse+'-'+str(year_loop)+'-'+str(month_inloop)+'-'+str(day_inloop)+'.csv'\n",
    "                    print(csv_name_loop)\n",
    "                    df  =    pd.read_csv(os.path.join(os.getcwd(), 'data-btc', csv_name_loop)\n",
    "                    , header = None\n",
    "                    , names = ['Open time', 'Open', 'High', 'Low', 'Close', 'Volume', 'Close time', 'Quote asset volume', 'Number of trades', 'Taker buy base asset volume', 'Taker buy quote asset volume', 'ignore'])\n",
    "                    x_time = df[['Open time']].to_numpy(dtype = np.float32)\n",
    "                    x = np.append(x, x_time)\n",
    "                    y_price_high = df[['High']].to_numpy(dtype = np.float32)\n",
    "                    y_price_close = df[['Low']].to_numpy(dtype = np.float32)\n",
    "                    y_promedio = np.add(y_price_high, y_price_close)\n",
    "                    y_promedio =  y_promedio/2\n",
    "                    y = np.append(y, y_promedio)\n",
    "except:\n",
    "    print(\"Error\")\n",
    "\n",
    "\n",
    "\n",
    "#print(df.shape)\n",
    "#df.head\n"
   ]
  },
  {
   "cell_type": "code",
   "execution_count": 170,
   "metadata": {},
   "outputs": [],
   "source": [
    "df_scal = pd.DataFrame(y)\n",
    "scaler = MinMaxScaler(feature_range=(0,1))\n",
    "y_close=scaler.fit_transform(np.array(df_scal).reshape(-1,1))"
   ]
  },
  {
   "cell_type": "code",
   "execution_count": 171,
   "metadata": {},
   "outputs": [
    {
     "name": "stdout",
     "output_type": "stream",
     "text": [
      "(30,)\n"
     ]
    },
    {
     "data": {
      "image/png": "[encoded data removed]",
      "text/plain": [
       "<Figure size 640x480 with 1 Axes>"
      ]
     },
     "metadata": {},
     "output_type": "display_data"
    }
   ],
   "source": [
    "print(y.shape)\n",
    "#plt.plot(x, y)\n",
    "plt.plot(x, y_close)\n",
    "plt.show()"
   ]
  },
  {
   "cell_type": "code",
   "execution_count": null,
   "metadata": {},
   "outputs": [],
   "source": []
  },
  {
   "cell_type": "code",
   "execution_count": 7,
   "metadata": {},
   "outputs": [
    {
     "name": "stdout",
     "output_type": "stream",
     "text": [
      "(2190,)\n"
     ]
    },
    {
     "data": {
      "image/png": "[encoded data removed]",
      "text/plain": [
       "<Figure size 640x480 with 1 Axes>"
      ]
     },
     "metadata": {},
     "output_type": "display_data"
    }
   ],
   "source": [
    "def cast_time_data(np_array):\n",
    "    x_new_time = []\n",
    "    for time_unix in np_array:\n",
    "        new_time = int(str(time_unix)[0:10])\n",
    "        unixToDatetime = datetime.fromtimestamp(new_time).strftime('%Y-%m-%d %H:%M:%S')\n",
    "        x_new_time.append(unixToDatetime)\n",
    "    return np.array(x_new_time)\n",
    "x_new_time = cast_time_data(x)\n",
    "print(x_new_time.shape)\n",
    "plt.plot(x_new_time, y)\n",
    "plt.show()"
   ]
  },
  {
   "cell_type": "code",
   "execution_count": 8,
   "metadata": {},
   "outputs": [],
   "source": [
    "def prepare_y_series(np_array, series_size = 10):\n",
    "    x_series = []\n",
    "    y_series = []\n",
    "    for y_val in range(len(np_array)-series_size):\n",
    "        x_series.append([[a] for a in np_array[y_val:y_val+series_size]])\n",
    "        y_series.append(np_array[y_val+series_size])\n",
    "        #print(np_array[y_val+series_size])\n",
    "    #print(np.array(y_series))\n",
    "    return np.array(x_series), np.array(y_series)\n",
    "x_series_def, y_series_def = prepare_y_series(y_close)\n",
    "#prepare_data_in_percentage\n",
    "nint_perc = int(len(x_series_def)*.90)\n",
    "nintfive_perc = int(len(x_series_def)*.95)\n",
    "hun_perc = int(len(x_series_def)*1.0)\n",
    "x_train, y_train = x_series_def[:nint_perc], y_series_def[:nint_perc]\n",
    "x_valid, y_valid = x_series_def[nint_perc:nintfive_perc], y_series_def[nint_perc:nintfive_perc]\n",
    "x_test, y_test = x_series_def[nintfive_perc:hun_perc], y_series_def[nintfive_perc:hun_perc]\n",
    "x_plt_train = x[:nint_perc]\n",
    "x_plt_valid = x[nint_perc:nintfive_perc]\n",
    "x_plt_test = x[nintfive_perc:hun_perc]"
   ]
  },
  {
   "cell_type": "code",
   "execution_count": 9,
   "metadata": {},
   "outputs": [
    {
     "name": "stdout",
     "output_type": "stream",
     "text": [
      "Model: \"sequential\"\n",
      "_________________________________________________________________\n",
      " Layer (type)                Output Shape              Param #   \n",
      "=================================================================\n",
      " lstm (LSTM)                 (None, 64)                16896     \n",
      "                                                                 \n",
      " dense (Dense)               (None, 8)                 520       \n",
      "                                                                 \n",
      " dense_1 (Dense)             (None, 1)                 9         \n",
      "                                                                 \n",
      "=================================================================\n",
      "Total params: 17,425\n",
      "Trainable params: 17,425\n",
      "Non-trainable params: 0\n",
      "_________________________________________________________________\n"
     ]
    }
   ],
   "source": [
    "#new maderfucking model\n",
    "mamfmodel = tf.keras.models.Sequential()\n",
    "mamfmodel.add(tf.keras.layers.InputLayer((10, 1)))\n",
    "mamfmodel.add(tf.keras.layers.LSTM(units = 64))\n",
    "mamfmodel.add(tf.keras.layers.Dense(8, 'relu'))\n",
    "mamfmodel.add(tf.keras.layers.Dense(1, 'linear'))\n",
    "mamfmodel.summary()"
   ]
  },
  {
   "cell_type": "code",
   "execution_count": 10,
   "metadata": {},
   "outputs": [
    {
     "name": "stdout",
     "output_type": "stream",
     "text": [
      "Epoch 1/100\n",
      "59/62 [===========================>..] - ETA: 0s - loss: 0.0738 - root_mean_squared_error: 0.2717"
     ]
    },
    {
     "name": "stderr",
     "output_type": "stream",
     "text": [
      "WARNING:absl:Found untraced functions such as _update_step_xla, lstm_cell_layer_call_fn, lstm_cell_layer_call_and_return_conditional_losses while saving (showing 3 of 3). These functions will not be directly callable after loading.\n"
     ]
    },
    {
     "name": "stdout",
     "output_type": "stream",
     "text": [
      "INFO:tensorflow:Assets written to: mamfmodel\\assets\n"
     ]
    },
    {
     "name": "stderr",
     "output_type": "stream",
     "text": [
      "INFO:tensorflow:Assets written to: mamfmodel\\assets\n"
     ]
    },
    {
     "name": "stdout",
     "output_type": "stream",
     "text": [
      "62/62 [==============================] - 5s 54ms/step - loss: 0.0711 - root_mean_squared_error: 0.2666 - val_loss: 0.0021 - val_root_mean_squared_error: 0.0456\n",
      "Epoch 2/100\n",
      "60/62 [============================>.] - ETA: 0s - loss: 8.3552e-04 - root_mean_squared_error: 0.0289"
     ]
    },
    {
     "name": "stderr",
     "output_type": "stream",
     "text": [
      "WARNING:absl:Found untraced functions such as _update_step_xla, lstm_cell_layer_call_fn, lstm_cell_layer_call_and_return_conditional_losses while saving (showing 3 of 3). These functions will not be directly callable after loading.\n"
     ]
    },
    {
     "name": "stdout",
     "output_type": "stream",
     "text": [
      "INFO:tensorflow:Assets written to: mamfmodel\\assets\n"
     ]
    },
    {
     "name": "stderr",
     "output_type": "stream",
     "text": [
      "INFO:tensorflow:Assets written to: mamfmodel\\assets\n"
     ]
    },
    {
     "name": "stdout",
     "output_type": "stream",
     "text": [
      "62/62 [==============================] - 3s 53ms/step - loss: 8.2839e-04 - root_mean_squared_error: 0.0288 - val_loss: 2.4760e-04 - val_root_mean_squared_error: 0.0157\n",
      "Epoch 3/100\n",
      "62/62 [==============================] - 0s 4ms/step - loss: 7.4970e-04 - root_mean_squared_error: 0.0274 - val_loss: 2.5557e-04 - val_root_mean_squared_error: 0.0160\n",
      "Epoch 4/100\n",
      "57/62 [==========================>...] - ETA: 0s - loss: 7.5022e-04 - root_mean_squared_error: 0.0274"
     ]
    },
    {
     "name": "stderr",
     "output_type": "stream",
     "text": [
      "WARNING:absl:Found untraced functions such as _update_step_xla, lstm_cell_layer_call_fn, lstm_cell_layer_call_and_return_conditional_losses while saving (showing 3 of 3). These functions will not be directly callable after loading.\n"
     ]
    },
    {
     "name": "stdout",
     "output_type": "stream",
     "text": [
      "INFO:tensorflow:Assets written to: mamfmodel\\assets\n"
     ]
    },
    {
     "name": "stderr",
     "output_type": "stream",
     "text": [
      "INFO:tensorflow:Assets written to: mamfmodel\\assets\n"
     ]
    },
    {
     "name": "stdout",
     "output_type": "stream",
     "text": [
      "62/62 [==============================] - 3s 51ms/step - loss: 7.5107e-04 - root_mean_squared_error: 0.0274 - val_loss: 1.7799e-04 - val_root_mean_squared_error: 0.0133\n",
      "Epoch 5/100\n",
      "54/62 [=========================>....] - ETA: 0s - loss: 8.0104e-04 - root_mean_squared_error: 0.0283"
     ]
    },
    {
     "name": "stderr",
     "output_type": "stream",
     "text": [
      "WARNING:absl:Found untraced functions such as _update_step_xla, lstm_cell_layer_call_fn, lstm_cell_layer_call_and_return_conditional_losses while saving (showing 3 of 3). These functions will not be directly callable after loading.\n"
     ]
    },
    {
     "name": "stdout",
     "output_type": "stream",
     "text": [
      "INFO:tensorflow:Assets written to: mamfmodel\\assets\n"
     ]
    },
    {
     "name": "stderr",
     "output_type": "stream",
     "text": [
      "INFO:tensorflow:Assets written to: mamfmodel\\assets\n"
     ]
    },
    {
     "name": "stdout",
     "output_type": "stream",
     "text": [
      "62/62 [==============================] - 3s 46ms/step - loss: 7.8350e-04 - root_mean_squared_error: 0.0280 - val_loss: 1.2975e-04 - val_root_mean_squared_error: 0.0114\n",
      "Epoch 6/100\n",
      "48/62 [======================>.......] - ETA: 0s - loss: 7.0902e-04 - root_mean_squared_error: 0.0266"
     ]
    },
    {
     "name": "stderr",
     "output_type": "stream",
     "text": [
      "WARNING:absl:Found untraced functions such as _update_step_xla, lstm_cell_layer_call_fn, lstm_cell_layer_call_and_return_conditional_losses while saving (showing 3 of 3). These functions will not be directly callable after loading.\n"
     ]
    },
    {
     "name": "stdout",
     "output_type": "stream",
     "text": [
      "INFO:tensorflow:Assets written to: mamfmodel\\assets\n"
     ]
    },
    {
     "name": "stderr",
     "output_type": "stream",
     "text": [
      "INFO:tensorflow:Assets written to: mamfmodel\\assets\n"
     ]
    },
    {
     "name": "stdout",
     "output_type": "stream",
     "text": [
      "62/62 [==============================] - 3s 52ms/step - loss: 7.0944e-04 - root_mean_squared_error: 0.0266 - val_loss: 8.5952e-05 - val_root_mean_squared_error: 0.0093\n",
      "Epoch 7/100\n",
      "61/62 [============================>.] - ETA: 0s - loss: 6.8941e-04 - root_mean_squared_error: 0.0263"
     ]
    },
    {
     "name": "stderr",
     "output_type": "stream",
     "text": [
      "WARNING:absl:Found untraced functions such as _update_step_xla, lstm_cell_layer_call_fn, lstm_cell_layer_call_and_return_conditional_losses while saving (showing 3 of 3). These functions will not be directly callable after loading.\n"
     ]
    },
    {
     "name": "stdout",
     "output_type": "stream",
     "text": [
      "INFO:tensorflow:Assets written to: mamfmodel\\assets\n"
     ]
    },
    {
     "name": "stderr",
     "output_type": "stream",
     "text": [
      "INFO:tensorflow:Assets written to: mamfmodel\\assets\n"
     ]
    },
    {
     "name": "stdout",
     "output_type": "stream",
     "text": [
      "62/62 [==============================] - 3s 47ms/step - loss: 6.8901e-04 - root_mean_squared_error: 0.0262 - val_loss: 5.9822e-05 - val_root_mean_squared_error: 0.0077\n",
      "Epoch 8/100\n",
      "62/62 [==============================] - 0s 4ms/step - loss: 6.6351e-04 - root_mean_squared_error: 0.0258 - val_loss: 6.5455e-05 - val_root_mean_squared_error: 0.0081\n",
      "Epoch 9/100\n",
      "62/62 [==============================] - 0s 4ms/step - loss: 6.5315e-04 - root_mean_squared_error: 0.0256 - val_loss: 7.2133e-05 - val_root_mean_squared_error: 0.0085\n",
      "Epoch 10/100\n",
      "49/62 [======================>.......] - ETA: 0s - loss: 6.5888e-04 - root_mean_squared_error: 0.0257"
     ]
    },
    {
     "name": "stderr",
     "output_type": "stream",
     "text": [
      "WARNING:absl:Found untraced functions such as _update_step_xla, lstm_cell_layer_call_fn, lstm_cell_layer_call_and_return_conditional_losses while saving (showing 3 of 3). These functions will not be directly callable after loading.\n"
     ]
    },
    {
     "name": "stdout",
     "output_type": "stream",
     "text": [
      "INFO:tensorflow:Assets written to: mamfmodel\\assets\n"
     ]
    },
    {
     "name": "stderr",
     "output_type": "stream",
     "text": [
      "INFO:tensorflow:Assets written to: mamfmodel\\assets\n"
     ]
    },
    {
     "name": "stdout",
     "output_type": "stream",
     "text": [
      "62/62 [==============================] - 3s 51ms/step - loss: 6.6357e-04 - root_mean_squared_error: 0.0258 - val_loss: 3.3157e-05 - val_root_mean_squared_error: 0.0058\n",
      "Epoch 11/100\n",
      "62/62 [==============================] - 0s 5ms/step - loss: 6.2173e-04 - root_mean_squared_error: 0.0249 - val_loss: 3.7848e-05 - val_root_mean_squared_error: 0.0062\n",
      "Epoch 12/100\n",
      "62/62 [==============================] - 0s 4ms/step - loss: 6.0737e-04 - root_mean_squared_error: 0.0246 - val_loss: 7.0540e-05 - val_root_mean_squared_error: 0.0084\n",
      "Epoch 13/100\n",
      "62/62 [==============================] - 0s 4ms/step - loss: 5.9995e-04 - root_mean_squared_error: 0.0245 - val_loss: 3.3971e-05 - val_root_mean_squared_error: 0.0058\n",
      "Epoch 14/100\n",
      "62/62 [==============================] - 0s 4ms/step - loss: 6.1167e-04 - root_mean_squared_error: 0.0247 - val_loss: 3.4351e-05 - val_root_mean_squared_error: 0.0059\n",
      "Epoch 15/100\n",
      "62/62 [==============================] - 0s 4ms/step - loss: 6.5361e-04 - root_mean_squared_error: 0.0256 - val_loss: 4.8593e-05 - val_root_mean_squared_error: 0.0070\n",
      "Epoch 16/100\n",
      "62/62 [==============================] - 0s 4ms/step - loss: 5.8032e-04 - root_mean_squared_error: 0.0241 - val_loss: 8.7566e-05 - val_root_mean_squared_error: 0.0094\n",
      "Epoch 17/100\n",
      "62/62 [==============================] - 0s 4ms/step - loss: 5.9150e-04 - root_mean_squared_error: 0.0243 - val_loss: 3.5818e-05 - val_root_mean_squared_error: 0.0060\n",
      "Epoch 18/100\n",
      "50/62 [=======================>......] - ETA: 0s - loss: 5.2081e-04 - root_mean_squared_error: 0.0228"
     ]
    },
    {
     "name": "stderr",
     "output_type": "stream",
     "text": [
      "WARNING:absl:Found untraced functions such as _update_step_xla, lstm_cell_layer_call_fn, lstm_cell_layer_call_and_return_conditional_losses while saving (showing 3 of 3). These functions will not be directly callable after loading.\n"
     ]
    },
    {
     "name": "stdout",
     "output_type": "stream",
     "text": [
      "INFO:tensorflow:Assets written to: mamfmodel\\assets\n"
     ]
    },
    {
     "name": "stderr",
     "output_type": "stream",
     "text": [
      "INFO:tensorflow:Assets written to: mamfmodel\\assets\n"
     ]
    },
    {
     "name": "stdout",
     "output_type": "stream",
     "text": [
      "62/62 [==============================] - 3s 46ms/step - loss: 5.0944e-04 - root_mean_squared_error: 0.0226 - val_loss: 2.7309e-05 - val_root_mean_squared_error: 0.0052\n",
      "Epoch 19/100\n",
      "62/62 [==============================] - 0s 4ms/step - loss: 5.2140e-04 - root_mean_squared_error: 0.0228 - val_loss: 3.1909e-05 - val_root_mean_squared_error: 0.0056\n",
      "Epoch 20/100\n",
      "62/62 [==============================] - 0s 4ms/step - loss: 4.9171e-04 - root_mean_squared_error: 0.0222 - val_loss: 3.2716e-05 - val_root_mean_squared_error: 0.0057\n",
      "Epoch 21/100\n",
      "50/62 [=======================>......] - ETA: 0s - loss: 4.6253e-04 - root_mean_squared_error: 0.0215"
     ]
    },
    {
     "name": "stderr",
     "output_type": "stream",
     "text": [
      "WARNING:absl:Found untraced functions such as _update_step_xla, lstm_cell_layer_call_fn, lstm_cell_layer_call_and_return_conditional_losses while saving (showing 3 of 3). These functions will not be directly callable after loading.\n"
     ]
    },
    {
     "name": "stdout",
     "output_type": "stream",
     "text": [
      "INFO:tensorflow:Assets written to: mamfmodel\\assets\n"
     ]
    },
    {
     "name": "stderr",
     "output_type": "stream",
     "text": [
      "INFO:tensorflow:Assets written to: mamfmodel\\assets\n"
     ]
    },
    {
     "name": "stdout",
     "output_type": "stream",
     "text": [
      "62/62 [==============================] - 3s 50ms/step - loss: 4.5127e-04 - root_mean_squared_error: 0.0212 - val_loss: 2.5652e-05 - val_root_mean_squared_error: 0.0051\n",
      "Epoch 22/100\n",
      "54/62 [=========================>....] - ETA: 0s - loss: 4.6744e-04 - root_mean_squared_error: 0.0216"
     ]
    },
    {
     "name": "stderr",
     "output_type": "stream",
     "text": [
      "WARNING:absl:Found untraced functions such as _update_step_xla, lstm_cell_layer_call_fn, lstm_cell_layer_call_and_return_conditional_losses while saving (showing 3 of 3). These functions will not be directly callable after loading.\n"
     ]
    },
    {
     "name": "stdout",
     "output_type": "stream",
     "text": [
      "INFO:tensorflow:Assets written to: mamfmodel\\assets\n"
     ]
    },
    {
     "name": "stderr",
     "output_type": "stream",
     "text": [
      "INFO:tensorflow:Assets written to: mamfmodel\\assets\n"
     ]
    },
    {
     "name": "stdout",
     "output_type": "stream",
     "text": [
      "62/62 [==============================] - 3s 48ms/step - loss: 4.5629e-04 - root_mean_squared_error: 0.0214 - val_loss: 2.4569e-05 - val_root_mean_squared_error: 0.0050\n",
      "Epoch 23/100\n",
      "62/62 [==============================] - 0s 4ms/step - loss: 4.1288e-04 - root_mean_squared_error: 0.0203 - val_loss: 2.5258e-05 - val_root_mean_squared_error: 0.0050\n",
      "Epoch 24/100\n",
      "61/62 [============================>.] - ETA: 0s - loss: 4.2843e-04 - root_mean_squared_error: 0.0207"
     ]
    },
    {
     "name": "stderr",
     "output_type": "stream",
     "text": [
      "WARNING:absl:Found untraced functions such as _update_step_xla, lstm_cell_layer_call_fn, lstm_cell_layer_call_and_return_conditional_losses while saving (showing 3 of 3). These functions will not be directly callable after loading.\n"
     ]
    },
    {
     "name": "stdout",
     "output_type": "stream",
     "text": [
      "INFO:tensorflow:Assets written to: mamfmodel\\assets\n"
     ]
    },
    {
     "name": "stderr",
     "output_type": "stream",
     "text": [
      "INFO:tensorflow:Assets written to: mamfmodel\\assets\n"
     ]
    },
    {
     "name": "stdout",
     "output_type": "stream",
     "text": [
      "62/62 [==============================] - 3s 51ms/step - loss: 4.2745e-04 - root_mean_squared_error: 0.0207 - val_loss: 2.3666e-05 - val_root_mean_squared_error: 0.0049\n",
      "Epoch 25/100\n",
      "62/62 [==============================] - 0s 4ms/step - loss: 3.9009e-04 - root_mean_squared_error: 0.0198 - val_loss: 3.7474e-05 - val_root_mean_squared_error: 0.0061\n",
      "Epoch 26/100\n",
      "62/62 [==============================] - 0s 4ms/step - loss: 4.4731e-04 - root_mean_squared_error: 0.0211 - val_loss: 2.5697e-05 - val_root_mean_squared_error: 0.0051\n",
      "Epoch 27/100\n",
      "62/62 [==============================] - 0s 4ms/step - loss: 4.1638e-04 - root_mean_squared_error: 0.0204 - val_loss: 3.8368e-05 - val_root_mean_squared_error: 0.0062\n",
      "Epoch 28/100\n",
      "62/62 [==============================] - 0s 4ms/step - loss: 4.1384e-04 - root_mean_squared_error: 0.0203 - val_loss: 2.3926e-05 - val_root_mean_squared_error: 0.0049\n",
      "Epoch 29/100\n",
      "51/62 [=======================>......] - ETA: 0s - loss: 3.8200e-04 - root_mean_squared_error: 0.0195"
     ]
    },
    {
     "name": "stderr",
     "output_type": "stream",
     "text": [
      "WARNING:absl:Found untraced functions such as _update_step_xla, lstm_cell_layer_call_fn, lstm_cell_layer_call_and_return_conditional_losses while saving (showing 3 of 3). These functions will not be directly callable after loading.\n"
     ]
    },
    {
     "name": "stdout",
     "output_type": "stream",
     "text": [
      "INFO:tensorflow:Assets written to: mamfmodel\\assets\n"
     ]
    },
    {
     "name": "stderr",
     "output_type": "stream",
     "text": [
      "INFO:tensorflow:Assets written to: mamfmodel\\assets\n"
     ]
    },
    {
     "name": "stdout",
     "output_type": "stream",
     "text": [
      "62/62 [==============================] - 3s 45ms/step - loss: 3.8010e-04 - root_mean_squared_error: 0.0195 - val_loss: 2.1662e-05 - val_root_mean_squared_error: 0.0047\n",
      "Epoch 30/100\n",
      "62/62 [==============================] - 0s 4ms/step - loss: 3.3779e-04 - root_mean_squared_error: 0.0184 - val_loss: 4.1677e-05 - val_root_mean_squared_error: 0.0065\n",
      "Epoch 31/100\n",
      "62/62 [==============================] - 0s 4ms/step - loss: 3.3610e-04 - root_mean_squared_error: 0.0183 - val_loss: 2.5354e-05 - val_root_mean_squared_error: 0.0050\n",
      "Epoch 32/100\n",
      "62/62 [==============================] - 0s 4ms/step - loss: 3.2477e-04 - root_mean_squared_error: 0.0180 - val_loss: 3.0999e-05 - val_root_mean_squared_error: 0.0056\n",
      "Epoch 33/100\n",
      "62/62 [==============================] - 0s 4ms/step - loss: 3.1981e-04 - root_mean_squared_error: 0.0179 - val_loss: 2.7777e-05 - val_root_mean_squared_error: 0.0053\n",
      "Epoch 34/100\n",
      "62/62 [==============================] - 0s 4ms/step - loss: 3.1641e-04 - root_mean_squared_error: 0.0178 - val_loss: 2.3858e-05 - val_root_mean_squared_error: 0.0049\n",
      "Epoch 35/100\n",
      "50/62 [=======================>......] - ETA: 0s - loss: 3.1912e-04 - root_mean_squared_error: 0.0179"
     ]
    },
    {
     "name": "stderr",
     "output_type": "stream",
     "text": [
      "WARNING:absl:Found untraced functions such as _update_step_xla, lstm_cell_layer_call_fn, lstm_cell_layer_call_and_return_conditional_losses while saving (showing 3 of 3). These functions will not be directly callable after loading.\n"
     ]
    },
    {
     "name": "stdout",
     "output_type": "stream",
     "text": [
      "INFO:tensorflow:Assets written to: mamfmodel\\assets\n"
     ]
    },
    {
     "name": "stderr",
     "output_type": "stream",
     "text": [
      "INFO:tensorflow:Assets written to: mamfmodel\\assets\n"
     ]
    },
    {
     "name": "stdout",
     "output_type": "stream",
     "text": [
      "62/62 [==============================] - 3s 50ms/step - loss: 3.2263e-04 - root_mean_squared_error: 0.0180 - val_loss: 1.9847e-05 - val_root_mean_squared_error: 0.0045\n",
      "Epoch 36/100\n",
      "62/62 [==============================] - 0s 5ms/step - loss: 3.1533e-04 - root_mean_squared_error: 0.0178 - val_loss: 2.0818e-05 - val_root_mean_squared_error: 0.0046\n",
      "Epoch 37/100\n",
      "62/62 [==============================] - 0s 4ms/step - loss: 3.2520e-04 - root_mean_squared_error: 0.0180 - val_loss: 2.1081e-05 - val_root_mean_squared_error: 0.0046\n",
      "Epoch 38/100\n",
      "62/62 [==============================] - 0s 4ms/step - loss: 2.9306e-04 - root_mean_squared_error: 0.0171 - val_loss: 5.4745e-05 - val_root_mean_squared_error: 0.0074\n",
      "Epoch 39/100\n",
      "51/62 [=======================>......] - ETA: 0s - loss: 3.4441e-04 - root_mean_squared_error: 0.0186"
     ]
    },
    {
     "name": "stderr",
     "output_type": "stream",
     "text": [
      "WARNING:absl:Found untraced functions such as _update_step_xla, lstm_cell_layer_call_fn, lstm_cell_layer_call_and_return_conditional_losses while saving (showing 3 of 3). These functions will not be directly callable after loading.\n"
     ]
    },
    {
     "name": "stdout",
     "output_type": "stream",
     "text": [
      "INFO:tensorflow:Assets written to: mamfmodel\\assets\n"
     ]
    },
    {
     "name": "stderr",
     "output_type": "stream",
     "text": [
      "INFO:tensorflow:Assets written to: mamfmodel\\assets\n"
     ]
    },
    {
     "name": "stdout",
     "output_type": "stream",
     "text": [
      "62/62 [==============================] - 3s 46ms/step - loss: 3.4046e-04 - root_mean_squared_error: 0.0185 - val_loss: 1.9103e-05 - val_root_mean_squared_error: 0.0044\n",
      "Epoch 40/100\n",
      "61/62 [============================>.] - ETA: 0s - loss: 3.0115e-04 - root_mean_squared_error: 0.0174"
     ]
    },
    {
     "name": "stderr",
     "output_type": "stream",
     "text": [
      "WARNING:absl:Found untraced functions such as _update_step_xla, lstm_cell_layer_call_fn, lstm_cell_layer_call_and_return_conditional_losses while saving (showing 3 of 3). These functions will not be directly callable after loading.\n"
     ]
    },
    {
     "name": "stdout",
     "output_type": "stream",
     "text": [
      "INFO:tensorflow:Assets written to: mamfmodel\\assets\n"
     ]
    },
    {
     "name": "stderr",
     "output_type": "stream",
     "text": [
      "INFO:tensorflow:Assets written to: mamfmodel\\assets\n"
     ]
    },
    {
     "name": "stdout",
     "output_type": "stream",
     "text": [
      "62/62 [==============================] - 3s 51ms/step - loss: 3.0108e-04 - root_mean_squared_error: 0.0174 - val_loss: 1.7910e-05 - val_root_mean_squared_error: 0.0042\n",
      "Epoch 41/100\n",
      "62/62 [==============================] - 0s 6ms/step - loss: 2.8887e-04 - root_mean_squared_error: 0.0170 - val_loss: 2.2305e-05 - val_root_mean_squared_error: 0.0047\n",
      "Epoch 42/100\n",
      "62/62 [==============================] - 0s 4ms/step - loss: 2.8854e-04 - root_mean_squared_error: 0.0170 - val_loss: 2.0142e-05 - val_root_mean_squared_error: 0.0045\n",
      "Epoch 43/100\n",
      "62/62 [==============================] - 0s 4ms/step - loss: 3.1305e-04 - root_mean_squared_error: 0.0177 - val_loss: 3.0661e-05 - val_root_mean_squared_error: 0.0055\n",
      "Epoch 44/100\n",
      "62/62 [==============================] - 0s 4ms/step - loss: 2.6440e-04 - root_mean_squared_error: 0.0163 - val_loss: 1.9953e-05 - val_root_mean_squared_error: 0.0045\n",
      "Epoch 45/100\n",
      "51/62 [=======================>......] - ETA: 0s - loss: 3.0816e-04 - root_mean_squared_error: 0.0176"
     ]
    },
    {
     "name": "stderr",
     "output_type": "stream",
     "text": [
      "WARNING:absl:Found untraced functions such as _update_step_xla, lstm_cell_layer_call_fn, lstm_cell_layer_call_and_return_conditional_losses while saving (showing 3 of 3). These functions will not be directly callable after loading.\n"
     ]
    },
    {
     "name": "stdout",
     "output_type": "stream",
     "text": [
      "INFO:tensorflow:Assets written to: mamfmodel\\assets\n"
     ]
    },
    {
     "name": "stderr",
     "output_type": "stream",
     "text": [
      "INFO:tensorflow:Assets written to: mamfmodel\\assets\n"
     ]
    },
    {
     "name": "stdout",
     "output_type": "stream",
     "text": [
      "62/62 [==============================] - 3s 45ms/step - loss: 2.9508e-04 - root_mean_squared_error: 0.0172 - val_loss: 1.6695e-05 - val_root_mean_squared_error: 0.0041\n",
      "Epoch 46/100\n",
      "62/62 [==============================] - 0s 4ms/step - loss: 2.4883e-04 - root_mean_squared_error: 0.0158 - val_loss: 3.3365e-05 - val_root_mean_squared_error: 0.0058\n",
      "Epoch 47/100\n",
      "62/62 [==============================] - 0s 4ms/step - loss: 2.5453e-04 - root_mean_squared_error: 0.0160 - val_loss: 2.0064e-05 - val_root_mean_squared_error: 0.0045\n",
      "Epoch 48/100\n",
      "62/62 [==============================] - 0s 4ms/step - loss: 2.6756e-04 - root_mean_squared_error: 0.0164 - val_loss: 2.0971e-05 - val_root_mean_squared_error: 0.0046\n",
      "Epoch 49/100\n",
      "62/62 [==============================] - 0s 4ms/step - loss: 2.4571e-04 - root_mean_squared_error: 0.0157 - val_loss: 3.4752e-05 - val_root_mean_squared_error: 0.0059\n",
      "Epoch 50/100\n",
      "50/62 [=======================>......] - ETA: 0s - loss: 2.5270e-04 - root_mean_squared_error: 0.0159"
     ]
    },
    {
     "name": "stderr",
     "output_type": "stream",
     "text": [
      "WARNING:absl:Found untraced functions such as _update_step_xla, lstm_cell_layer_call_fn, lstm_cell_layer_call_and_return_conditional_losses while saving (showing 3 of 3). These functions will not be directly callable after loading.\n"
     ]
    },
    {
     "name": "stdout",
     "output_type": "stream",
     "text": [
      "INFO:tensorflow:Assets written to: mamfmodel\\assets\n"
     ]
    },
    {
     "name": "stderr",
     "output_type": "stream",
     "text": [
      "INFO:tensorflow:Assets written to: mamfmodel\\assets\n"
     ]
    },
    {
     "name": "stdout",
     "output_type": "stream",
     "text": [
      "62/62 [==============================] - 3s 51ms/step - loss: 2.5179e-04 - root_mean_squared_error: 0.0159 - val_loss: 1.5816e-05 - val_root_mean_squared_error: 0.0040\n",
      "Epoch 51/100\n",
      "62/62 [==============================] - 0s 5ms/step - loss: 2.4295e-04 - root_mean_squared_error: 0.0156 - val_loss: 1.6421e-05 - val_root_mean_squared_error: 0.0041\n",
      "Epoch 52/100\n",
      "50/62 [=======================>......] - ETA: 0s - loss: 2.4420e-04 - root_mean_squared_error: 0.0156"
     ]
    },
    {
     "name": "stderr",
     "output_type": "stream",
     "text": [
      "WARNING:absl:Found untraced functions such as _update_step_xla, lstm_cell_layer_call_fn, lstm_cell_layer_call_and_return_conditional_losses while saving (showing 3 of 3). These functions will not be directly callable after loading.\n"
     ]
    },
    {
     "name": "stdout",
     "output_type": "stream",
     "text": [
      "INFO:tensorflow:Assets written to: mamfmodel\\assets\n"
     ]
    },
    {
     "name": "stderr",
     "output_type": "stream",
     "text": [
      "INFO:tensorflow:Assets written to: mamfmodel\\assets\n"
     ]
    },
    {
     "name": "stdout",
     "output_type": "stream",
     "text": [
      "62/62 [==============================] - 3s 46ms/step - loss: 2.5287e-04 - root_mean_squared_error: 0.0159 - val_loss: 1.5561e-05 - val_root_mean_squared_error: 0.0039\n",
      "Epoch 53/100\n",
      "62/62 [==============================] - 0s 4ms/step - loss: 2.3543e-04 - root_mean_squared_error: 0.0153 - val_loss: 1.7066e-05 - val_root_mean_squared_error: 0.0041\n",
      "Epoch 54/100\n",
      "62/62 [==============================] - 0s 4ms/step - loss: 2.4938e-04 - root_mean_squared_error: 0.0158 - val_loss: 2.0927e-05 - val_root_mean_squared_error: 0.0046\n",
      "Epoch 55/100\n",
      "62/62 [==============================] - 0s 4ms/step - loss: 2.2273e-04 - root_mean_squared_error: 0.0149 - val_loss: 1.7446e-05 - val_root_mean_squared_error: 0.0042\n",
      "Epoch 56/100\n",
      "62/62 [==============================] - 0s 4ms/step - loss: 2.2086e-04 - root_mean_squared_error: 0.0149 - val_loss: 3.4673e-05 - val_root_mean_squared_error: 0.0059\n",
      "Epoch 57/100\n",
      "48/62 [======================>.......] - ETA: 0s - loss: 2.1458e-04 - root_mean_squared_error: 0.0146"
     ]
    },
    {
     "name": "stderr",
     "output_type": "stream",
     "text": [
      "WARNING:absl:Found untraced functions such as _update_step_xla, lstm_cell_layer_call_fn, lstm_cell_layer_call_and_return_conditional_losses while saving (showing 3 of 3). These functions will not be directly callable after loading.\n"
     ]
    },
    {
     "name": "stdout",
     "output_type": "stream",
     "text": [
      "INFO:tensorflow:Assets written to: mamfmodel\\assets\n"
     ]
    },
    {
     "name": "stderr",
     "output_type": "stream",
     "text": [
      "INFO:tensorflow:Assets written to: mamfmodel\\assets\n"
     ]
    },
    {
     "name": "stdout",
     "output_type": "stream",
     "text": [
      "62/62 [==============================] - 3s 50ms/step - loss: 2.1625e-04 - root_mean_squared_error: 0.0147 - val_loss: 1.4666e-05 - val_root_mean_squared_error: 0.0038\n",
      "Epoch 58/100\n",
      "55/62 [=========================>....] - ETA: 0s - loss: 2.0492e-04 - root_mean_squared_error: 0.0143"
     ]
    },
    {
     "name": "stderr",
     "output_type": "stream",
     "text": [
      "WARNING:absl:Found untraced functions such as _update_step_xla, lstm_cell_layer_call_fn, lstm_cell_layer_call_and_return_conditional_losses while saving (showing 3 of 3). These functions will not be directly callable after loading.\n"
     ]
    },
    {
     "name": "stdout",
     "output_type": "stream",
     "text": [
      "INFO:tensorflow:Assets written to: mamfmodel\\assets\n"
     ]
    },
    {
     "name": "stderr",
     "output_type": "stream",
     "text": [
      "INFO:tensorflow:Assets written to: mamfmodel\\assets\n"
     ]
    },
    {
     "name": "stdout",
     "output_type": "stream",
     "text": [
      "62/62 [==============================] - 3s 47ms/step - loss: 2.0207e-04 - root_mean_squared_error: 0.0142 - val_loss: 1.4424e-05 - val_root_mean_squared_error: 0.0038\n",
      "Epoch 59/100\n",
      "62/62 [==============================] - 0s 4ms/step - loss: 2.1302e-04 - root_mean_squared_error: 0.0146 - val_loss: 2.1641e-05 - val_root_mean_squared_error: 0.0047\n",
      "Epoch 60/100\n",
      "62/62 [==============================] - 0s 4ms/step - loss: 1.9964e-04 - root_mean_squared_error: 0.0141 - val_loss: 1.6064e-05 - val_root_mean_squared_error: 0.0040\n",
      "Epoch 61/100\n",
      "50/62 [=======================>......] - ETA: 0s - loss: 1.9902e-04 - root_mean_squared_error: 0.0141"
     ]
    },
    {
     "name": "stderr",
     "output_type": "stream",
     "text": [
      "WARNING:absl:Found untraced functions such as _update_step_xla, lstm_cell_layer_call_fn, lstm_cell_layer_call_and_return_conditional_losses while saving (showing 3 of 3). These functions will not be directly callable after loading.\n"
     ]
    },
    {
     "name": "stdout",
     "output_type": "stream",
     "text": [
      "INFO:tensorflow:Assets written to: mamfmodel\\assets\n"
     ]
    },
    {
     "name": "stderr",
     "output_type": "stream",
     "text": [
      "INFO:tensorflow:Assets written to: mamfmodel\\assets\n"
     ]
    },
    {
     "name": "stdout",
     "output_type": "stream",
     "text": [
      "62/62 [==============================] - 3s 51ms/step - loss: 1.9426e-04 - root_mean_squared_error: 0.0139 - val_loss: 1.4238e-05 - val_root_mean_squared_error: 0.0038\n",
      "Epoch 62/100\n",
      "62/62 [==============================] - 0s 4ms/step - loss: 2.1604e-04 - root_mean_squared_error: 0.0147 - val_loss: 1.6302e-05 - val_root_mean_squared_error: 0.0040\n",
      "Epoch 63/100\n",
      "62/62 [==============================] - 0s 4ms/step - loss: 2.1485e-04 - root_mean_squared_error: 0.0147 - val_loss: 2.3294e-05 - val_root_mean_squared_error: 0.0048\n",
      "Epoch 64/100\n",
      "62/62 [==============================] - 0s 4ms/step - loss: 1.9676e-04 - root_mean_squared_error: 0.0140 - val_loss: 1.4535e-05 - val_root_mean_squared_error: 0.0038\n",
      "Epoch 65/100\n",
      "51/62 [=======================>......] - ETA: 0s - loss: 1.8391e-04 - root_mean_squared_error: 0.0136"
     ]
    },
    {
     "name": "stderr",
     "output_type": "stream",
     "text": [
      "WARNING:absl:Found untraced functions such as _update_step_xla, lstm_cell_layer_call_fn, lstm_cell_layer_call_and_return_conditional_losses while saving (showing 3 of 3). These functions will not be directly callable after loading.\n"
     ]
    },
    {
     "name": "stdout",
     "output_type": "stream",
     "text": [
      "INFO:tensorflow:Assets written to: mamfmodel\\assets\n"
     ]
    },
    {
     "name": "stderr",
     "output_type": "stream",
     "text": [
      "INFO:tensorflow:Assets written to: mamfmodel\\assets\n"
     ]
    },
    {
     "name": "stdout",
     "output_type": "stream",
     "text": [
      "62/62 [==============================] - 3s 46ms/step - loss: 1.9055e-04 - root_mean_squared_error: 0.0138 - val_loss: 1.2957e-05 - val_root_mean_squared_error: 0.0036\n",
      "Epoch 66/100\n",
      "50/62 [=======================>......] - ETA: 0s - loss: 1.6876e-04 - root_mean_squared_error: 0.0130"
     ]
    },
    {
     "name": "stderr",
     "output_type": "stream",
     "text": [
      "WARNING:absl:Found untraced functions such as _update_step_xla, lstm_cell_layer_call_fn, lstm_cell_layer_call_and_return_conditional_losses while saving (showing 3 of 3). These functions will not be directly callable after loading.\n"
     ]
    },
    {
     "name": "stdout",
     "output_type": "stream",
     "text": [
      "INFO:tensorflow:Assets written to: mamfmodel\\assets\n"
     ]
    },
    {
     "name": "stderr",
     "output_type": "stream",
     "text": [
      "INFO:tensorflow:Assets written to: mamfmodel\\assets\n"
     ]
    },
    {
     "name": "stdout",
     "output_type": "stream",
     "text": [
      "62/62 [==============================] - 3s 47ms/step - loss: 1.7822e-04 - root_mean_squared_error: 0.0134 - val_loss: 1.2501e-05 - val_root_mean_squared_error: 0.0035\n",
      "Epoch 67/100\n",
      "62/62 [==============================] - 0s 4ms/step - loss: 1.8469e-04 - root_mean_squared_error: 0.0136 - val_loss: 1.6610e-05 - val_root_mean_squared_error: 0.0041\n",
      "Epoch 68/100\n",
      "62/62 [==============================] - 0s 4ms/step - loss: 2.0577e-04 - root_mean_squared_error: 0.0143 - val_loss: 1.2900e-05 - val_root_mean_squared_error: 0.0036\n",
      "Epoch 69/100\n",
      "62/62 [==============================] - 0s 4ms/step - loss: 1.7530e-04 - root_mean_squared_error: 0.0132 - val_loss: 2.4999e-05 - val_root_mean_squared_error: 0.0050\n",
      "Epoch 70/100\n",
      "62/62 [==============================] - 0s 4ms/step - loss: 1.6823e-04 - root_mean_squared_error: 0.0130 - val_loss: 1.5820e-05 - val_root_mean_squared_error: 0.0040\n",
      "Epoch 71/100\n",
      "62/62 [==============================] - 0s 4ms/step - loss: 1.8880e-04 - root_mean_squared_error: 0.0137 - val_loss: 1.5728e-05 - val_root_mean_squared_error: 0.0040\n",
      "Epoch 72/100\n",
      "62/62 [==============================] - 0s 4ms/step - loss: 1.7802e-04 - root_mean_squared_error: 0.0133 - val_loss: 4.3233e-05 - val_root_mean_squared_error: 0.0066\n",
      "Epoch 73/100\n",
      "62/62 [==============================] - 0s 4ms/step - loss: 1.7774e-04 - root_mean_squared_error: 0.0133 - val_loss: 1.4200e-05 - val_root_mean_squared_error: 0.0038\n",
      "Epoch 74/100\n",
      "49/62 [======================>.......] - ETA: 0s - loss: 1.6502e-04 - root_mean_squared_error: 0.0128"
     ]
    },
    {
     "name": "stderr",
     "output_type": "stream",
     "text": [
      "WARNING:absl:Found untraced functions such as _update_step_xla, lstm_cell_layer_call_fn, lstm_cell_layer_call_and_return_conditional_losses while saving (showing 3 of 3). These functions will not be directly callable after loading.\n"
     ]
    },
    {
     "name": "stdout",
     "output_type": "stream",
     "text": [
      "INFO:tensorflow:Assets written to: mamfmodel\\assets\n"
     ]
    },
    {
     "name": "stderr",
     "output_type": "stream",
     "text": [
      "INFO:tensorflow:Assets written to: mamfmodel\\assets\n"
     ]
    },
    {
     "name": "stdout",
     "output_type": "stream",
     "text": [
      "62/62 [==============================] - 3s 52ms/step - loss: 1.6167e-04 - root_mean_squared_error: 0.0127 - val_loss: 1.1423e-05 - val_root_mean_squared_error: 0.0034\n",
      "Epoch 75/100\n",
      "62/62 [==============================] - 0s 4ms/step - loss: 1.5948e-04 - root_mean_squared_error: 0.0126 - val_loss: 1.2222e-05 - val_root_mean_squared_error: 0.0035\n",
      "Epoch 76/100\n",
      "62/62 [==============================] - 0s 5ms/step - loss: 1.5072e-04 - root_mean_squared_error: 0.0123 - val_loss: 1.4537e-05 - val_root_mean_squared_error: 0.0038\n",
      "Epoch 77/100\n",
      "62/62 [==============================] - 0s 4ms/step - loss: 1.7536e-04 - root_mean_squared_error: 0.0132 - val_loss: 1.2656e-05 - val_root_mean_squared_error: 0.0036\n",
      "Epoch 78/100\n",
      "62/62 [==============================] - 0s 4ms/step - loss: 1.5558e-04 - root_mean_squared_error: 0.0125 - val_loss: 1.2295e-05 - val_root_mean_squared_error: 0.0035\n",
      "Epoch 79/100\n",
      "49/62 [======================>.......] - ETA: 0s - loss: 1.5108e-04 - root_mean_squared_error: 0.0123"
     ]
    },
    {
     "name": "stderr",
     "output_type": "stream",
     "text": [
      "WARNING:absl:Found untraced functions such as _update_step_xla, lstm_cell_layer_call_fn, lstm_cell_layer_call_and_return_conditional_losses while saving (showing 3 of 3). These functions will not be directly callable after loading.\n"
     ]
    },
    {
     "name": "stdout",
     "output_type": "stream",
     "text": [
      "INFO:tensorflow:Assets written to: mamfmodel\\assets\n"
     ]
    },
    {
     "name": "stderr",
     "output_type": "stream",
     "text": [
      "INFO:tensorflow:Assets written to: mamfmodel\\assets\n"
     ]
    },
    {
     "name": "stdout",
     "output_type": "stream",
     "text": [
      "62/62 [==============================] - 3s 50ms/step - loss: 1.5331e-04 - root_mean_squared_error: 0.0124 - val_loss: 1.1131e-05 - val_root_mean_squared_error: 0.0033\n",
      "Epoch 80/100\n",
      "62/62 [==============================] - 0s 4ms/step - loss: 1.5869e-04 - root_mean_squared_error: 0.0126 - val_loss: 1.5386e-05 - val_root_mean_squared_error: 0.0039\n",
      "Epoch 81/100\n",
      "62/62 [==============================] - 0s 5ms/step - loss: 1.7532e-04 - root_mean_squared_error: 0.0132 - val_loss: 1.3291e-05 - val_root_mean_squared_error: 0.0036\n",
      "Epoch 82/100\n",
      "62/62 [==============================] - ETA: 0s - loss: 1.4519e-04 - root_mean_squared_error: 0.0120"
     ]
    },
    {
     "name": "stderr",
     "output_type": "stream",
     "text": [
      "WARNING:absl:Found untraced functions such as _update_step_xla, lstm_cell_layer_call_fn, lstm_cell_layer_call_and_return_conditional_losses while saving (showing 3 of 3). These functions will not be directly callable after loading.\n"
     ]
    },
    {
     "name": "stdout",
     "output_type": "stream",
     "text": [
      "INFO:tensorflow:Assets written to: mamfmodel\\assets\n"
     ]
    },
    {
     "name": "stderr",
     "output_type": "stream",
     "text": [
      "INFO:tensorflow:Assets written to: mamfmodel\\assets\n"
     ]
    },
    {
     "name": "stdout",
     "output_type": "stream",
     "text": [
      "62/62 [==============================] - 3s 49ms/step - loss: 1.4519e-04 - root_mean_squared_error: 0.0120 - val_loss: 1.0786e-05 - val_root_mean_squared_error: 0.0033\n",
      "Epoch 83/100\n",
      "49/62 [======================>.......] - ETA: 0s - loss: 1.5159e-04 - root_mean_squared_error: 0.0123"
     ]
    },
    {
     "name": "stderr",
     "output_type": "stream",
     "text": [
      "WARNING:absl:Found untraced functions such as _update_step_xla, lstm_cell_layer_call_fn, lstm_cell_layer_call_and_return_conditional_losses while saving (showing 3 of 3). These functions will not be directly callable after loading.\n"
     ]
    },
    {
     "name": "stdout",
     "output_type": "stream",
     "text": [
      "INFO:tensorflow:Assets written to: mamfmodel\\assets\n"
     ]
    },
    {
     "name": "stderr",
     "output_type": "stream",
     "text": [
      "INFO:tensorflow:Assets written to: mamfmodel\\assets\n"
     ]
    },
    {
     "name": "stdout",
     "output_type": "stream",
     "text": [
      "62/62 [==============================] - 3s 52ms/step - loss: 1.5371e-04 - root_mean_squared_error: 0.0124 - val_loss: 1.0330e-05 - val_root_mean_squared_error: 0.0032\n",
      "Epoch 84/100\n",
      "62/62 [==============================] - 0s 4ms/step - loss: 1.4894e-04 - root_mean_squared_error: 0.0122 - val_loss: 1.1335e-05 - val_root_mean_squared_error: 0.0034\n",
      "Epoch 85/100\n",
      "60/62 [============================>.] - ETA: 0s - loss: 1.4776e-04 - root_mean_squared_error: 0.0122"
     ]
    },
    {
     "name": "stderr",
     "output_type": "stream",
     "text": [
      "WARNING:absl:Found untraced functions such as _update_step_xla, lstm_cell_layer_call_fn, lstm_cell_layer_call_and_return_conditional_losses while saving (showing 3 of 3). These functions will not be directly callable after loading.\n"
     ]
    },
    {
     "name": "stdout",
     "output_type": "stream",
     "text": [
      "INFO:tensorflow:Assets written to: mamfmodel\\assets\n"
     ]
    },
    {
     "name": "stderr",
     "output_type": "stream",
     "text": [
      "INFO:tensorflow:Assets written to: mamfmodel\\assets\n"
     ]
    },
    {
     "name": "stdout",
     "output_type": "stream",
     "text": [
      "62/62 [==============================] - 3s 48ms/step - loss: 1.4892e-04 - root_mean_squared_error: 0.0122 - val_loss: 1.0063e-05 - val_root_mean_squared_error: 0.0032\n",
      "Epoch 86/100\n",
      "62/62 [==============================] - 0s 4ms/step - loss: 1.5235e-04 - root_mean_squared_error: 0.0123 - val_loss: 1.0206e-05 - val_root_mean_squared_error: 0.0032\n",
      "Epoch 87/100\n",
      "62/62 [==============================] - 0s 4ms/step - loss: 1.5802e-04 - root_mean_squared_error: 0.0126 - val_loss: 1.4416e-05 - val_root_mean_squared_error: 0.0038\n",
      "Epoch 88/100\n",
      "62/62 [==============================] - 0s 5ms/step - loss: 1.6476e-04 - root_mean_squared_error: 0.0128 - val_loss: 1.0337e-05 - val_root_mean_squared_error: 0.0032\n",
      "Epoch 89/100\n",
      "62/62 [==============================] - 0s 6ms/step - loss: 1.4123e-04 - root_mean_squared_error: 0.0119 - val_loss: 1.4658e-05 - val_root_mean_squared_error: 0.0038\n",
      "Epoch 90/100\n",
      "62/62 [==============================] - 0s 5ms/step - loss: 1.5324e-04 - root_mean_squared_error: 0.0124 - val_loss: 1.3148e-05 - val_root_mean_squared_error: 0.0036\n",
      "Epoch 91/100\n",
      "62/62 [==============================] - 0s 5ms/step - loss: 1.3771e-04 - root_mean_squared_error: 0.0117 - val_loss: 1.0816e-05 - val_root_mean_squared_error: 0.0033\n",
      "Epoch 92/100\n",
      "62/62 [==============================] - 0s 4ms/step - loss: 1.3728e-04 - root_mean_squared_error: 0.0117 - val_loss: 2.3444e-05 - val_root_mean_squared_error: 0.0048\n",
      "Epoch 93/100\n",
      "52/62 [========================>.....] - ETA: 0s - loss: 1.3362e-04 - root_mean_squared_error: 0.0116"
     ]
    },
    {
     "name": "stderr",
     "output_type": "stream",
     "text": [
      "WARNING:absl:Found untraced functions such as _update_step_xla, lstm_cell_layer_call_fn, lstm_cell_layer_call_and_return_conditional_losses while saving (showing 3 of 3). These functions will not be directly callable after loading.\n"
     ]
    },
    {
     "name": "stdout",
     "output_type": "stream",
     "text": [
      "INFO:tensorflow:Assets written to: mamfmodel\\assets\n"
     ]
    },
    {
     "name": "stderr",
     "output_type": "stream",
     "text": [
      "INFO:tensorflow:Assets written to: mamfmodel\\assets\n"
     ]
    },
    {
     "name": "stdout",
     "output_type": "stream",
     "text": [
      "62/62 [==============================] - 3s 57ms/step - loss: 1.3650e-04 - root_mean_squared_error: 0.0117 - val_loss: 9.4297e-06 - val_root_mean_squared_error: 0.0031\n",
      "Epoch 94/100\n",
      "62/62 [==============================] - 0s 5ms/step - loss: 1.2970e-04 - root_mean_squared_error: 0.0114 - val_loss: 1.2927e-05 - val_root_mean_squared_error: 0.0036\n",
      "Epoch 95/100\n",
      "62/62 [==============================] - 0s 4ms/step - loss: 1.2857e-04 - root_mean_squared_error: 0.0113 - val_loss: 2.0526e-05 - val_root_mean_squared_error: 0.0045\n",
      "Epoch 96/100\n",
      "62/62 [==============================] - 0s 4ms/step - loss: 1.4264e-04 - root_mean_squared_error: 0.0119 - val_loss: 1.1705e-05 - val_root_mean_squared_error: 0.0034\n",
      "Epoch 97/100\n",
      "62/62 [==============================] - 0s 4ms/step - loss: 1.3809e-04 - root_mean_squared_error: 0.0118 - val_loss: 2.1553e-05 - val_root_mean_squared_error: 0.0046\n",
      "Epoch 98/100\n",
      "62/62 [==============================] - 0s 4ms/step - loss: 1.4109e-04 - root_mean_squared_error: 0.0119 - val_loss: 1.7784e-05 - val_root_mean_squared_error: 0.0042\n",
      "Epoch 99/100\n",
      "62/62 [==============================] - 0s 4ms/step - loss: 1.9129e-04 - root_mean_squared_error: 0.0138 - val_loss: 1.1269e-05 - val_root_mean_squared_error: 0.0034\n",
      "Epoch 100/100\n",
      "48/62 [======================>.......] - ETA: 0s - loss: 1.2952e-04 - root_mean_squared_error: 0.0114"
     ]
    },
    {
     "name": "stderr",
     "output_type": "stream",
     "text": [
      "WARNING:absl:Found untraced functions such as _update_step_xla, lstm_cell_layer_call_fn, lstm_cell_layer_call_and_return_conditional_losses while saving (showing 3 of 3). These functions will not be directly callable after loading.\n"
     ]
    },
    {
     "name": "stdout",
     "output_type": "stream",
     "text": [
      "INFO:tensorflow:Assets written to: mamfmodel\\assets\n"
     ]
    },
    {
     "name": "stderr",
     "output_type": "stream",
     "text": [
      "INFO:tensorflow:Assets written to: mamfmodel\\assets\n"
     ]
    },
    {
     "name": "stdout",
     "output_type": "stream",
     "text": [
      "62/62 [==============================] - 3s 49ms/step - loss: 1.2781e-04 - root_mean_squared_error: 0.0113 - val_loss: 9.0173e-06 - val_root_mean_squared_error: 0.0030\n"
     ]
    },
    {
     "data": {
      "text/plain": [
       "<keras.callbacks.History at 0x28fcb366470>"
      ]
     },
     "execution_count": 10,
     "metadata": {},
     "output_type": "execute_result"
    }
   ],
   "source": [
    "cp = tf.keras.callbacks.ModelCheckpoint('mamfmodel/', save_best_only=True)\n",
    "mamfmodel.compile(loss='mean_squared_error', optimizer='adam',metrics= tf.keras.metrics.RootMeanSquaredError())\n",
    "mamfmodel.fit(x_train, y_train, validation_data=(x_valid, y_valid), epochs=100, callbacks=[cp])"
   ]
  },
  {
   "cell_type": "code",
   "execution_count": 11,
   "metadata": {},
   "outputs": [
    {
     "name": "stdout",
     "output_type": "stream",
     "text": [
      "4/4 [==============================] - 0s 1ms/step\n"
     ]
    },
    {
     "data": {
      "image/png": "[encoded data removed]",
      "text/plain": [
       "<Figure size 640x480 with 1 Axes>"
      ]
     },
     "metadata": {},
     "output_type": "display_data"
    }
   ],
   "source": [
    "y_pred = mamfmodel.predict(x_test)\n",
    "y_predict = scaler.inverse_transform(y_pred)\n",
    "test_predict = scaler.inverse_transform(y_test)\n",
    "\n",
    "#print(y_pred)\n",
    "#print(x_plt_test)\n",
    "plt.plot(x_plt_test,test_predict)\n",
    "plt.plot(x_plt_test,y_predict)\n",
    "plt.show()"
   ]
  },
  {
   "cell_type": "code",
   "execution_count": 12,
   "metadata": {},
   "outputs": [
    {
     "name": "stdout",
     "output_type": "stream",
     "text": [
      "69/69 [==============================] - 0s 2ms/step\n",
      "(2180,) (2180, 1)\n"
     ]
    },
    {
     "data": {
      "image/png": "[encoded data removed]",
      "text/plain": [
       "<Figure size 640x480 with 1 Axes>"
      ]
     },
     "metadata": {},
     "output_type": "display_data"
    }
   ],
   "source": [
    "y_pred = mamfmodel.predict(x_series_def)\n",
    "y_predict = scaler.inverse_transform(y_pred)\n",
    "x_plot = x[10:]\n",
    "print(x_plot.shape, y_pred.shape)\n",
    "plt.plot(x,y)\n",
    "plt.plot(x_plot,y_predict)\n",
    "plt.show()"
   ]
  },
  {
   "cell_type": "code",
   "execution_count": 25,
   "metadata": {},
   "outputs": [
    {
     "name": "stdout",
     "output_type": "stream",
     "text": [
      "[[[0.02630504]]\n",
      "\n",
      " [[0.02549733]]\n",
      "\n",
      " [[0.02423699]]\n",
      "\n",
      " [[0.02709523]]\n",
      "\n",
      " [[0.02881167]]\n",
      "\n",
      " [[0.02822492]]\n",
      "\n",
      " [[0.02717787]]\n",
      "\n",
      " [[0.02754956]]\n",
      "\n",
      " [[0.02864104]]\n",
      "\n",
      " [[0.02840706]]]\n",
      "[0.02948226]\n",
      "1/1 [==============================] - 0s 26ms/step\n",
      "[[0.02549733 0.02423699 0.02709523 0.02881167 0.02822492 0.02717787\n",
      "  0.02754956 0.02864104 0.02840706 0.02948224]]\n"
     ]
    }
   ],
   "source": [
    "print(x_series_def[-1])\n",
    "print (y_pred[-1])\n",
    "last_series = np.array([x_series_def[-1]])\n",
    "pred = mamfmodel.predict(last_series).flatten()\n",
    "new_pred_series = np.delete(last_series, 0)\n",
    "new_pred_series = np.append(new_pred_series, pred)\n",
    "print(np.array([new_pred_series]))\n",
    "#pred = mamfmodel.predict().flatten()\n",
    "#print(y_pred[-1])\n"
   ]
  },
  {
   "cell_type": "code",
   "execution_count": 123,
   "metadata": {},
   "outputs": [
    {
     "name": "stdout",
     "output_type": "stream",
     "text": [
      "1/1 [==============================] - 0s 29ms/step\n",
      "1/1 [==============================] - 0s 28ms/step\n",
      "1/1 [==============================] - 0s 31ms/step\n",
      "1/1 [==============================] - 0s 28ms/step\n",
      "1/1 [==============================] - 0s 28ms/step\n",
      "1/1 [==============================] - 0s 29ms/step\n",
      "1/1 [==============================] - 0s 28ms/step\n",
      "1/1 [==============================] - 0s 28ms/step\n",
      "1/1 [==============================] - 0s 28ms/step\n",
      "1/1 [==============================] - 0s 28ms/step\n",
      "1/1 [==============================] - 0s 29ms/step\n",
      "1/1 [==============================] - 0s 28ms/step\n",
      "1/1 [==============================] - 0s 28ms/step\n",
      "(12,)\n",
      "[[0.03028936]\n",
      " [0.03113408]\n",
      " [0.03198642]\n",
      " [0.03282885]\n",
      " [0.03365555]\n",
      " [0.03446594]\n",
      " [0.03526028]\n",
      " [0.03603859]\n",
      " [0.03680142]\n",
      " [0.03755003]\n",
      " [0.03828435]\n",
      " [0.03900483]]\n"
     ]
    }
   ],
   "source": [
    "def bracket_list(list):\n",
    "    new_list = []\n",
    "    for value in range(len(list)):\n",
    "        new_value = [list[value]]\n",
    "        new_list.append(new_value)\n",
    "    return np.array([new_list])\n",
    "\n",
    "def predict_next_days(model_ker : tf.keras.models, data , days = 1, hours = 4):\n",
    "    new_data = data\n",
    "    last_days = []\n",
    "    last_series = np.array([data[-1]])\n",
    "    pred = mamfmodel.predict(last_series).flatten()\n",
    "    new_pred_series = np.delete(last_series, 0)\n",
    "    new_pred_series = np.append(new_pred_series, pred)\n",
    "    new_pred_series = bracket_list(new_pred_series)\n",
    "    last_series = new_pred_series\n",
    "    for i in range(days*hours):\n",
    "        pred = mamfmodel.predict(last_series).flatten()\n",
    "        new_pred_series = np.delete(last_series, 0)\n",
    "        new_pred_series = np.append(new_pred_series, pred)\n",
    "        new_pred_series = bracket_list(new_pred_series)\n",
    "        last_series = new_pred_series\n",
    "        last_days.append(pred)\n",
    "    return np.array(last_days)\n",
    "\n",
    "def add_days(x_ser, days = 1, hours = 4):\n",
    "    new_days = []\n",
    "    new_day = x_ser[-1] + 4*60*60*1000\n",
    "    #range_h = int(24/hours)\n",
    "    for i in range(days*hours):\n",
    "        new_days.append(new_day)\n",
    "        new_day += 4*60*60*1000\n",
    "    return np.array(new_days)\n",
    "\n",
    "\n",
    "#print(y_close.shape)\n",
    "x_next_days = add_days(x, days = 3 )\n",
    "y_next_pred = predict_next_days(mamfmodel, x_series_def , 3)\n",
    "print(x_next_days.shape)\n",
    "print(y_next_pred)"
   ]
  },
  {
   "cell_type": "code",
   "execution_count": null,
   "metadata": {},
   "outputs": [],
   "source": []
  }
 ],
 "metadata": {
  "kernelspec": {
   "display_name": "Python 3",
   "language": "python",
   "name": "python3"
  },
  "language_info": {
   "codemirror_mode": {
    "name": "ipython",
    "version": 3
   },
   "file_extension": ".py",
   "mimetype": "text/x-python",
   "name": "python",
   "nbconvert_exporter": "python",
   "pygments_lexer": "ipython3",
   "version": "3.10.9"
  },
  "orig_nbformat": 4,
  "vscode": {
   "interpreter": {
    "hash": "f027560aaa5d1370abb9f19c7c71f97861b7f9ee8178bcc1c644ee12e3f51f57"
   }
  }
 },
 "nbformat": 4,
 "nbformat_minor": 2
}
